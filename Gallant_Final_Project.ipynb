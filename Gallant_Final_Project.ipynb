{
 "cells": [
  {
   "cell_type": "code",
   "execution_count": 2,
   "metadata": {
    "scrolled": false
   },
   "outputs": [],
   "source": [
    "import dash\n",
    "import dash_core_components as dcc\n",
    "import dash_bootstrap_components as dbc\n",
    "import dash_html_components as html\n",
    "import plotly.express as px\n",
    "import plotly.graph_objects as go\n",
    "import pandas as pd"
   ]
  },
  {
   "cell_type": "code",
   "execution_count": 3,
   "metadata": {},
   "outputs": [
    {
     "data": {
      "text/plain": [
       "452.49"
      ]
     },
     "execution_count": 3,
     "metadata": {},
     "output_type": "execute_result"
    }
   ],
   "source": [
    "coastalcount = pd.read_csv('Synopsis Survey.csv')\n",
    "Total_percent_change= round(((coastalcount.loc[32]['Total']/coastalcount.loc[0]['Total'])*100),2)\n",
    "Total_percent_change"
   ]
  },
  {
   "cell_type": "code",
   "execution_count": null,
   "metadata": {
    "scrolled": false
   },
   "outputs": [],
   "source": [
    "coastalcount = pd.read_csv('Synopsis Survey.csv')\n",
    "coastalcountchart = px.line(coastalcount, x = \"Year\", y = ['Total','East', 'West'],\n",
    "                            color_discrete_sequence=['#f28482','#d4d4d4','#b6c5d1'], \n",
    "                            title = \"Manatee on the Florida Coasts\",\n",
    "                            labels={\"value\": \"Number of Manatees\", \"variable\": \"Coast\", \"Year\":''})\n",
    "coastalcountchart.update_layout(margin=dict(l=2, r=2, t=32, b=30),paper_bgcolor='#f1faee', plot_bgcolor = '#FFFFFF',  legend=dict(x=0,y=1.0,bgcolor='rgba(255, 255, 255, 0)'))\n",
    "coastalcountchart.add_annotation(x=2005, y=5500,\n",
    "            text=(\"Total Population Increase of \" + str(Total_percent_change) + \"%\"),\n",
    "            showarrow=False)\n",
    "coastalcountchart"
   ]
  },
  {
   "cell_type": "code",
   "execution_count": 5,
   "metadata": {
    "scrolled": false
   },
   "outputs": [
    {
     "data": {
      "text/plain": [
       "Year               12105\n",
       "Watercraft           654\n",
       "Flood/Gate Lock       32\n",
       "Other: Human          78\n",
       "Perinatal            619\n",
       "Cold Stress          270\n",
       "Natural              585\n",
       "Not Necropsied       540\n",
       "Undetermined         753\n",
       "Total               3531\n",
       "dtype: int64"
      ]
     },
     "execution_count": 5,
     "metadata": {},
     "output_type": "execute_result"
    }
   ],
   "source": [
    "mortalitycause = pd.read_csv('Manatee Mortality Rates.csv')\n",
    "mortalitycause\n",
    "mortalitycausesum = mortalitycause.sum(axis=0, skipna=True)\n",
    "mortalitycausesum "
   ]
  },
  {
   "cell_type": "code",
   "execution_count": 6,
   "metadata": {
    "scrolled": true
   },
   "outputs": [
    {
     "data": {
      "application/vnd.plotly.v1+json": {
       "config": {
        "plotlyServerURL": "https://plot.ly"
       },
       "data": [
        {
         "alignmentgroup": "True",
         "hovertemplate": "color=b<br>Cause of Death=%{x}<br>Number of Manatee Deaths=%{y}<extra></extra>",
         "legendgroup": "b",
         "marker": {
          "color": "#f28482"
         },
         "name": "b",
         "offsetgroup": "b",
         "orientation": "v",
         "showlegend": true,
         "textposition": "auto",
         "type": "bar",
         "x": [
          "Watercraft"
         ],
         "xaxis": "x",
         "y": [
          654
         ],
         "yaxis": "y"
        },
        {
         "alignmentgroup": "True",
         "hovertemplate": "color=a<br>Cause of Death=%{x}<br>Number of Manatee Deaths=%{y}<extra></extra>",
         "legendgroup": "a",
         "marker": {
          "color": "#e5e5e5"
         },
         "name": "a",
         "offsetgroup": "a",
         "orientation": "v",
         "showlegend": true,
         "textposition": "auto",
         "type": "bar",
         "x": [
          "Perinatal",
          "Natural",
          "Not Necropsied",
          "Cold Stress",
          "Other: Human",
          "Flood/Gate Lock"
         ],
         "xaxis": "x",
         "y": [
          619,
          585,
          540,
          270,
          78,
          32
         ],
         "yaxis": "y"
        }
       ],
       "layout": {
        "barmode": "relative",
        "legend": {
         "title": {
          "text": "color"
         },
         "tracegroupgap": 0
        },
        "margin": {
         "b": 30,
         "l": 2,
         "r": 2,
         "t": 32
        },
        "paper_bgcolor": "#f1faee",
        "plot_bgcolor": "#FFFFFF",
        "showlegend": false,
        "template": {
         "data": {
          "bar": [
           {
            "error_x": {
             "color": "#2a3f5f"
            },
            "error_y": {
             "color": "#2a3f5f"
            },
            "marker": {
             "line": {
              "color": "#E5ECF6",
              "width": 0.5
             }
            },
            "type": "bar"
           }
          ],
          "barpolar": [
           {
            "marker": {
             "line": {
              "color": "#E5ECF6",
              "width": 0.5
             }
            },
            "type": "barpolar"
           }
          ],
          "carpet": [
           {
            "aaxis": {
             "endlinecolor": "#2a3f5f",
             "gridcolor": "white",
             "linecolor": "white",
             "minorgridcolor": "white",
             "startlinecolor": "#2a3f5f"
            },
            "baxis": {
             "endlinecolor": "#2a3f5f",
             "gridcolor": "white",
             "linecolor": "white",
             "minorgridcolor": "white",
             "startlinecolor": "#2a3f5f"
            },
            "type": "carpet"
           }
          ],
          "choropleth": [
           {
            "colorbar": {
             "outlinewidth": 0,
             "ticks": ""
            },
            "type": "choropleth"
           }
          ],
          "contour": [
           {
            "colorbar": {
             "outlinewidth": 0,
             "ticks": ""
            },
            "colorscale": [
             [
              0,
              "#0d0887"
             ],
             [
              0.1111111111111111,
              "#46039f"
             ],
             [
              0.2222222222222222,
              "#7201a8"
             ],
             [
              0.3333333333333333,
              "#9c179e"
             ],
             [
              0.4444444444444444,
              "#bd3786"
             ],
             [
              0.5555555555555556,
              "#d8576b"
             ],
             [
              0.6666666666666666,
              "#ed7953"
             ],
             [
              0.7777777777777778,
              "#fb9f3a"
             ],
             [
              0.8888888888888888,
              "#fdca26"
             ],
             [
              1,
              "#f0f921"
             ]
            ],
            "type": "contour"
           }
          ],
          "contourcarpet": [
           {
            "colorbar": {
             "outlinewidth": 0,
             "ticks": ""
            },
            "type": "contourcarpet"
           }
          ],
          "heatmap": [
           {
            "colorbar": {
             "outlinewidth": 0,
             "ticks": ""
            },
            "colorscale": [
             [
              0,
              "#0d0887"
             ],
             [
              0.1111111111111111,
              "#46039f"
             ],
             [
              0.2222222222222222,
              "#7201a8"
             ],
             [
              0.3333333333333333,
              "#9c179e"
             ],
             [
              0.4444444444444444,
              "#bd3786"
             ],
             [
              0.5555555555555556,
              "#d8576b"
             ],
             [
              0.6666666666666666,
              "#ed7953"
             ],
             [
              0.7777777777777778,
              "#fb9f3a"
             ],
             [
              0.8888888888888888,
              "#fdca26"
             ],
             [
              1,
              "#f0f921"
             ]
            ],
            "type": "heatmap"
           }
          ],
          "heatmapgl": [
           {
            "colorbar": {
             "outlinewidth": 0,
             "ticks": ""
            },
            "colorscale": [
             [
              0,
              "#0d0887"
             ],
             [
              0.1111111111111111,
              "#46039f"
             ],
             [
              0.2222222222222222,
              "#7201a8"
             ],
             [
              0.3333333333333333,
              "#9c179e"
             ],
             [
              0.4444444444444444,
              "#bd3786"
             ],
             [
              0.5555555555555556,
              "#d8576b"
             ],
             [
              0.6666666666666666,
              "#ed7953"
             ],
             [
              0.7777777777777778,
              "#fb9f3a"
             ],
             [
              0.8888888888888888,
              "#fdca26"
             ],
             [
              1,
              "#f0f921"
             ]
            ],
            "type": "heatmapgl"
           }
          ],
          "histogram": [
           {
            "marker": {
             "colorbar": {
              "outlinewidth": 0,
              "ticks": ""
             }
            },
            "type": "histogram"
           }
          ],
          "histogram2d": [
           {
            "colorbar": {
             "outlinewidth": 0,
             "ticks": ""
            },
            "colorscale": [
             [
              0,
              "#0d0887"
             ],
             [
              0.1111111111111111,
              "#46039f"
             ],
             [
              0.2222222222222222,
              "#7201a8"
             ],
             [
              0.3333333333333333,
              "#9c179e"
             ],
             [
              0.4444444444444444,
              "#bd3786"
             ],
             [
              0.5555555555555556,
              "#d8576b"
             ],
             [
              0.6666666666666666,
              "#ed7953"
             ],
             [
              0.7777777777777778,
              "#fb9f3a"
             ],
             [
              0.8888888888888888,
              "#fdca26"
             ],
             [
              1,
              "#f0f921"
             ]
            ],
            "type": "histogram2d"
           }
          ],
          "histogram2dcontour": [
           {
            "colorbar": {
             "outlinewidth": 0,
             "ticks": ""
            },
            "colorscale": [
             [
              0,
              "#0d0887"
             ],
             [
              0.1111111111111111,
              "#46039f"
             ],
             [
              0.2222222222222222,
              "#7201a8"
             ],
             [
              0.3333333333333333,
              "#9c179e"
             ],
             [
              0.4444444444444444,
              "#bd3786"
             ],
             [
              0.5555555555555556,
              "#d8576b"
             ],
             [
              0.6666666666666666,
              "#ed7953"
             ],
             [
              0.7777777777777778,
              "#fb9f3a"
             ],
             [
              0.8888888888888888,
              "#fdca26"
             ],
             [
              1,
              "#f0f921"
             ]
            ],
            "type": "histogram2dcontour"
           }
          ],
          "mesh3d": [
           {
            "colorbar": {
             "outlinewidth": 0,
             "ticks": ""
            },
            "type": "mesh3d"
           }
          ],
          "parcoords": [
           {
            "line": {
             "colorbar": {
              "outlinewidth": 0,
              "ticks": ""
             }
            },
            "type": "parcoords"
           }
          ],
          "pie": [
           {
            "automargin": true,
            "type": "pie"
           }
          ],
          "scatter": [
           {
            "marker": {
             "colorbar": {
              "outlinewidth": 0,
              "ticks": ""
             }
            },
            "type": "scatter"
           }
          ],
          "scatter3d": [
           {
            "line": {
             "colorbar": {
              "outlinewidth": 0,
              "ticks": ""
             }
            },
            "marker": {
             "colorbar": {
              "outlinewidth": 0,
              "ticks": ""
             }
            },
            "type": "scatter3d"
           }
          ],
          "scattercarpet": [
           {
            "marker": {
             "colorbar": {
              "outlinewidth": 0,
              "ticks": ""
             }
            },
            "type": "scattercarpet"
           }
          ],
          "scattergeo": [
           {
            "marker": {
             "colorbar": {
              "outlinewidth": 0,
              "ticks": ""
             }
            },
            "type": "scattergeo"
           }
          ],
          "scattergl": [
           {
            "marker": {
             "colorbar": {
              "outlinewidth": 0,
              "ticks": ""
             }
            },
            "type": "scattergl"
           }
          ],
          "scattermapbox": [
           {
            "marker": {
             "colorbar": {
              "outlinewidth": 0,
              "ticks": ""
             }
            },
            "type": "scattermapbox"
           }
          ],
          "scatterpolar": [
           {
            "marker": {
             "colorbar": {
              "outlinewidth": 0,
              "ticks": ""
             }
            },
            "type": "scatterpolar"
           }
          ],
          "scatterpolargl": [
           {
            "marker": {
             "colorbar": {
              "outlinewidth": 0,
              "ticks": ""
             }
            },
            "type": "scatterpolargl"
           }
          ],
          "scatterternary": [
           {
            "marker": {
             "colorbar": {
              "outlinewidth": 0,
              "ticks": ""
             }
            },
            "type": "scatterternary"
           }
          ],
          "surface": [
           {
            "colorbar": {
             "outlinewidth": 0,
             "ticks": ""
            },
            "colorscale": [
             [
              0,
              "#0d0887"
             ],
             [
              0.1111111111111111,
              "#46039f"
             ],
             [
              0.2222222222222222,
              "#7201a8"
             ],
             [
              0.3333333333333333,
              "#9c179e"
             ],
             [
              0.4444444444444444,
              "#bd3786"
             ],
             [
              0.5555555555555556,
              "#d8576b"
             ],
             [
              0.6666666666666666,
              "#ed7953"
             ],
             [
              0.7777777777777778,
              "#fb9f3a"
             ],
             [
              0.8888888888888888,
              "#fdca26"
             ],
             [
              1,
              "#f0f921"
             ]
            ],
            "type": "surface"
           }
          ],
          "table": [
           {
            "cells": {
             "fill": {
              "color": "#EBF0F8"
             },
             "line": {
              "color": "white"
             }
            },
            "header": {
             "fill": {
              "color": "#C8D4E3"
             },
             "line": {
              "color": "white"
             }
            },
            "type": "table"
           }
          ]
         },
         "layout": {
          "annotationdefaults": {
           "arrowcolor": "#2a3f5f",
           "arrowhead": 0,
           "arrowwidth": 1
          },
          "autotypenumbers": "strict",
          "coloraxis": {
           "colorbar": {
            "outlinewidth": 0,
            "ticks": ""
           }
          },
          "colorscale": {
           "diverging": [
            [
             0,
             "#8e0152"
            ],
            [
             0.1,
             "#c51b7d"
            ],
            [
             0.2,
             "#de77ae"
            ],
            [
             0.3,
             "#f1b6da"
            ],
            [
             0.4,
             "#fde0ef"
            ],
            [
             0.5,
             "#f7f7f7"
            ],
            [
             0.6,
             "#e6f5d0"
            ],
            [
             0.7,
             "#b8e186"
            ],
            [
             0.8,
             "#7fbc41"
            ],
            [
             0.9,
             "#4d9221"
            ],
            [
             1,
             "#276419"
            ]
           ],
           "sequential": [
            [
             0,
             "#0d0887"
            ],
            [
             0.1111111111111111,
             "#46039f"
            ],
            [
             0.2222222222222222,
             "#7201a8"
            ],
            [
             0.3333333333333333,
             "#9c179e"
            ],
            [
             0.4444444444444444,
             "#bd3786"
            ],
            [
             0.5555555555555556,
             "#d8576b"
            ],
            [
             0.6666666666666666,
             "#ed7953"
            ],
            [
             0.7777777777777778,
             "#fb9f3a"
            ],
            [
             0.8888888888888888,
             "#fdca26"
            ],
            [
             1,
             "#f0f921"
            ]
           ],
           "sequentialminus": [
            [
             0,
             "#0d0887"
            ],
            [
             0.1111111111111111,
             "#46039f"
            ],
            [
             0.2222222222222222,
             "#7201a8"
            ],
            [
             0.3333333333333333,
             "#9c179e"
            ],
            [
             0.4444444444444444,
             "#bd3786"
            ],
            [
             0.5555555555555556,
             "#d8576b"
            ],
            [
             0.6666666666666666,
             "#ed7953"
            ],
            [
             0.7777777777777778,
             "#fb9f3a"
            ],
            [
             0.8888888888888888,
             "#fdca26"
            ],
            [
             1,
             "#f0f921"
            ]
           ]
          },
          "colorway": [
           "#636efa",
           "#EF553B",
           "#00cc96",
           "#ab63fa",
           "#FFA15A",
           "#19d3f3",
           "#FF6692",
           "#B6E880",
           "#FF97FF",
           "#FECB52"
          ],
          "font": {
           "color": "#2a3f5f"
          },
          "geo": {
           "bgcolor": "white",
           "lakecolor": "white",
           "landcolor": "#E5ECF6",
           "showlakes": true,
           "showland": true,
           "subunitcolor": "white"
          },
          "hoverlabel": {
           "align": "left"
          },
          "hovermode": "closest",
          "mapbox": {
           "style": "light"
          },
          "paper_bgcolor": "white",
          "plot_bgcolor": "#E5ECF6",
          "polar": {
           "angularaxis": {
            "gridcolor": "white",
            "linecolor": "white",
            "ticks": ""
           },
           "bgcolor": "#E5ECF6",
           "radialaxis": {
            "gridcolor": "white",
            "linecolor": "white",
            "ticks": ""
           }
          },
          "scene": {
           "xaxis": {
            "backgroundcolor": "#E5ECF6",
            "gridcolor": "white",
            "gridwidth": 2,
            "linecolor": "white",
            "showbackground": true,
            "ticks": "",
            "zerolinecolor": "white"
           },
           "yaxis": {
            "backgroundcolor": "#E5ECF6",
            "gridcolor": "white",
            "gridwidth": 2,
            "linecolor": "white",
            "showbackground": true,
            "ticks": "",
            "zerolinecolor": "white"
           },
           "zaxis": {
            "backgroundcolor": "#E5ECF6",
            "gridcolor": "white",
            "gridwidth": 2,
            "linecolor": "white",
            "showbackground": true,
            "ticks": "",
            "zerolinecolor": "white"
           }
          },
          "shapedefaults": {
           "line": {
            "color": "#2a3f5f"
           }
          },
          "ternary": {
           "aaxis": {
            "gridcolor": "white",
            "linecolor": "white",
            "ticks": ""
           },
           "baxis": {
            "gridcolor": "white",
            "linecolor": "white",
            "ticks": ""
           },
           "bgcolor": "#E5ECF6",
           "caxis": {
            "gridcolor": "white",
            "linecolor": "white",
            "ticks": ""
           }
          },
          "title": {
           "x": 0.05
          },
          "xaxis": {
           "automargin": true,
           "gridcolor": "white",
           "linecolor": "white",
           "ticks": "",
           "title": {
            "standoff": 15
           },
           "zerolinecolor": "white",
           "zerolinewidth": 2
          },
          "yaxis": {
           "automargin": true,
           "gridcolor": "white",
           "linecolor": "white",
           "ticks": "",
           "title": {
            "standoff": 15
           },
           "zerolinecolor": "white",
           "zerolinewidth": 2
          }
         }
        },
        "title": {
         "text": "Watercrafts are the number one cause of Manatee death"
        },
        "xaxis": {
         "anchor": "y",
         "domain": [
          0,
          1
         ],
         "title": {
          "text": "Cause of Death"
         }
        },
        "yaxis": {
         "anchor": "x",
         "domain": [
          0,
          1
         ],
         "title": {
          "text": "Number of Manatee Deaths"
         }
        }
       }
      },
      "text/html": [
       "<div>                            <div id=\"771b45ad-93d9-417c-9b5a-3cd7d7fdb327\" class=\"plotly-graph-div\" style=\"height:525px; width:100%;\"></div>            <script type=\"text/javascript\">                require([\"plotly\"], function(Plotly) {                    window.PLOTLYENV=window.PLOTLYENV || {};                                    if (document.getElementById(\"771b45ad-93d9-417c-9b5a-3cd7d7fdb327\")) {                    Plotly.newPlot(                        \"771b45ad-93d9-417c-9b5a-3cd7d7fdb327\",                        [{\"alignmentgroup\": \"True\", \"hovertemplate\": \"color=b<br>Cause of Death=%{x}<br>Number of Manatee Deaths=%{y}<extra></extra>\", \"legendgroup\": \"b\", \"marker\": {\"color\": \"#f28482\"}, \"name\": \"b\", \"offsetgroup\": \"b\", \"orientation\": \"v\", \"showlegend\": true, \"textposition\": \"auto\", \"type\": \"bar\", \"x\": [\"Watercraft\"], \"xaxis\": \"x\", \"y\": [654], \"yaxis\": \"y\"}, {\"alignmentgroup\": \"True\", \"hovertemplate\": \"color=a<br>Cause of Death=%{x}<br>Number of Manatee Deaths=%{y}<extra></extra>\", \"legendgroup\": \"a\", \"marker\": {\"color\": \"#e5e5e5\"}, \"name\": \"a\", \"offsetgroup\": \"a\", \"orientation\": \"v\", \"showlegend\": true, \"textposition\": \"auto\", \"type\": \"bar\", \"x\": [\"Perinatal\", \"Natural\", \"Not Necropsied\", \"Cold Stress\", \"Other: Human\", \"Flood/Gate Lock\"], \"xaxis\": \"x\", \"y\": [619, 585, 540, 270, 78, 32], \"yaxis\": \"y\"}],                        {\"barmode\": \"relative\", \"legend\": {\"title\": {\"text\": \"color\"}, \"tracegroupgap\": 0}, \"margin\": {\"b\": 30, \"l\": 2, \"r\": 2, \"t\": 32}, \"paper_bgcolor\": \"#f1faee\", \"plot_bgcolor\": \"#FFFFFF\", \"showlegend\": false, \"template\": {\"data\": {\"bar\": [{\"error_x\": {\"color\": \"#2a3f5f\"}, \"error_y\": {\"color\": \"#2a3f5f\"}, \"marker\": {\"line\": {\"color\": \"#E5ECF6\", \"width\": 0.5}}, \"type\": \"bar\"}], \"barpolar\": [{\"marker\": {\"line\": {\"color\": \"#E5ECF6\", \"width\": 0.5}}, \"type\": \"barpolar\"}], \"carpet\": [{\"aaxis\": {\"endlinecolor\": \"#2a3f5f\", \"gridcolor\": \"white\", \"linecolor\": \"white\", \"minorgridcolor\": \"white\", \"startlinecolor\": \"#2a3f5f\"}, \"baxis\": {\"endlinecolor\": \"#2a3f5f\", \"gridcolor\": \"white\", \"linecolor\": \"white\", \"minorgridcolor\": \"white\", \"startlinecolor\": \"#2a3f5f\"}, \"type\": \"carpet\"}], \"choropleth\": [{\"colorbar\": {\"outlinewidth\": 0, \"ticks\": \"\"}, \"type\": \"choropleth\"}], \"contour\": [{\"colorbar\": {\"outlinewidth\": 0, \"ticks\": \"\"}, \"colorscale\": [[0.0, \"#0d0887\"], [0.1111111111111111, \"#46039f\"], [0.2222222222222222, \"#7201a8\"], [0.3333333333333333, \"#9c179e\"], [0.4444444444444444, \"#bd3786\"], [0.5555555555555556, \"#d8576b\"], [0.6666666666666666, \"#ed7953\"], [0.7777777777777778, \"#fb9f3a\"], [0.8888888888888888, \"#fdca26\"], [1.0, \"#f0f921\"]], \"type\": \"contour\"}], \"contourcarpet\": [{\"colorbar\": {\"outlinewidth\": 0, \"ticks\": \"\"}, \"type\": \"contourcarpet\"}], \"heatmap\": [{\"colorbar\": {\"outlinewidth\": 0, \"ticks\": \"\"}, \"colorscale\": [[0.0, \"#0d0887\"], [0.1111111111111111, \"#46039f\"], [0.2222222222222222, \"#7201a8\"], [0.3333333333333333, \"#9c179e\"], [0.4444444444444444, \"#bd3786\"], [0.5555555555555556, \"#d8576b\"], [0.6666666666666666, \"#ed7953\"], [0.7777777777777778, \"#fb9f3a\"], [0.8888888888888888, \"#fdca26\"], [1.0, \"#f0f921\"]], \"type\": \"heatmap\"}], \"heatmapgl\": [{\"colorbar\": {\"outlinewidth\": 0, \"ticks\": \"\"}, \"colorscale\": [[0.0, \"#0d0887\"], [0.1111111111111111, \"#46039f\"], [0.2222222222222222, \"#7201a8\"], [0.3333333333333333, \"#9c179e\"], [0.4444444444444444, \"#bd3786\"], [0.5555555555555556, \"#d8576b\"], [0.6666666666666666, \"#ed7953\"], [0.7777777777777778, \"#fb9f3a\"], [0.8888888888888888, \"#fdca26\"], [1.0, \"#f0f921\"]], \"type\": \"heatmapgl\"}], \"histogram\": [{\"marker\": {\"colorbar\": {\"outlinewidth\": 0, \"ticks\": \"\"}}, \"type\": \"histogram\"}], \"histogram2d\": [{\"colorbar\": {\"outlinewidth\": 0, \"ticks\": \"\"}, \"colorscale\": [[0.0, \"#0d0887\"], [0.1111111111111111, \"#46039f\"], [0.2222222222222222, \"#7201a8\"], [0.3333333333333333, \"#9c179e\"], [0.4444444444444444, \"#bd3786\"], [0.5555555555555556, \"#d8576b\"], [0.6666666666666666, \"#ed7953\"], [0.7777777777777778, \"#fb9f3a\"], [0.8888888888888888, \"#fdca26\"], [1.0, \"#f0f921\"]], \"type\": \"histogram2d\"}], \"histogram2dcontour\": [{\"colorbar\": {\"outlinewidth\": 0, \"ticks\": \"\"}, \"colorscale\": [[0.0, \"#0d0887\"], [0.1111111111111111, \"#46039f\"], [0.2222222222222222, \"#7201a8\"], [0.3333333333333333, \"#9c179e\"], [0.4444444444444444, \"#bd3786\"], [0.5555555555555556, \"#d8576b\"], [0.6666666666666666, \"#ed7953\"], [0.7777777777777778, \"#fb9f3a\"], [0.8888888888888888, \"#fdca26\"], [1.0, \"#f0f921\"]], \"type\": \"histogram2dcontour\"}], \"mesh3d\": [{\"colorbar\": {\"outlinewidth\": 0, \"ticks\": \"\"}, \"type\": \"mesh3d\"}], \"parcoords\": [{\"line\": {\"colorbar\": {\"outlinewidth\": 0, \"ticks\": \"\"}}, \"type\": \"parcoords\"}], \"pie\": [{\"automargin\": true, \"type\": \"pie\"}], \"scatter\": [{\"marker\": {\"colorbar\": {\"outlinewidth\": 0, \"ticks\": \"\"}}, \"type\": \"scatter\"}], \"scatter3d\": [{\"line\": {\"colorbar\": {\"outlinewidth\": 0, \"ticks\": \"\"}}, \"marker\": {\"colorbar\": {\"outlinewidth\": 0, \"ticks\": \"\"}}, \"type\": \"scatter3d\"}], \"scattercarpet\": [{\"marker\": {\"colorbar\": {\"outlinewidth\": 0, \"ticks\": \"\"}}, \"type\": \"scattercarpet\"}], \"scattergeo\": [{\"marker\": {\"colorbar\": {\"outlinewidth\": 0, \"ticks\": \"\"}}, \"type\": \"scattergeo\"}], \"scattergl\": [{\"marker\": {\"colorbar\": {\"outlinewidth\": 0, \"ticks\": \"\"}}, \"type\": \"scattergl\"}], \"scattermapbox\": [{\"marker\": {\"colorbar\": {\"outlinewidth\": 0, \"ticks\": \"\"}}, \"type\": \"scattermapbox\"}], \"scatterpolar\": [{\"marker\": {\"colorbar\": {\"outlinewidth\": 0, \"ticks\": \"\"}}, \"type\": \"scatterpolar\"}], \"scatterpolargl\": [{\"marker\": {\"colorbar\": {\"outlinewidth\": 0, \"ticks\": \"\"}}, \"type\": \"scatterpolargl\"}], \"scatterternary\": [{\"marker\": {\"colorbar\": {\"outlinewidth\": 0, \"ticks\": \"\"}}, \"type\": \"scatterternary\"}], \"surface\": [{\"colorbar\": {\"outlinewidth\": 0, \"ticks\": \"\"}, \"colorscale\": [[0.0, \"#0d0887\"], [0.1111111111111111, \"#46039f\"], [0.2222222222222222, \"#7201a8\"], [0.3333333333333333, \"#9c179e\"], [0.4444444444444444, \"#bd3786\"], [0.5555555555555556, \"#d8576b\"], [0.6666666666666666, \"#ed7953\"], [0.7777777777777778, \"#fb9f3a\"], [0.8888888888888888, \"#fdca26\"], [1.0, \"#f0f921\"]], \"type\": \"surface\"}], \"table\": [{\"cells\": {\"fill\": {\"color\": \"#EBF0F8\"}, \"line\": {\"color\": \"white\"}}, \"header\": {\"fill\": {\"color\": \"#C8D4E3\"}, \"line\": {\"color\": \"white\"}}, \"type\": \"table\"}]}, \"layout\": {\"annotationdefaults\": {\"arrowcolor\": \"#2a3f5f\", \"arrowhead\": 0, \"arrowwidth\": 1}, \"autotypenumbers\": \"strict\", \"coloraxis\": {\"colorbar\": {\"outlinewidth\": 0, \"ticks\": \"\"}}, \"colorscale\": {\"diverging\": [[0, \"#8e0152\"], [0.1, \"#c51b7d\"], [0.2, \"#de77ae\"], [0.3, \"#f1b6da\"], [0.4, \"#fde0ef\"], [0.5, \"#f7f7f7\"], [0.6, \"#e6f5d0\"], [0.7, \"#b8e186\"], [0.8, \"#7fbc41\"], [0.9, \"#4d9221\"], [1, \"#276419\"]], \"sequential\": [[0.0, \"#0d0887\"], [0.1111111111111111, \"#46039f\"], [0.2222222222222222, \"#7201a8\"], [0.3333333333333333, \"#9c179e\"], [0.4444444444444444, \"#bd3786\"], [0.5555555555555556, \"#d8576b\"], [0.6666666666666666, \"#ed7953\"], [0.7777777777777778, \"#fb9f3a\"], [0.8888888888888888, \"#fdca26\"], [1.0, \"#f0f921\"]], \"sequentialminus\": [[0.0, \"#0d0887\"], [0.1111111111111111, \"#46039f\"], [0.2222222222222222, \"#7201a8\"], [0.3333333333333333, \"#9c179e\"], [0.4444444444444444, \"#bd3786\"], [0.5555555555555556, \"#d8576b\"], [0.6666666666666666, \"#ed7953\"], [0.7777777777777778, \"#fb9f3a\"], [0.8888888888888888, \"#fdca26\"], [1.0, \"#f0f921\"]]}, \"colorway\": [\"#636efa\", \"#EF553B\", \"#00cc96\", \"#ab63fa\", \"#FFA15A\", \"#19d3f3\", \"#FF6692\", \"#B6E880\", \"#FF97FF\", \"#FECB52\"], \"font\": {\"color\": \"#2a3f5f\"}, \"geo\": {\"bgcolor\": \"white\", \"lakecolor\": \"white\", \"landcolor\": \"#E5ECF6\", \"showlakes\": true, \"showland\": true, \"subunitcolor\": \"white\"}, \"hoverlabel\": {\"align\": \"left\"}, \"hovermode\": \"closest\", \"mapbox\": {\"style\": \"light\"}, \"paper_bgcolor\": \"white\", \"plot_bgcolor\": \"#E5ECF6\", \"polar\": {\"angularaxis\": {\"gridcolor\": \"white\", \"linecolor\": \"white\", \"ticks\": \"\"}, \"bgcolor\": \"#E5ECF6\", \"radialaxis\": {\"gridcolor\": \"white\", \"linecolor\": \"white\", \"ticks\": \"\"}}, \"scene\": {\"xaxis\": {\"backgroundcolor\": \"#E5ECF6\", \"gridcolor\": \"white\", \"gridwidth\": 2, \"linecolor\": \"white\", \"showbackground\": true, \"ticks\": \"\", \"zerolinecolor\": \"white\"}, \"yaxis\": {\"backgroundcolor\": \"#E5ECF6\", \"gridcolor\": \"white\", \"gridwidth\": 2, \"linecolor\": \"white\", \"showbackground\": true, \"ticks\": \"\", \"zerolinecolor\": \"white\"}, \"zaxis\": {\"backgroundcolor\": \"#E5ECF6\", \"gridcolor\": \"white\", \"gridwidth\": 2, \"linecolor\": \"white\", \"showbackground\": true, \"ticks\": \"\", \"zerolinecolor\": \"white\"}}, \"shapedefaults\": {\"line\": {\"color\": \"#2a3f5f\"}}, \"ternary\": {\"aaxis\": {\"gridcolor\": \"white\", \"linecolor\": \"white\", \"ticks\": \"\"}, \"baxis\": {\"gridcolor\": \"white\", \"linecolor\": \"white\", \"ticks\": \"\"}, \"bgcolor\": \"#E5ECF6\", \"caxis\": {\"gridcolor\": \"white\", \"linecolor\": \"white\", \"ticks\": \"\"}}, \"title\": {\"x\": 0.05}, \"xaxis\": {\"automargin\": true, \"gridcolor\": \"white\", \"linecolor\": \"white\", \"ticks\": \"\", \"title\": {\"standoff\": 15}, \"zerolinecolor\": \"white\", \"zerolinewidth\": 2}, \"yaxis\": {\"automargin\": true, \"gridcolor\": \"white\", \"linecolor\": \"white\", \"ticks\": \"\", \"title\": {\"standoff\": 15}, \"zerolinecolor\": \"white\", \"zerolinewidth\": 2}}}, \"title\": {\"text\": \"Watercrafts are the number one cause of Manatee death\"}, \"xaxis\": {\"anchor\": \"y\", \"domain\": [0.0, 1.0], \"title\": {\"text\": \"Cause of Death\"}}, \"yaxis\": {\"anchor\": \"x\", \"domain\": [0.0, 1.0], \"title\": {\"text\": \"Number of Manatee Deaths\"}}},                        {\"responsive\": true}                    ).then(function(){\n",
       "                            \n",
       "var gd = document.getElementById('771b45ad-93d9-417c-9b5a-3cd7d7fdb327');\n",
       "var x = new MutationObserver(function (mutations, observer) {{\n",
       "        var display = window.getComputedStyle(gd).display;\n",
       "        if (!display || display === 'none') {{\n",
       "            console.log([gd, 'removed!']);\n",
       "            Plotly.purge(gd);\n",
       "            observer.disconnect();\n",
       "        }}\n",
       "}});\n",
       "\n",
       "// Listen for the removal of the full notebook cells\n",
       "var notebookContainer = gd.closest('#notebook-container');\n",
       "if (notebookContainer) {{\n",
       "    x.observe(notebookContainer, {childList: true});\n",
       "}}\n",
       "\n",
       "// Listen for the clearing of the current output cell\n",
       "var outputEl = gd.closest('.output');\n",
       "if (outputEl) {{\n",
       "    x.observe(outputEl, {childList: true});\n",
       "}}\n",
       "\n",
       "                        })                };                });            </script>        </div>"
      ]
     },
     "metadata": {},
     "output_type": "display_data"
    }
   ],
   "source": [
    "colors = ['a',] * 7 \n",
    "colors[0] = 'b'\n",
    "mortalitycausechart = px.bar(x = ['Watercraft', 'Perinatal', 'Natural', 'Not Necropsied', 'Cold Stress', 'Other: Human', 'Flood/Gate Lock'], y = [654,619,585,540,270,78,32], labels={\"x\": \"Cause of Death\", \"y\": \"Number of Manatee Deaths\"}, color = colors, color_discrete_sequence = ['#f28482','#e5e5e5'], title = 'Watercrafts are the number one cause of Manatee death')\n",
    "mortalitycausechart.update_layout(margin=dict(l=2, r=2, t=32, b=30),paper_bgcolor='#f1faee', plot_bgcolor = '#FFFFFF', showlegend=False)\n",
    "mortalitycausechart"
   ]
  },
  {
   "cell_type": "code",
   "execution_count": 7,
   "metadata": {},
   "outputs": [
    {
     "data": {
      "text/html": [
       "<div>\n",
       "<style scoped>\n",
       "    .dataframe tbody tr th:only-of-type {\n",
       "        vertical-align: middle;\n",
       "    }\n",
       "\n",
       "    .dataframe tbody tr th {\n",
       "        vertical-align: top;\n",
       "    }\n",
       "\n",
       "    .dataframe thead th {\n",
       "        text-align: right;\n",
       "    }\n",
       "</style>\n",
       "<table border=\"1\" class=\"dataframe\">\n",
       "  <thead>\n",
       "    <tr style=\"text-align: right;\">\n",
       "      <th></th>\n",
       "      <th>X</th>\n",
       "      <th>Y</th>\n",
       "      <th>OBJECTID</th>\n",
       "      <th>NAME</th>\n",
       "      <th>EMAIL</th>\n",
       "      <th>NUMBER_ADULT_MANATEES</th>\n",
       "      <th>NUMBER_CALF_MANATEES</th>\n",
       "      <th>ACTIVITY</th>\n",
       "      <th>SIGHTINGDATE</th>\n",
       "      <th>DATECREATED</th>\n",
       "      <th>STATUS</th>\n",
       "      <th>Total Number of Manatees</th>\n",
       "    </tr>\n",
       "  </thead>\n",
       "  <tbody>\n",
       "    <tr>\n",
       "      <th>0</th>\n",
       "      <td>-80.188888</td>\n",
       "      <td>26.007759</td>\n",
       "      <td>10218</td>\n",
       "      <td>Inti</td>\n",
       "      <td>ibryon@broward.org</td>\n",
       "      <td>1</td>\n",
       "      <td>0</td>\n",
       "      <td>Unknown</td>\n",
       "      <td>2017/11/22 05:00:00+00</td>\n",
       "      <td>2017/11/22 23:24:03+00</td>\n",
       "      <td>Unapproved</td>\n",
       "      <td>1</td>\n",
       "    </tr>\n",
       "    <tr>\n",
       "      <th>1</th>\n",
       "      <td>-83.759823</td>\n",
       "      <td>42.276566</td>\n",
       "      <td>10234</td>\n",
       "      <td>David Rodriguez</td>\n",
       "      <td>david.rodriguez@gmail.com</td>\n",
       "      <td>1</td>\n",
       "      <td>1</td>\n",
       "      <td>Mating</td>\n",
       "      <td>2017/11/23 05:00:00+00</td>\n",
       "      <td>2017/11/23 14:33:31+00</td>\n",
       "      <td>Unapproved</td>\n",
       "      <td>2</td>\n",
       "    </tr>\n",
       "    <tr>\n",
       "      <th>2</th>\n",
       "      <td>-80.132048</td>\n",
       "      <td>26.221299</td>\n",
       "      <td>10250</td>\n",
       "      <td>NaN</td>\n",
       "      <td>NaN</td>\n",
       "      <td>1</td>\n",
       "      <td>0</td>\n",
       "      <td>Swimming</td>\n",
       "      <td>2017/11/22 05:00:00+00</td>\n",
       "      <td>2017/11/23 20:58:25+00</td>\n",
       "      <td>Unapproved</td>\n",
       "      <td>1</td>\n",
       "    </tr>\n",
       "    <tr>\n",
       "      <th>3</th>\n",
       "      <td>-80.110825</td>\n",
       "      <td>26.222411</td>\n",
       "      <td>10266</td>\n",
       "      <td>Steven Brown</td>\n",
       "      <td>bazarm@aol.com</td>\n",
       "      <td>1</td>\n",
       "      <td>0</td>\n",
       "      <td>Feeding</td>\n",
       "      <td>2017/11/25 05:00:00+00</td>\n",
       "      <td>2017/11/25 18:24:27+00</td>\n",
       "      <td>Approved</td>\n",
       "      <td>1</td>\n",
       "    </tr>\n",
       "    <tr>\n",
       "      <th>4</th>\n",
       "      <td>-80.112248</td>\n",
       "      <td>26.221409</td>\n",
       "      <td>10282</td>\n",
       "      <td>Patrick Giordano</td>\n",
       "      <td>patrick@giordanocorp.com</td>\n",
       "      <td>1</td>\n",
       "      <td>0</td>\n",
       "      <td>Swimming</td>\n",
       "      <td>2017/11/22 05:00:00+00</td>\n",
       "      <td>2017/11/27 13:21:39+00</td>\n",
       "      <td>Approved</td>\n",
       "      <td>1</td>\n",
       "    </tr>\n",
       "    <tr>\n",
       "      <th>...</th>\n",
       "      <td>...</td>\n",
       "      <td>...</td>\n",
       "      <td>...</td>\n",
       "      <td>...</td>\n",
       "      <td>...</td>\n",
       "      <td>...</td>\n",
       "      <td>...</td>\n",
       "      <td>...</td>\n",
       "      <td>...</td>\n",
       "      <td>...</td>\n",
       "      <td>...</td>\n",
       "      <td>...</td>\n",
       "    </tr>\n",
       "    <tr>\n",
       "      <th>983</th>\n",
       "      <td>-80.079422</td>\n",
       "      <td>26.305861</td>\n",
       "      <td>39402</td>\n",
       "      <td>Peggy</td>\n",
       "      <td>Unknown</td>\n",
       "      <td>2</td>\n",
       "      <td>1</td>\n",
       "      <td>Swimming</td>\n",
       "      <td>2021/01/02 05:00:00+00</td>\n",
       "      <td>2021/01/05 15:52:21+00</td>\n",
       "      <td>Approved</td>\n",
       "      <td>3</td>\n",
       "    </tr>\n",
       "    <tr>\n",
       "      <th>984</th>\n",
       "      <td>-80.079424</td>\n",
       "      <td>26.305865</td>\n",
       "      <td>39403</td>\n",
       "      <td>Peggy</td>\n",
       "      <td>Unknown</td>\n",
       "      <td>6</td>\n",
       "      <td>1</td>\n",
       "      <td>Swimming</td>\n",
       "      <td>2021/01/03 05:00:00+00</td>\n",
       "      <td>2021/01/05 15:52:28+00</td>\n",
       "      <td>Approved</td>\n",
       "      <td>7</td>\n",
       "    </tr>\n",
       "    <tr>\n",
       "      <th>985</th>\n",
       "      <td>-80.079373</td>\n",
       "      <td>26.305841</td>\n",
       "      <td>39418</td>\n",
       "      <td>Peggy</td>\n",
       "      <td>Unknown</td>\n",
       "      <td>1</td>\n",
       "      <td>0</td>\n",
       "      <td>Feeding</td>\n",
       "      <td>2021/01/06 05:00:00+00</td>\n",
       "      <td>2021/01/07 18:25:48+00</td>\n",
       "      <td>Approved</td>\n",
       "      <td>1</td>\n",
       "    </tr>\n",
       "    <tr>\n",
       "      <th>986</th>\n",
       "      <td>-80.079373</td>\n",
       "      <td>26.305841</td>\n",
       "      <td>39419</td>\n",
       "      <td>Peggy</td>\n",
       "      <td>Unknown</td>\n",
       "      <td>1</td>\n",
       "      <td>0</td>\n",
       "      <td>Feeding</td>\n",
       "      <td>2021/01/06 05:00:00+00</td>\n",
       "      <td>2021/01/07 18:25:52+00</td>\n",
       "      <td>Approved</td>\n",
       "      <td>1</td>\n",
       "    </tr>\n",
       "    <tr>\n",
       "      <th>987</th>\n",
       "      <td>-80.081978</td>\n",
       "      <td>26.315479</td>\n",
       "      <td>39420</td>\n",
       "      <td>Robert Reick</td>\n",
       "      <td>dr.robert.reich@gmail.com</td>\n",
       "      <td>1</td>\n",
       "      <td>0</td>\n",
       "      <td>Feeding</td>\n",
       "      <td>2021/01/06 05:00:00+00</td>\n",
       "      <td>2021/01/07 18:26:01+00</td>\n",
       "      <td>Approved</td>\n",
       "      <td>1</td>\n",
       "    </tr>\n",
       "  </tbody>\n",
       "</table>\n",
       "<p>988 rows × 12 columns</p>\n",
       "</div>"
      ],
      "text/plain": [
       "             X          Y  OBJECTID               NAME  \\\n",
       "0   -80.188888  26.007759     10218               Inti   \n",
       "1   -83.759823  42.276566     10234    David Rodriguez   \n",
       "2   -80.132048  26.221299     10250                NaN   \n",
       "3   -80.110825  26.222411     10266      Steven Brown    \n",
       "4   -80.112248  26.221409     10282  Patrick Giordano    \n",
       "..         ...        ...       ...                ...   \n",
       "983 -80.079422  26.305861     39402             Peggy    \n",
       "984 -80.079424  26.305865     39403             Peggy    \n",
       "985 -80.079373  26.305841     39418             Peggy    \n",
       "986 -80.079373  26.305841     39419             Peggy    \n",
       "987 -80.081978  26.315479     39420       Robert Reick   \n",
       "\n",
       "                         EMAIL  NUMBER_ADULT_MANATEES  NUMBER_CALF_MANATEES  \\\n",
       "0           ibryon@broward.org                      1                     0   \n",
       "1    david.rodriguez@gmail.com                      1                     1   \n",
       "2                          NaN                      1                     0   \n",
       "3               bazarm@aol.com                      1                     0   \n",
       "4     patrick@giordanocorp.com                      1                     0   \n",
       "..                         ...                    ...                   ...   \n",
       "983                    Unknown                      2                     1   \n",
       "984                    Unknown                      6                     1   \n",
       "985                    Unknown                      1                     0   \n",
       "986                    Unknown                      1                     0   \n",
       "987  dr.robert.reich@gmail.com                      1                     0   \n",
       "\n",
       "     ACTIVITY            SIGHTINGDATE             DATECREATED      STATUS  \\\n",
       "0     Unknown  2017/11/22 05:00:00+00  2017/11/22 23:24:03+00  Unapproved   \n",
       "1      Mating  2017/11/23 05:00:00+00  2017/11/23 14:33:31+00  Unapproved   \n",
       "2    Swimming  2017/11/22 05:00:00+00  2017/11/23 20:58:25+00  Unapproved   \n",
       "3     Feeding  2017/11/25 05:00:00+00  2017/11/25 18:24:27+00    Approved   \n",
       "4    Swimming  2017/11/22 05:00:00+00  2017/11/27 13:21:39+00    Approved   \n",
       "..        ...                     ...                     ...         ...   \n",
       "983  Swimming  2021/01/02 05:00:00+00  2021/01/05 15:52:21+00    Approved   \n",
       "984  Swimming  2021/01/03 05:00:00+00  2021/01/05 15:52:28+00    Approved   \n",
       "985   Feeding  2021/01/06 05:00:00+00  2021/01/07 18:25:48+00    Approved   \n",
       "986   Feeding  2021/01/06 05:00:00+00  2021/01/07 18:25:52+00    Approved   \n",
       "987   Feeding  2021/01/06 05:00:00+00  2021/01/07 18:26:01+00    Approved   \n",
       "\n",
       "     Total Number of Manatees  \n",
       "0                           1  \n",
       "1                           2  \n",
       "2                           1  \n",
       "3                           1  \n",
       "4                           1  \n",
       "..                        ...  \n",
       "983                         3  \n",
       "984                         7  \n",
       "985                         1  \n",
       "986                         1  \n",
       "987                         1  \n",
       "\n",
       "[988 rows x 12 columns]"
      ]
     },
     "execution_count": 7,
     "metadata": {},
     "output_type": "execute_result"
    }
   ],
   "source": [
    "# load dataset already stored as dataframe\n",
    "manateeTrackerdf = pd.read_csv('Manatee_Sightings.csv')\n",
    "manateeTrackerdf['Total Number of Manatees'] = manateeTrackerdf['NUMBER_ADULT_MANATEES'] + manateeTrackerdf['NUMBER_CALF_MANATEES']\n",
    "manateeTrackerdf"
   ]
  },
  {
   "cell_type": "code",
   "execution_count": 8,
   "metadata": {
    "scrolled": true
   },
   "outputs": [
    {
     "data": {
      "application/vnd.plotly.v1+json": {
       "config": {
        "plotlyServerURL": "https://plot.ly"
       },
       "data": [
        {
         "customdata": [
          [
           "Unknown",
           1,
           -80.188888,
           26.007759
          ],
          [
           "Unknown",
           1,
           -81.67146600000001,
           28.00099
          ],
          [
           "Unknown",
           1,
           -80.14369599999999,
           26.120703
          ],
          [
           "Unknown",
           1,
           -80.14373,
           26.120755
          ],
          [
           "Unknown",
           2,
           -80.129925,
           26.284546999999996
          ],
          [
           "Unknown",
           1,
           -80.14399999999999,
           26.120517
          ],
          [
           "Unknown",
           2,
           -80.1166819,
           26.024738100000004
          ]
         ],
         "hovertemplate": "Activity=%{customdata[0]}<br>Total Number of Manatees=%{customdata[1]}<extra></extra>",
         "lat": [
          26.007759,
          28.00099,
          26.120703,
          26.120755,
          26.284546999999996,
          26.120517,
          26.024738100000004
         ],
         "legendgroup": "Unknown",
         "lon": [
          -80.188888,
          -81.67146600000001,
          -80.14369599999999,
          -80.14373,
          -80.129925,
          -80.14399999999999,
          -80.1166819
         ],
         "marker": {
          "color": "#636efa",
          "size": [
           1,
           1,
           1,
           1,
           2,
           1,
           2
          ],
          "sizemode": "area",
          "sizeref": 0.0325
         },
         "mode": "markers",
         "name": "Unknown",
         "showlegend": true,
         "subplot": "mapbox",
         "type": "scattermapbox"
        },
        {
         "customdata": [
          [
           "Mating",
           2,
           -83.759823,
           42.276565999999995
          ],
          [
           "Mating",
           13,
           -80.111776,
           26.091278
          ],
          [
           "Mating",
           3,
           -80.103459,
           26.189414000000003
          ]
         ],
         "hovertemplate": "Activity=%{customdata[0]}<br>Total Number of Manatees=%{customdata[1]}<extra></extra>",
         "lat": [
          42.276565999999995,
          26.091278,
          26.189414000000003
         ],
         "legendgroup": "Mating",
         "lon": [
          -83.759823,
          -80.111776,
          -80.103459
         ],
         "marker": {
          "color": "#EF553B",
          "size": [
           2,
           13,
           3
          ],
          "sizemode": "area",
          "sizeref": 0.0325
         },
         "mode": "markers",
         "name": "Mating",
         "showlegend": true,
         "subplot": "mapbox",
         "type": "scattermapbox"
        },
        {
         "customdata": [
          [
           "Swimming",
           1,
           -80.13204768,
           26.22129914
          ],
          [
           "Swimming",
           1,
           -80.11224770000001,
           26.22140944
          ],
          [
           "Swimming",
           6,
           -80.26478319,
           25.72946264
          ],
          [
           "Swimming",
           6,
           -80.26478319,
           25.72946264
          ],
          [
           "Swimming",
           4,
           -80.14036800000001,
           26.116310000000002
          ],
          [
           "Swimming",
           4,
           -80.140277,
           26.116262
          ],
          [
           "Swimming",
           3,
           -80.065088,
           26.456023
          ],
          [
           "Swimming",
           2,
           -80.147116,
           26.118759
          ],
          [
           "Swimming",
           1,
           -80.140761,
           26.117449
          ],
          [
           "Swimming",
           1,
           -80.142771,
           26.117793
          ],
          [
           "Swimming",
           1,
           -80.109911,
           26.112491000000002
          ],
          [
           "Swimming",
           7,
           -80.064977,
           26.456037
          ],
          [
           "Swimming",
           5,
           -80.079764,
           26.306165000000004
          ],
          [
           "Swimming",
           1,
           -80.114437,
           26.154254
          ],
          [
           "Swimming",
           1,
           -80.10901,
           26.224732
          ],
          [
           "Swimming",
           1,
           -80.169508,
           26.096324
          ],
          [
           "Swimming",
           2,
           -80.06509399999999,
           26.456026
          ],
          [
           "Swimming",
           4,
           -80.164975,
           26.098917
          ],
          [
           "Swimming",
           2,
           -80.07921800000001,
           26.305892
          ],
          [
           "Swimming",
           3,
           -80.133581,
           26.117760999999998
          ],
          [
           "Swimming",
           2,
           -80.079062,
           26.305882
          ],
          [
           "Swimming",
           1,
           -81.799867,
           26.693995
          ],
          [
           "Swimming",
           2,
           -80.103685,
           26.169995999999998
          ],
          [
           "Swimming",
           1,
           -80.104558,
           26.170357
          ],
          [
           "Swimming",
           1,
           -80.07924399999999,
           26.30576
          ],
          [
           "Swimming",
           1,
           -80.140777,
           26.116974
          ],
          [
           "Swimming",
           1,
           -80.0653,
           26.45607
          ],
          [
           "Swimming",
           1,
           -80.127399,
           26.060385
          ],
          [
           "Swimming",
           2,
           -80.109875,
           26.136198
          ],
          [
           "Swimming",
           1,
           -80.171189,
           26.094838
          ],
          [
           "Swimming",
           1,
           -80.17092099999999,
           26.091358
          ],
          [
           "Swimming",
           2,
           -80.170778,
           26.094978
          ],
          [
           "Swimming",
           2,
           -80.10791,
           26.13651
          ],
          [
           "Swimming",
           2,
           -80.109535,
           26.136468
          ],
          [
           "Swimming",
           1,
           -80.167986,
           26.0984
          ],
          [
           "Swimming",
           6,
           -80.10938,
           26.136842
          ],
          [
           "Swimming",
           3,
           -80.10328100000001,
           26.171183
          ],
          [
           "Swimming",
           2,
           -80.17025100000001,
           26.095955
          ],
          [
           "Swimming",
           1,
           -80.177431,
           26.067365
          ],
          [
           "Swimming",
           2,
           -80.163224,
           26.067708
          ],
          [
           "Swimming",
           2,
           -80.184908,
           26.084761999999998
          ],
          [
           "Swimming",
           6,
           -80.180718,
           26.089702
          ],
          [
           "Swimming",
           3,
           -80.178394,
           26.091155
          ],
          [
           "Swimming",
           1,
           -80.17389,
           26.094267000000002
          ],
          [
           "Swimming",
           2,
           -80.174091,
           26.093726
          ],
          [
           "Swimming",
           2,
           -80.185905,
           26.082351
          ],
          [
           "Swimming",
           3,
           -80.079608,
           26.305903999999998
          ],
          [
           "Swimming",
           2,
           -80.159499,
           26.063435000000002
          ],
          [
           "Swimming",
           1,
           -80.185272,
           26.084258
          ],
          [
           "Swimming",
           2,
           -80.184616,
           26.067834
          ],
          [
           "Swimming",
           1,
           -80.17771,
           26.067491
          ],
          [
           "Swimming",
           2,
           -80.199647,
           26.068951000000002
          ],
          [
           "Swimming",
           1,
           -80.109214,
           26.136226
          ],
          [
           "Swimming",
           1,
           -80.10323100000001,
           26.171065
          ],
          [
           "Swimming",
           1,
           -80.109369,
           26.135931
          ],
          [
           "Swimming",
           1,
           -80.10967099999999,
           26.112804999999998
          ],
          [
           "Swimming",
           4,
           -80.110057,
           26.136333
          ],
          [
           "Swimming",
           3,
           -80.10328,
           26.17071
          ],
          [
           "Swimming",
           3,
           -80.188838,
           26.079667999999998
          ],
          [
           "Swimming",
           5,
           -80.108254,
           26.13735
          ],
          [
           "Swimming",
           2,
           -80.090544,
           26.24565
          ],
          [
           "Swimming",
           1,
           -80.090422,
           26.245758000000002
          ],
          [
           "Swimming",
           1,
           -80.079165,
           26.305840999999997
          ],
          [
           "Swimming",
           2,
           -80.14369825,
           26.11917141
          ],
          [
           "Swimming",
           4,
           -80.10364799999999,
           26.164723000000002
          ],
          [
           "Swimming",
           1,
           -80.114583,
           26.153894
          ],
          [
           "Swimming",
           2,
           -80.114583,
           26.153894
          ],
          [
           "Swimming",
           1,
           -80.11447700000001,
           26.154039
          ],
          [
           "Swimming",
           2,
           -80.118558,
           26.136112
          ],
          [
           "Swimming",
           3,
           -80.119268,
           26.135362
          ],
          [
           "Swimming",
           3,
           -80.114355,
           26.15397
          ],
          [
           "Swimming",
           1,
           -80.139881,
           26.117044
          ],
          [
           "Swimming",
           1,
           -80.13986700000001,
           26.117070000000002
          ],
          [
           "Swimming",
           3,
           -80.139842,
           26.117102
          ],
          [
           "Swimming",
           4,
           -80.139845,
           26.117081
          ],
          [
           "Swimming",
           1,
           -80.13992900000001,
           26.116999999999997
          ],
          [
           "Swimming",
           4,
           -80.139688,
           26.117379
          ],
          [
           "Swimming",
           1,
           -80.109158,
           26.135785000000002
          ],
          [
           "Swimming",
           4,
           -80.142515,
           26.117601999999998
          ],
          [
           "Swimming",
           2,
           -80.079408,
           26.305944
          ],
          [
           "Swimming",
           3,
           -80.079561,
           26.305832000000002
          ],
          [
           "Swimming",
           1,
           -80.128506,
           26.154188
          ],
          [
           "Swimming",
           2,
           -80.146909,
           26.118986
          ],
          [
           "Swimming",
           1,
           -80.078948,
           26.305881
          ],
          [
           "Swimming",
           1,
           -80.118993,
           26.161915
          ],
          [
           "Swimming",
           1,
           -80.11438100000001,
           26.153374
          ],
          [
           "Swimming",
           1,
           -80.119625,
           26.16218
          ],
          [
           "Swimming",
           1,
           -80.07955799999999,
           26.305975
          ],
          [
           "Swimming",
           1,
           -80.079392,
           26.305921
          ],
          [
           "Swimming",
           5,
           -80.079808,
           26.306044
          ],
          [
           "Swimming",
           1,
           -80.114377,
           26.152784
          ],
          [
           "Swimming",
           2,
           -80.09058900000001,
           26.244401
          ],
          [
           "Swimming",
           2,
           -80.090975,
           26.244528000000003
          ],
          [
           "Swimming",
           9,
           -80.09058900000001,
           26.244429999999998
          ],
          [
           "Swimming",
           6,
           -80.079516,
           26.306010999999998
          ],
          [
           "Swimming",
           6,
           -80.107906,
           26.137437
          ],
          [
           "Swimming",
           1,
           -80.118794,
           26.162003
          ],
          [
           "Swimming",
           1,
           -80.139884,
           26.117097
          ],
          [
           "Swimming",
           1,
           -80.140452,
           26.117105
          ],
          [
           "Swimming",
           1,
           -80.14015699999999,
           26.11719
          ],
          [
           "Swimming",
           1,
           -80.079633,
           26.306143
          ],
          [
           "Swimming",
           1,
           -80.07972099999999,
           26.306001000000002
          ],
          [
           "Swimming",
           1,
           -80.08014200000001,
           26.306164000000003
          ],
          [
           "Swimming",
           2,
           -80.079766,
           26.306053000000002
          ],
          [
           "Swimming",
           1,
           -80.07908,
           26.3058
          ],
          [
           "Swimming",
           3,
           -80.07964799999999,
           26.305783
          ],
          [
           "Swimming",
           5,
           -80.079722,
           26.305740000000004
          ],
          [
           "Swimming",
           1,
           -80.139966,
           26.117145
          ],
          [
           "Swimming",
           1,
           -80.07901,
           26.305746999999997
          ],
          [
           "Swimming",
           4,
           -80.07968199999999,
           26.306013
          ],
          [
           "Swimming",
           1,
           -80.111867,
           26.221234000000003
          ],
          [
           "Swimming",
           1,
           -80.114734,
           26.066499
          ],
          [
           "Swimming",
           1,
           -80.128603,
           26.116933
          ],
          [
           "Swimming",
           1,
           -80.079756,
           26.281197
          ],
          [
           "Swimming",
           1,
           -80.153141,
           26.114416000000002
          ],
          [
           "Swimming",
           2,
           -80.11912199999999,
           26.078499
          ],
          [
           "Swimming",
           2,
           -80.172501,
           26.094569
          ],
          [
           "Swimming",
           2,
           -80.1146,
           26.105539999999998
          ],
          [
           "Swimming",
           1,
           -80.139862,
           26.117045
          ],
          [
           "Swimming",
           1,
           -80.079164,
           26.30575
          ],
          [
           "Swimming",
           2,
           -80.109225,
           26.13694
          ],
          [
           "Swimming",
           2,
           -80.109196,
           26.136972
          ],
          [
           "Swimming",
           2,
           -80.109245,
           26.136924
          ],
          [
           "Swimming",
           1,
           -80.150415,
           26.115533
          ],
          [
           "Swimming",
           1,
           -80.13596,
           26.117568
          ],
          [
           "Swimming",
           1,
           -80.079751,
           26.305752000000002
          ],
          [
           "Swimming",
           2,
           -80.080215,
           26.305766
          ],
          [
           "Swimming",
           2,
           -80.079245,
           26.305796
          ],
          [
           "Swimming",
           2,
           -80.22702113,
           26.10278607
          ],
          [
           "Swimming",
           2,
           -80.143608,
           26.120754
          ],
          [
           "Swimming",
           2,
           -80.261715,
           26.123623000000002
          ],
          [
           "Swimming",
           1,
           -80.116428,
           26.074472
          ],
          [
           "Swimming",
           2,
           -80.137348,
           26.059529
          ],
          [
           "Swimming",
           1,
           -80.186378,
           26.081164
          ],
          [
           "Swimming",
           1,
           -80.188348,
           26.079711
          ],
          [
           "Swimming",
           1,
           -80.119516,
           26.161983
          ],
          [
           "Swimming",
           3,
           -82.546807,
           27.336923
          ],
          [
           "Swimming",
           1,
           -80.10993951,
           26.09084151
          ],
          [
           "Swimming",
           1,
           -80.11358100000001,
           26.081405
          ],
          [
           "Swimming",
           1,
           -80.119415,
           26.162562
          ],
          [
           "Swimming",
           1,
           -80.11269,
           26.082112
          ],
          [
           "Swimming",
           1,
           -80.122989,
           25.979861
          ],
          [
           "Swimming",
           1,
           -80.123372,
           25.980062
          ],
          [
           "Swimming",
           2,
           -80.111823,
           26.090411
          ],
          [
           "Swimming",
           2,
           -80.11170200000001,
           26.091235
          ],
          [
           "Swimming",
           3,
           -80.127585,
           25.981313
          ],
          [
           "Swimming",
           1,
           -80.120366,
           26.081459
          ],
          [
           "Swimming",
           1,
           -80.07758000000001,
           26.342240000000004
          ],
          [
           "Swimming",
           1,
           -80.07755999999999,
           26.34235
          ],
          [
           "Swimming",
           2,
           -80.120114,
           26.078592999999998
          ],
          [
           "Swimming",
           3,
           -80.108437,
           26.137279
          ],
          [
           "Swimming",
           3,
           -80.10732800000001,
           26.137294
          ],
          [
           "Swimming",
           1,
           -80.138675,
           26.116382
          ],
          [
           "Swimming",
           3,
           -80.14401083,
           26.12107266
          ],
          [
           "Swimming",
           1,
           -80.11773000000001,
           26.005764000000003
          ],
          [
           "Swimming",
           1,
           -80.07907900000001,
           26.305809999999997
          ],
          [
           "Swimming",
           1,
           -80.09972900000001,
           26.210663
          ],
          [
           "Swimming",
           2,
           -80.117623,
           26.005682999999998
          ],
          [
           "Swimming",
           4,
           -80.189578,
           25.762311999999998
          ],
          [
           "Swimming",
           2,
           -80.16158011,
           26.03472658
          ],
          [
           "Swimming",
           2,
           -80.16158011,
           26.03472658
          ],
          [
           "Swimming",
           1,
           -80.16158011,
           26.03472658
          ],
          [
           "Swimming",
           1,
           -80.16158011,
           26.03472658
          ],
          [
           "Swimming",
           3,
           -80.16158011,
           26.03472658
          ],
          [
           "Swimming",
           2,
           -80.16158011,
           26.03472658
          ],
          [
           "Swimming",
           2,
           -80.07893100000001,
           26.305971999999997
          ],
          [
           "Swimming",
           1,
           -80.189266,
           25.762451000000002
          ],
          [
           "Swimming",
           1,
           -80.16158011,
           26.03472658
          ],
          [
           "Swimming",
           1,
           -80.092735,
           26.233573
          ],
          [
           "Swimming",
           2,
           -80.092722,
           26.233648
          ],
          [
           "Swimming",
           1,
           -80.118538,
           26.013793
          ],
          [
           "Swimming",
           2,
           -81.01525699999999,
           24.723581
          ],
          [
           "Swimming",
           3,
           -80.108917,
           26.136359
          ],
          [
           "Swimming",
           1,
           -80.09302,
           26.236310999999997
          ],
          [
           "Swimming",
           1,
           -80.092936,
           26.236226000000002
          ],
          [
           "Swimming",
           1,
           -80.16158011,
           26.03472658
          ],
          [
           "Swimming",
           3,
           -80.099053,
           26.211253
          ],
          [
           "Swimming",
           2,
           -80.140077,
           26.11729
          ],
          [
           "Swimming",
           2,
           -80.104107,
           26.189229
          ],
          [
           "Swimming",
           1,
           -80.406112,
           25.138068
          ],
          [
           "Swimming",
           1,
           -80.16158011,
           26.03472658
          ],
          [
           "Swimming",
           1,
           -80.126672,
           26.115896
          ],
          [
           "Swimming",
           2,
           -80.108529,
           26.13606
          ],
          [
           "Swimming",
           2,
           -80.107283,
           26.137367
          ],
          [
           "Swimming",
           5,
           -80.107386,
           26.137301
          ],
          [
           "Swimming",
           1,
           -80.119789,
           26.162304000000002
          ],
          [
           "Swimming",
           2,
           -80.100674,
           26.272234
          ],
          [
           "Swimming",
           1,
           -80.109444,
           26.118052
          ],
          [
           "Swimming",
           3,
           -80.16158011,
           26.03472658
          ],
          [
           "Swimming",
           2,
           -80.118914,
           26.086273000000002
          ],
          [
           "Swimming",
           1,
           -80.166443,
           26.098584
          ],
          [
           "Swimming",
           4,
           -80.064413,
           26.455775
          ],
          [
           "Swimming",
           1,
           -80.108896,
           26.136343
          ],
          [
           "Swimming",
           1,
           -80.114807,
           26.043622
          ],
          [
           "Swimming",
           6,
           -80.16155594,
           26.03452909
          ],
          [
           "Swimming",
           1,
           -80.16158011,
           26.03472658
          ],
          [
           "Swimming",
           2,
           -80.16158011,
           26.03472658
          ],
          [
           "Swimming",
           1,
           -80.163203,
           26.121582999999998
          ],
          [
           "Swimming",
           2,
           -80.16158011,
           26.03472658
          ],
          [
           "Swimming",
           1,
           -80.171295,
           26.068214
          ],
          [
           "Swimming",
           2,
           -80.091254,
           26.243655
          ],
          [
           "Swimming",
           2,
           -80.114729,
           26.074507999999998
          ],
          [
           "Swimming",
           5,
           -80.06517099999999,
           26.455925
          ],
          [
           "Swimming",
           3,
           -80.107671,
           26.137163
          ],
          [
           "Swimming",
           5,
           -80.079777,
           26.305797
          ],
          [
           "Swimming",
           1,
           -80.079848,
           26.305640999999998
          ],
          [
           "Swimming",
           2,
           -80.146289,
           26.118309
          ],
          [
           "Swimming",
           2,
           -80.16158011,
           26.03472658
          ],
          [
           "Swimming",
           1,
           -80.16158011,
           26.03472658
          ],
          [
           "Swimming",
           1,
           -80.092735,
           26.235843
          ],
          [
           "Swimming",
           1,
           -80.103831,
           26.188542
          ],
          [
           "Swimming",
           1,
           -80.103741,
           26.166075
          ],
          [
           "Swimming",
           5,
           -80.079211,
           26.305766
          ],
          [
           "Swimming",
           2,
           -80.16158011,
           26.03472658
          ],
          [
           "Swimming",
           1,
           -80.16155594,
           26.03452909
          ],
          [
           "Swimming",
           1,
           -80.16158011,
           26.03472658
          ],
          [
           "Swimming",
           2,
           -80.109536,
           26.136314000000002
          ],
          [
           "Swimming",
           1,
           -80.092708,
           26.236152
          ],
          [
           "Swimming",
           1,
           -80.11940200000001,
           26.162546
          ],
          [
           "Swimming",
           1,
           -80.163225,
           26.030754
          ],
          [
           "Swimming",
           1,
           -80.11940108,
           26.16258233
          ],
          [
           "Swimming",
           1,
           -80.15925119,
           26.16379488
          ],
          [
           "Swimming",
           3,
           -80.064521,
           26.456083000000003
          ],
          [
           "Swimming",
           1,
           -80.163423,
           26.030936999999998
          ],
          [
           "Swimming",
           1,
           -80.16158011,
           26.03472658
          ],
          [
           "Swimming",
           1,
           -80.16158011,
           26.03472658
          ],
          [
           "Swimming",
           1,
           -80.16155594,
           26.03452909
          ],
          [
           "Swimming",
           1,
           -80.092739,
           26.236196999999997
          ],
          [
           "Swimming",
           2,
           -80.16158011,
           26.03472658
          ],
          [
           "Swimming",
           1,
           -80.16158011,
           26.03472658
          ],
          [
           "Swimming",
           9,
           -80.079575,
           26.305958
          ],
          [
           "Swimming",
           6,
           -80.079237,
           26.305888
          ],
          [
           "Swimming",
           1,
           -80.090788,
           26.243732
          ],
          [
           "Swimming",
           1,
           -80.16158011,
           26.03472658
          ],
          [
           "Swimming",
           2,
           -80.07953,
           26.306036
          ],
          [
           "Swimming",
           1,
           -80.16158011,
           26.03472658
          ],
          [
           "Swimming",
           2,
           -80.16158011,
           26.03472658
          ],
          [
           "Swimming",
           1,
           -80.118411,
           26.000485
          ],
          [
           "Swimming",
           3,
           -80.06518299999999,
           26.455947
          ],
          [
           "Swimming",
           1,
           -80.194229,
           26.08558
          ],
          [
           "Swimming",
           4,
           -80.079705,
           26.305965000000004
          ],
          [
           "Swimming",
           1,
           -80.109004,
           26.136232
          ],
          [
           "Swimming",
           1,
           -80.119721,
           26.162285999999998
          ],
          [
           "Swimming",
           1,
           -80.14385,
           26.117949
          ],
          [
           "Swimming",
           3,
           -80.127507,
           26.165891000000002
          ],
          [
           "Swimming",
           6,
           -80.16158011,
           26.03472658
          ],
          [
           "Swimming",
           1,
           -80.10387414,
           26.16295086
          ],
          [
           "Swimming",
           3,
           -80.121876,
           26.167042000000002
          ],
          [
           "Swimming",
           1,
           -80.098887,
           26.211476
          ],
          [
           "Swimming",
           1,
           -80.079387,
           26.305768
          ],
          [
           "Swimming",
           1,
           -80.099159,
           26.210665
          ],
          [
           "Swimming",
           6,
           -80.079215,
           26.305692999999998
          ],
          [
           "Swimming",
           1,
           -80.108007,
           26.137293
          ],
          [
           "Swimming",
           4,
           -80.108485,
           26.137394
          ],
          [
           "Swimming",
           4,
           -80.18249239,
           26.08475606
          ],
          [
           "Swimming",
           1,
           -80.107337,
           26.111303
          ],
          [
           "Swimming",
           1,
           -80.104623,
           26.115313
          ],
          [
           "Swimming",
           2,
           -80.2541,
           26.121514
          ],
          [
           "Swimming",
           7,
           -80.09888507,
           26.21199818
          ],
          [
           "Swimming",
           7,
           -80.09888507,
           26.21199818
          ],
          [
           "Swimming",
           1,
           -80.092811,
           26.236863
          ],
          [
           "Swimming",
           1,
           -80.10674399999999,
           26.110829000000003
          ],
          [
           "Swimming",
           1,
           -80.077577,
           26.308759000000002
          ],
          [
           "Swimming",
           3,
           -80.156337,
           26.112414
          ],
          [
           "Swimming",
           1,
           -80.079486,
           26.305659999999996
          ],
          [
           "Swimming",
           1,
           -80.130884,
           26.11722
          ],
          [
           "Swimming",
           1,
           -80.092811,
           26.236863
          ],
          [
           "Swimming",
           4,
           -80.07937700000001,
           26.305836
          ],
          [
           "Swimming",
           1,
           -80.115061,
           26.065046
          ],
          [
           "Swimming",
           2,
           -80.118053,
           26.102528
          ],
          [
           "Swimming",
           1,
           -80.16158011,
           26.03472658
          ],
          [
           "Swimming",
           7,
           -80.09888507,
           26.21199818
          ],
          [
           "Swimming",
           1,
           -80.092811,
           26.236863
          ],
          [
           "Swimming",
           3,
           -80.079575,
           26.305606
          ],
          [
           "Swimming",
           1,
           -80.105181,
           26.106985
          ],
          [
           "Swimming",
           3,
           -80.079575,
           26.305606
          ],
          [
           "Swimming",
           8,
           -80.07991,
           26.305790999999996
          ],
          [
           "Swimming",
           1,
           -80.10403000000001,
           26.124582
          ],
          [
           "Swimming",
           1,
           -80.119434,
           26.16246
          ],
          [
           "Swimming",
           4,
           -80.079543,
           26.305902000000003
          ],
          [
           "Swimming",
           1,
           -80.09342099999999,
           26.236423
          ],
          [
           "Swimming",
           2,
           -80.092845,
           26.236288000000002
          ],
          [
           "Swimming",
           7,
           -80.16158011,
           26.03472658
          ],
          [
           "Swimming",
           5,
           -80.104389,
           26.163947
          ],
          [
           "Swimming",
           1,
           -80.092683,
           26.236197999999998
          ],
          [
           "Swimming",
           2,
           -80.092924,
           26.236181
          ],
          [
           "Swimming",
           2,
           -80.093458,
           26.236517
          ],
          [
           "Swimming",
           6,
           -80.16158011,
           26.03472658
          ],
          [
           "Swimming",
           1,
           -80.109227,
           26.133972
          ],
          [
           "Swimming",
           4,
           -80.079451,
           26.305938
          ],
          [
           "Swimming",
           2,
           -80.079481,
           26.305839000000002
          ],
          [
           "Swimming",
           1,
           -80.09331999999999,
           26.236428999999998
          ],
          [
           "Swimming",
           6,
           -80.07933,
           26.305851
          ],
          [
           "Swimming",
           4,
           -80.10876,
           26.13625
          ],
          [
           "Swimming",
           1,
           -80.12040400000001,
           26.081892
          ],
          [
           "Swimming",
           1,
           -80.103788,
           26.188626
          ],
          [
           "Swimming",
           3,
           -80.134058,
           26.117639
          ],
          [
           "Swimming",
           4,
           -80.079336,
           26.305838
          ],
          [
           "Swimming",
           3,
           -80.139938,
           26.116973
          ],
          [
           "Swimming",
           2,
           -80.139945,
           26.117001000000002
          ],
          [
           "Swimming",
           7,
           -80.16158011,
           26.03472658
          ],
          [
           "Swimming",
           1,
           -80.099797,
           26.210829
          ],
          [
           "Swimming",
           1,
           -80.103809,
           26.166361
          ],
          [
           "Swimming",
           2,
           -80.12044,
           26.081726
          ],
          [
           "Swimming",
           6,
           -80.109142,
           26.136173
          ],
          [
           "Swimming",
           2,
           -80.079142,
           26.305797
          ],
          [
           "Swimming",
           1,
           -80.16396999999999,
           26.099072
          ],
          [
           "Swimming",
           2,
           -80.181001,
           26.089763
          ],
          [
           "Swimming",
           1,
           -80.185168,
           26.083585999999997
          ],
          [
           "Swimming",
           1,
           -80.200711,
           26.071593
          ],
          [
           "Swimming",
           1,
           -80.139964,
           26.117084
          ],
          [
           "Swimming",
           1,
           -80.10792099999999,
           26.127512
          ],
          [
           "Swimming",
           1,
           -80.090616,
           26.243754
          ],
          [
           "Swimming",
           2,
           -80.090737,
           26.243761
          ],
          [
           "Swimming",
           1,
           -80.109257,
           26.136123
          ],
          [
           "Swimming",
           2,
           -80.12011600000001,
           26.095944
          ],
          [
           "Swimming",
           2,
           -80.137426,
           26.11846
          ],
          [
           "Swimming",
           1,
           -80.119458,
           26.162609
          ],
          [
           "Swimming",
           1,
           -80.103888,
           26.166329
          ],
          [
           "Swimming",
           2,
           -80.1409,
           26.117085999999997
          ],
          [
           "Swimming",
           1,
           -80.105532,
           26.156182
          ],
          [
           "Swimming",
           2,
           -80.079588,
           26.30582
          ],
          [
           "Swimming",
           1,
           -80.139833,
           26.117025
          ],
          [
           "Swimming",
           1,
           -80.139937,
           26.11711
          ],
          [
           "Swimming",
           1,
           -80.079593,
           26.305728000000002
          ],
          [
           "Swimming",
           1,
           -80.10948499999999,
           26.136145000000003
          ],
          [
           "Swimming",
           1,
           -80.119123,
           26.038829999999997
          ],
          [
           "Swimming",
           1,
           -80.147072,
           26.151123000000002
          ],
          [
           "Swimming",
           5,
           -80.107996,
           26.136103
          ],
          [
           "Swimming",
           1,
           -80.17981999999999,
           26.090010999999997
          ],
          [
           "Swimming",
           1,
           -80.10370999999999,
           26.165992000000003
          ],
          [
           "Swimming",
           1,
           -80.09072900000001,
           26.24375
          ],
          [
           "Swimming",
           1,
           -80.080033,
           26.306029
          ],
          [
           "Swimming",
           1,
           -80.09073199999999,
           26.24377
          ],
          [
           "Swimming",
           2,
           -80.146307,
           26.118792000000003
          ],
          [
           "Swimming",
           1,
           -80.09071999999999,
           26.243757000000002
          ],
          [
           "Swimming",
           2,
           -80.079521,
           26.305845
          ],
          [
           "Swimming",
           1,
           -80.119019,
           26.161967999999998
          ],
          [
           "Swimming",
           1,
           -80.107754,
           26.125151000000002
          ],
          [
           "Swimming",
           1,
           -80.142374,
           26.150812
          ],
          [
           "Swimming",
           2,
           -80.113241,
           26.111214999999998
          ],
          [
           "Swimming",
           1,
           -80.09329699999999,
           26.236431
          ],
          [
           "Swimming",
           5,
           -80.16158011,
           26.03472658
          ],
          [
           "Swimming",
           5,
           -80.16158011,
           26.03472658
          ],
          [
           "Swimming",
           2,
           -80.102417,
           26.14485
          ],
          [
           "Swimming",
           2,
           -80.079668,
           26.305982
          ],
          [
           "Swimming",
           1,
           -80.079157,
           26.30576
          ],
          [
           "Swimming",
           1,
           -80.109273,
           26.136144
          ],
          [
           "Swimming",
           2,
           -80.119462,
           26.10233
          ],
          [
           "Swimming",
           1,
           -80.118567,
           26.099743
          ],
          [
           "Swimming",
           1,
           -80.131812,
           26.117291
          ],
          [
           "Swimming",
           1,
           -80.106076,
           26.15391
          ],
          [
           "Swimming",
           3,
           -80.079717,
           26.305732
          ],
          [
           "Swimming",
           3,
           -80.16158011,
           26.03472658
          ],
          [
           "Swimming",
           1,
           -80.10755999999999,
           26.141175
          ],
          [
           "Swimming",
           1,
           -80.144869,
           26.118319
          ],
          [
           "Swimming",
           1,
           -80.11940108,
           26.16258233
          ],
          [
           "Swimming",
           1,
           -80.07963199999999,
           26.305968
          ],
          [
           "Swimming",
           1,
           -80.11940108,
           26.16258233
          ],
          [
           "Swimming",
           1,
           -80.179811,
           26.090204
          ],
          [
           "Swimming",
           2,
           -80.140914,
           26.117407999999998
          ],
          [
           "Swimming",
           2,
           -80.140914,
           26.117407999999998
          ],
          [
           "Swimming",
           1,
           -80.11940600000001,
           26.162779
          ],
          [
           "Swimming",
           6,
           -80.108715,
           26.137058
          ],
          [
           "Swimming",
           2,
           -80.140914,
           26.117407999999998
          ],
          [
           "Swimming",
           3,
           -80.167419,
           26.09838
          ],
          [
           "Swimming",
           1,
           -80.163042,
           26.121133
          ],
          [
           "Swimming",
           2,
           -80.090296,
           26.249436
          ],
          [
           "Swimming",
           2,
           -80.12079399999999,
           26.038968
          ],
          [
           "Swimming",
           1,
           -80.137454,
           26.1185
          ],
          [
           "Swimming",
           1,
           -80.108673,
           26.114732
          ],
          [
           "Swimming",
           1,
           -80.137454,
           26.1185
          ],
          [
           "Swimming",
           2,
           -80.079561,
           26.305865
          ],
          [
           "Swimming",
           2,
           -80.07919,
           26.305768
          ],
          [
           "Swimming",
           2,
           -80.107552,
           26.137973000000002
          ],
          [
           "Swimming",
           1,
           -80.139674,
           26.116223
          ],
          [
           "Swimming",
           1,
           -80.09944200000001,
           26.210871
          ],
          [
           "Swimming",
           2,
           -80.09298000000001,
           26.235646999999997
          ],
          [
           "Swimming",
           3,
           -80.107968,
           26.147861
          ],
          [
           "Swimming",
           2,
           -80.082328,
           26.315579
          ],
          [
           "Swimming",
           1,
           -80.14601800000001,
           26.118174
          ],
          [
           "Swimming",
           1,
           -80.108981,
           26.116293
          ],
          [
           "Swimming",
           1,
           -80.161781,
           26.119635
          ],
          [
           "Swimming",
           4,
           -80.07975400000001,
           26.30589
          ],
          [
           "Swimming",
           2,
           -80.104293,
           26.164848000000003
          ],
          [
           "Swimming",
           1,
           -80.07957900000001,
           26.305590000000002
          ],
          [
           "Swimming",
           2,
           -80.079419,
           26.305965999999998
          ],
          [
           "Swimming",
           2,
           -80.079373,
           26.305763
          ],
          [
           "Swimming",
           3,
           -80.103188,
           26.19524
          ],
          [
           "Swimming",
           1,
           -80.13959399999999,
           26.164883
          ],
          [
           "Swimming",
           1,
           -80.07957900000001,
           26.305590000000002
          ],
          [
           "Swimming",
           1,
           -80.13959399999999,
           26.164883
          ],
          [
           "Swimming",
           4,
           -80.10332199999999,
           26.195337
          ],
          [
           "Swimming",
           2,
           -80.10342800000001,
           26.195213
          ],
          [
           "Swimming",
           2,
           -80.103336,
           26.195204
          ],
          [
           "Swimming",
           3,
           -80.10311748,
           26.19528006
          ],
          [
           "Swimming",
           2,
           -80.11704499999999,
           26.016517999999998
          ],
          [
           "Swimming",
           2,
           -80.11620500000001,
           26.038098
          ],
          [
           "Swimming",
           2,
           -80.11620500000001,
           26.038098
          ],
          [
           "Swimming",
           3,
           -80.102358,
           26.194746
          ],
          [
           "Swimming",
           2,
           -80.07916800000001,
           26.305821999999996
          ],
          [
           "Swimming",
           1,
           -80.09271600000001,
           26.236187
          ],
          [
           "Swimming",
           1,
           -80.11940108,
           26.16258233
          ],
          [
           "Swimming",
           1,
           -80.13973299999999,
           26.11709
          ],
          [
           "Swimming",
           1,
           -80.11846800000001,
           26.013872
          ],
          [
           "Swimming",
           3,
           -80.102184,
           26.195628
          ],
          [
           "Swimming",
           1,
           -80.147616,
           26.119515
          ],
          [
           "Swimming",
           1,
           -80.08185,
           26.315278000000003
          ],
          [
           "Swimming",
           1,
           -80.167023,
           26.09764
          ],
          [
           "Swimming",
           2,
           -80.090395,
           26.249074
          ],
          [
           "Swimming",
           1,
           -80.09067399999999,
           26.247594
          ],
          [
           "Swimming",
           7,
           -80.16158011,
           26.03472658
          ],
          [
           "Swimming",
           7,
           -80.16158011,
           26.03472658
          ],
          [
           "Swimming",
           2,
           -80.16158011,
           26.03472658
          ],
          [
           "Swimming",
           2,
           -80.16158011,
           26.03472658
          ],
          [
           "Swimming",
           1,
           -80.16158011,
           26.03472658
          ],
          [
           "Swimming",
           1,
           -80.108675,
           26.224759999999996
          ],
          [
           "Swimming",
           1,
           -80.111695,
           26.091144
          ],
          [
           "Swimming",
           1,
           -80.111695,
           26.091144
          ],
          [
           "Swimming",
           1,
           -80.13685699999999,
           26.117048
          ],
          [
           "Swimming",
           1,
           -80.16193505,
           26.03460472
          ],
          [
           "Swimming",
           3,
           -80.117164,
           26.015566
          ],
          [
           "Swimming",
           3,
           -80.117164,
           26.015566
          ],
          [
           "Swimming",
           1,
           -80.111827,
           26.090567
          ],
          [
           "Swimming",
           3,
           -80.117164,
           26.015566
          ],
          [
           "Swimming",
           3,
           -80.117164,
           26.015566
          ],
          [
           "Swimming",
           3,
           -80.117164,
           26.015566
          ],
          [
           "Swimming",
           1,
           -80.11194499999999,
           26.091387
          ],
          [
           "Swimming",
           1,
           -80.11194499999999,
           26.091387
          ],
          [
           "Swimming",
           1,
           -80.11194499999999,
           26.091387
          ],
          [
           "Swimming",
           1,
           -80.11194499999999,
           26.091387
          ],
          [
           "Swimming",
           1,
           -80.11194499999999,
           26.091387
          ],
          [
           "Swimming",
           1,
           -80.111767,
           26.091224
          ],
          [
           "Swimming",
           1,
           -80.111767,
           26.091224
          ],
          [
           "Swimming",
           1,
           -80.117306,
           26.014943
          ],
          [
           "Swimming",
           1,
           -80.111767,
           26.091224
          ],
          [
           "Swimming",
           1,
           -80.16158011,
           26.03472658
          ],
          [
           "Swimming",
           1,
           -80.16158011,
           26.03472658
          ],
          [
           "Swimming",
           2,
           -80.16193119,
           26.03461317
          ],
          [
           "Swimming",
           2,
           -80.16193119,
           26.03461317
          ],
          [
           "Swimming",
           2,
           -80.16193119,
           26.03461317
          ],
          [
           "Swimming",
           2,
           -80.11741500000001,
           26.089941
          ],
          [
           "Swimming",
           2,
           -80.11614499999999,
           26.078543
          ],
          [
           "Swimming",
           2,
           -80.11614499999999,
           26.078543
          ],
          [
           "Swimming",
           2,
           -80.11614499999999,
           26.078543
          ],
          [
           "Swimming",
           2,
           -80.11614499999999,
           26.078543
          ],
          [
           "Swimming",
           2,
           -80.11614499999999,
           26.078543
          ],
          [
           "Swimming",
           1,
           -80.16158011,
           26.03472658
          ],
          [
           "Swimming",
           2,
           -80.11614499999999,
           26.078543
          ],
          [
           "Swimming",
           1,
           -80.18666400000001,
           26.080378
          ],
          [
           "Swimming",
           1,
           -80.11576099999999,
           26.038946
          ],
          [
           "Swimming",
           1,
           -80.079288,
           26.305743
          ],
          [
           "Swimming",
           2,
           -80.092619,
           26.236438
          ],
          [
           "Swimming",
           1,
           -80.11576099999999,
           26.038946
          ],
          [
           "Swimming",
           1,
           -80.119811,
           26.080571
          ],
          [
           "Swimming",
           1,
           -80.16158011,
           26.03472658
          ],
          [
           "Swimming",
           2,
           -80.11614499999999,
           26.078543
          ],
          [
           "Swimming",
           1,
           -80.118487,
           26.013742
          ],
          [
           "Swimming",
           1,
           -80.16158011,
           26.03472658
          ],
          [
           "Swimming",
           1,
           -80.18666400000001,
           26.080378
          ],
          [
           "Swimming",
           1,
           -80.092674,
           26.235917999999998
          ],
          [
           "Swimming",
           1,
           -80.092614,
           26.236062
          ],
          [
           "Swimming",
           1,
           -80.09282900000001,
           26.236648
          ],
          [
           "Swimming",
           2,
           -80.07916,
           26.30583
          ],
          [
           "Swimming",
           2,
           -80.079295,
           26.305769
          ],
          [
           "Swimming",
           2,
           -80.16158011,
           26.03472658
          ],
          [
           "Swimming",
           1,
           -80.09255300000001,
           26.235975
          ],
          [
           "Swimming",
           1,
           -80.111028,
           26.221890000000002
          ],
          [
           "Swimming",
           2,
           -80.16158011,
           26.03472658
          ],
          [
           "Swimming",
           2,
           -80.099793,
           26.208986
          ],
          [
           "Swimming",
           2,
           -80.120172,
           26.078749
          ],
          [
           "Swimming",
           2,
           -80.120172,
           26.078749
          ],
          [
           "Swimming",
           1,
           -80.079215,
           26.305729
          ],
          [
           "Swimming",
           3,
           -80.16158011,
           26.03472658
          ],
          [
           "Swimming",
           3,
           -80.16158011,
           26.03472658
          ],
          [
           "Swimming",
           2,
           -80.125865,
           26.179595000000003
          ],
          [
           "Swimming",
           3,
           -80.16158011,
           26.03472658
          ],
          [
           "Swimming",
           3,
           -80.079835,
           26.305853999999997
          ],
          [
           "Swimming",
           6,
           -80.19236205,
           26.070044199999998
          ],
          [
           "Swimming",
           6,
           -80.19236205,
           26.070044199999998
          ],
          [
           "Swimming",
           6,
           -80.19236205,
           26.070044199999998
          ],
          [
           "Swimming",
           2,
           -80.079399,
           26.305742
          ],
          [
           "Swimming",
           1,
           -80.143772,
           26.121054
          ],
          [
           "Swimming",
           1,
           -80.147274,
           26.118707
          ],
          [
           "Swimming",
           1,
           -80.147438,
           26.119581
          ],
          [
           "Swimming",
           1,
           -80.161563,
           26.034707
          ],
          [
           "Swimming",
           3,
           -80.16158011,
           26.03472658
          ],
          [
           "Swimming",
           2,
           -80.16158011,
           26.03472658
          ],
          [
           "Swimming",
           4,
           -80.14038599999999,
           26.1635
          ],
          [
           "Swimming",
           1,
           -80.11376,
           26.084502
          ],
          [
           "Swimming",
           1,
           -80.16158011,
           26.03472658
          ],
          [
           "Swimming",
           1,
           -80.185788,
           26.033191
          ],
          [
           "Swimming",
           2,
           -80.080027,
           26.306007
          ],
          [
           "Swimming",
           1,
           -80.079237,
           26.305738
          ],
          [
           "Swimming",
           1,
           -80.09266099999999,
           26.236371999999996
          ],
          [
           "Swimming",
           2,
           -80.16158011,
           26.03472658
          ],
          [
           "Swimming",
           5,
           -80.079356,
           26.305759000000002
          ],
          [
           "Swimming",
           1,
           -80.07556899999999,
           26.313663000000002
          ],
          [
           "Swimming",
           1,
           -80.077159,
           26.303622999999998
          ],
          [
           "Swimming",
           1,
           -80.16158011,
           26.03472658
          ],
          [
           "Swimming",
           2,
           -80.16158011,
           26.03472658
          ],
          [
           "Swimming",
           2,
           -80.193692,
           26.085783
          ],
          [
           "Swimming",
           2,
           -80.193692,
           26.085783
          ],
          [
           "Swimming",
           1,
           -80.180747,
           26.098529
          ],
          [
           "Swimming",
           1,
           -80.117644,
           26.015317
          ],
          [
           "Swimming",
           1,
           -80.169899,
           26.094718
          ],
          [
           "Swimming",
           2,
           -80.161446,
           26.120186
          ],
          [
           "Swimming",
           1,
           -80.161651,
           26.11992
          ],
          [
           "Swimming",
           2,
           -80.193692,
           26.085783
          ],
          [
           "Swimming",
           2,
           -80.122873,
           26.209234
          ],
          [
           "Swimming",
           2,
           -80.18429499999999,
           26.067257
          ],
          [
           "Swimming",
           1,
           -80.1041,
           26.173045000000002
          ],
          [
           "Swimming",
           2,
           -80.193692,
           26.085783
          ],
          [
           "Swimming",
           2,
           -80.09275699999999,
           26.236056
          ],
          [
           "Swimming",
           2,
           -80.07967,
           26.305746999999997
          ],
          [
           "Swimming",
           1,
           -80.079595,
           26.305689
          ],
          [
           "Swimming",
           2,
           -80.081799,
           26.315345
          ],
          [
           "Swimming",
           1,
           -80.10388499999999,
           26.173521
          ],
          [
           "Swimming",
           1,
           -80.107863,
           26.128288
          ],
          [
           "Swimming",
           1,
           -80.107863,
           26.128288
          ],
          [
           "Swimming",
           1,
           -80.137445,
           26.118301000000002
          ],
          [
           "Swimming",
           4,
           -80.16158011,
           26.03472658
          ],
          [
           "Swimming",
           1,
           -80.107863,
           26.128288
          ],
          [
           "Swimming",
           1,
           -80.079358,
           26.305862
          ],
          [
           "Swimming",
           2,
           -80.079268,
           26.305922999999996
          ],
          [
           "Swimming",
           3,
           -80.07938,
           26.305771999999997
          ],
          [
           "Swimming",
           3,
           -80.07938,
           26.305771999999997
          ],
          [
           "Swimming",
           1,
           -80.11068399999999,
           26.22242
          ],
          [
           "Swimming",
           1,
           -80.161794,
           26.119554
          ],
          [
           "Swimming",
           2,
           -80.150376,
           26.164467000000002
          ],
          [
           "Swimming",
           1,
           -80.082223,
           26.315407
          ],
          [
           "Swimming",
           2,
           -80.079562,
           26.305629999999997
          ],
          [
           "Swimming",
           5,
           -80.16158011,
           26.03472658
          ],
          [
           "Swimming",
           6,
           -80.16158011,
           26.03472658
          ],
          [
           "Swimming",
           7,
           -80.16158011,
           26.03472658
          ],
          [
           "Swimming",
           9,
           -80.16158011,
           26.03472658
          ],
          [
           "Swimming",
           4,
           -80.16158011,
           26.03472658
          ],
          [
           "Swimming",
           2,
           -80.08242800000001,
           26.31543
          ],
          [
           "Swimming",
           2,
           -80.08242800000001,
           26.31543
          ],
          [
           "Swimming",
           1,
           -80.12238,
           25.981954
          ],
          [
           "Swimming",
           2,
           -80.07935400000001,
           26.305497999999996
          ],
          [
           "Swimming",
           2,
           -80.079418,
           26.305727
          ],
          [
           "Swimming",
           5,
           -80.16158011,
           26.03472658
          ],
          [
           "Swimming",
           4,
           -80.079639,
           26.305711
          ],
          [
           "Swimming",
           3,
           -80.079502,
           26.305708000000003
          ],
          [
           "Swimming",
           6,
           -80.07950600000001,
           26.305627
          ],
          [
           "Swimming",
           1,
           -80.122445,
           25.982239
          ],
          [
           "Swimming",
           1,
           -80.180401,
           26.32625
          ],
          [
           "Swimming",
           1,
           -80.13855500000001,
           26.118555999999998
          ],
          [
           "Swimming",
           1,
           -80.11166899999999,
           26.090532999999997
          ],
          [
           "Swimming",
           1,
           -80.11166899999999,
           26.090532999999997
          ],
          [
           "Swimming",
           1,
           -80.122659,
           25.982147
          ],
          [
           "Swimming",
           1,
           -80.122217,
           25.981826
          ],
          [
           "Swimming",
           3,
           -80.07955799999999,
           26.305840000000003
          ],
          [
           "Swimming",
           1,
           -80.12238,
           25.981954
          ],
          [
           "Swimming",
           2,
           -80.079491,
           26.305678000000004
          ],
          [
           "Swimming",
           1,
           -80.092665,
           26.235819
          ],
          [
           "Swimming",
           1,
           -80.100577,
           26.202872
          ],
          [
           "Swimming",
           3,
           -80.113744,
           26.079282
          ],
          [
           "Swimming",
           2,
           -80.122609,
           25.982248000000002
          ],
          [
           "Swimming",
           1,
           -80.202288,
           26.06821
          ],
          [
           "Swimming",
           1,
           -80.120637,
           26.21467
          ],
          [
           "Swimming",
           2,
           -80.079451,
           26.305863000000002
          ],
          [
           "Swimming",
           2,
           -80.09095500000001,
           26.249421999999996
          ],
          [
           "Swimming",
           1,
           -80.11604200000001,
           26.035035
          ],
          [
           "Swimming",
           2,
           -80.122462,
           25.982035999999997
          ],
          [
           "Swimming",
           1,
           -80.092724,
           26.235985999999997
          ],
          [
           "Swimming",
           1,
           -80.161716,
           26.119958
          ],
          [
           "Swimming",
           2,
           -80.07955,
           26.305756
          ],
          [
           "Swimming",
           3,
           -80.079553,
           26.305589
          ],
          [
           "Swimming",
           2,
           -80.163302,
           26.026376000000003
          ],
          [
           "Swimming",
           2,
           -80.122413,
           25.982151
          ],
          [
           "Swimming",
           2,
           -80.122483,
           25.98208
          ],
          [
           "Swimming",
           1,
           -80.117813,
           26.005853
          ],
          [
           "Swimming",
           1,
           -80.111549,
           26.090612
          ],
          [
           "Swimming",
           4,
           -80.079308,
           26.305751
          ],
          [
           "Swimming",
           4,
           -80.079308,
           26.305751
          ],
          [
           "Swimming",
           2,
           -80.092734,
           26.236288000000002
          ],
          [
           "Swimming",
           2,
           -80.081374,
           26.315440000000002
          ],
          [
           "Swimming",
           4,
           -80.079308,
           26.305751
          ],
          [
           "Swimming",
           1,
           -80.09269499999999,
           26.236132
          ],
          [
           "Swimming",
           2,
           -80.16158011,
           26.03472658
          ],
          [
           "Swimming",
           1,
           -80.120773,
           26.095904
          ],
          [
           "Swimming",
           1,
           -80.120773,
           26.095904
          ],
          [
           "Swimming",
           1,
           -80.12195,
           25.981882000000002
          ],
          [
           "Swimming",
           1,
           -80.16158011,
           26.03472658
          ],
          [
           "Swimming",
           1,
           -80.11162,
           26.090559
          ],
          [
           "Swimming",
           4,
           -80.16158011,
           26.03472658
          ],
          [
           "Swimming",
           1,
           -80.122803,
           25.982248000000002
          ],
          [
           "Swimming",
           1,
           -80.123327,
           25.982414000000002
          ],
          [
           "Swimming",
           1,
           -80.12257,
           25.982260999999998
          ],
          [
           "Swimming",
           5,
           -80.161568,
           26.034707
          ],
          [
           "Swimming",
           1,
           -80.120773,
           26.095904
          ],
          [
           "Swimming",
           2,
           -80.11856800000001,
           26.013898
          ],
          [
           "Swimming",
           1,
           -80.122274,
           25.982383
          ],
          [
           "Swimming",
           2,
           -80.122587,
           25.982325
          ],
          [
           "Swimming",
           1,
           -80.122943,
           25.982311
          ],
          [
           "Swimming",
           1,
           -80.092493,
           26.235715999999996
          ],
          [
           "Swimming",
           1,
           -80.079601,
           26.305845
          ],
          [
           "Swimming",
           1,
           -80.117643,
           26.014338000000002
          ],
          [
           "Swimming",
           1,
           -80.117643,
           26.014338000000002
          ],
          [
           "Swimming",
           1,
           -80.122861,
           25.98222
          ],
          [
           "Swimming",
           5,
           -80.16158011,
           26.03472658
          ],
          [
           "Swimming",
           2,
           -80.16158011,
           26.03472658
          ],
          [
           "Swimming",
           1,
           -80.117643,
           26.014338000000002
          ],
          [
           "Swimming",
           2,
           -80.122713,
           25.982179000000002
          ],
          [
           "Swimming",
           1,
           -80.182293,
           26.039785000000002
          ],
          [
           "Swimming",
           2,
           -80.109004,
           26.218056
          ],
          [
           "Swimming",
           1,
           -80.123064,
           25.9823
          ],
          [
           "Swimming",
           1,
           -80.123196,
           25.982322
          ],
          [
           "Swimming",
           1,
           -80.122968,
           25.982239
          ],
          [
           "Swimming",
           5,
           -80.161568,
           26.034707
          ],
          [
           "Swimming",
           1,
           -80.122619,
           25.982029
          ],
          [
           "Swimming",
           2,
           -80.09146199999999,
           26.24395
          ],
          [
           "Swimming",
           2,
           -80.115195,
           26.044369
          ],
          [
           "Swimming",
           1,
           -80.12031,
           25.942255
          ],
          [
           "Swimming",
           3,
           -80.079424,
           26.305790000000002
          ],
          [
           "Swimming",
           2,
           -80.07925,
           26.305740999999998
          ],
          [
           "Swimming",
           1,
           -80.11841873,
           25.99469736
          ],
          [
           "Swimming",
           2,
           -80.122068,
           25.98214
          ],
          [
           "Swimming",
           2,
           -80.07970300000001,
           26.306008000000002
          ],
          [
           "Swimming",
           5,
           -80.16158011,
           26.03472658
          ],
          [
           "Swimming",
           1,
           -80.122264,
           25.984606
          ],
          [
           "Swimming",
           2,
           -80.09262199999999,
           26.23619
          ],
          [
           "Swimming",
           2,
           -80.079412,
           26.305656
          ],
          [
           "Swimming",
           1,
           -80.09249,
           26.236177
          ],
          [
           "Swimming",
           2,
           -80.122438,
           25.984579
          ],
          [
           "Swimming",
           2,
           -80.123616,
           25.982495
          ],
          [
           "Swimming",
           1,
           -80.122686,
           25.982305
          ],
          [
           "Swimming",
           3,
           -80.09339,
           26.236539
          ],
          [
           "Swimming",
           1,
           -80.122484,
           25.982193
          ],
          [
           "Swimming",
           3,
           -80.079332,
           26.305845
          ],
          [
           "Swimming",
           2,
           -80.163308,
           26.026294
          ],
          [
           "Swimming",
           1,
           -80.12263399999999,
           25.982232
          ],
          [
           "Swimming",
           2,
           -80.082944,
           26.315639
          ],
          [
           "Swimming",
           4,
           -80.16158011,
           26.03472658
          ],
          [
           "Swimming",
           1,
           -80.15599399999999,
           26.054883
          ],
          [
           "Swimming",
           2,
           -80.07954699999999,
           26.305833000000003
          ],
          [
           "Swimming",
           1,
           -80.130866,
           26.198937
          ],
          [
           "Swimming",
           1,
           -80.092711,
           26.235878000000003
          ],
          [
           "Swimming",
           2,
           -80.09947700000001,
           26.209804000000002
          ],
          [
           "Swimming",
           1,
           -80.11572199999999,
           26.07848
          ],
          [
           "Swimming",
           1,
           -80.092711,
           26.235878000000003
          ],
          [
           "Swimming",
           3,
           -80.07929399999999,
           26.305733
          ],
          [
           "Swimming",
           2,
           -80.106635,
           26.222953000000004
          ],
          [
           "Swimming",
           1,
           -80.093645,
           26.211542
          ],
          [
           "Swimming",
           2,
           -80.079561,
           26.305553000000003
          ],
          [
           "Swimming",
           2,
           -80.081439,
           26.315595000000002
          ],
          [
           "Swimming",
           2,
           -80.106635,
           26.222953000000004
          ],
          [
           "Swimming",
           2,
           -80.092683,
           26.235816999999997
          ],
          [
           "Swimming",
           2,
           -80.081439,
           26.315595000000002
          ],
          [
           "Swimming",
           2,
           -80.079561,
           26.305553000000003
          ],
          [
           "Swimming",
           2,
           -80.106635,
           26.222953000000004
          ],
          [
           "Swimming",
           1,
           -80.123267,
           26.126752
          ],
          [
           "Swimming",
           1,
           -80.123267,
           26.126752
          ],
          [
           "Swimming",
           1,
           -80.114736,
           26.086002
          ],
          [
           "Swimming",
           1,
           -80.081851,
           26.315424
          ],
          [
           "Swimming",
           2,
           -80.115585,
           26.078529999999997
          ],
          [
           "Swimming",
           2,
           -80.115585,
           26.078529999999997
          ],
          [
           "Swimming",
           1,
           -80.18239200000001,
           26.088478
          ],
          [
           "Swimming",
           1,
           -80.18239200000001,
           26.088478
          ],
          [
           "Swimming",
           1,
           -80.18239200000001,
           26.088478
          ],
          [
           "Swimming",
           1,
           -80.18239200000001,
           26.088478
          ],
          [
           "Swimming",
           2,
           -80.17785400000001,
           26.090962
          ],
          [
           "Swimming",
           1,
           -80.124371,
           26.086934
          ],
          [
           "Swimming",
           1,
           -80.119268,
           26.078459
          ],
          [
           "Swimming",
           1,
           -80.119452,
           26.162502
          ],
          [
           "Swimming",
           1,
           -80.119452,
           26.162502
          ],
          [
           "Swimming",
           2,
           -80.128613,
           25.98250962
          ],
          [
           "Swimming",
           2,
           -80.128613,
           25.98250962
          ],
          [
           "Swimming",
           2,
           -80.128613,
           25.98250962
          ],
          [
           "Swimming",
           2,
           -80.217414,
           26.068776
          ],
          [
           "Swimming",
           1,
           -80.119506,
           26.162472
          ],
          [
           "Swimming",
           1,
           -80.119506,
           26.162472
          ],
          [
           "Swimming",
           1,
           -80.119506,
           26.162472
          ],
          [
           "Swimming",
           1,
           -80.115311,
           26.047738
          ],
          [
           "Swimming",
           1,
           -80.119506,
           26.162472
          ],
          [
           "Swimming",
           1,
           -80.19971600000001,
           26.073754
          ],
          [
           "Swimming",
           1,
           -80.19971600000001,
           26.073754
          ],
          [
           "Swimming",
           1,
           -80.19971600000001,
           26.073754
          ],
          [
           "Swimming",
           1,
           -80.119506,
           26.162472
          ],
          [
           "Swimming",
           1,
           -80.119506,
           26.162472
          ],
          [
           "Swimming",
           1,
           -80.119506,
           26.162472
          ],
          [
           "Swimming",
           1,
           -80.119843,
           26.079027
          ],
          [
           "Swimming",
           1,
           -80.119843,
           26.079027
          ],
          [
           "Swimming",
           1,
           -80.119843,
           26.079027
          ],
          [
           "Swimming",
           1,
           -80.119843,
           26.079027
          ],
          [
           "Swimming",
           2,
           -80.12385833,
           25.97763373
          ],
          [
           "Swimming",
           1,
           -80.16158011,
           26.03472658
          ],
          [
           "Swimming",
           1,
           -80.111584,
           26.091127
          ],
          [
           "Swimming",
           1,
           -80.10335400000001,
           26.170897
          ],
          [
           "Swimming",
           1,
           -80.111584,
           26.091127
          ],
          [
           "Swimming",
           1,
           -80.15657900000001,
           26.10449
          ],
          [
           "Swimming",
           1,
           -80.111584,
           26.091127
          ],
          [
           "Swimming",
           2,
           -80.11025642,
           26.22209997
          ],
          [
           "Swimming",
           2,
           -80.12385833,
           25.97763373
          ],
          [
           "Swimming",
           1,
           -80.16158011,
           26.03472658
          ],
          [
           "Swimming",
           1,
           -80.08234499999999,
           26.315478999999996
          ],
          [
           "Swimming",
           1,
           -80.08234499999999,
           26.315478999999996
          ],
          [
           "Swimming",
           1,
           -80.08234499999999,
           26.315478999999996
          ],
          [
           "Swimming",
           1,
           -80.114246,
           26.052771
          ],
          [
           "Swimming",
           1,
           -80.114246,
           26.052771
          ],
          [
           "Swimming",
           1,
           -80.114132,
           26.052539000000003
          ],
          [
           "Swimming",
           2,
           -80.114073,
           26.085351
          ],
          [
           "Swimming",
           1,
           -80.12347,
           25.976599
          ],
          [
           "Swimming",
           2,
           -80.114073,
           26.085351
          ],
          [
           "Swimming",
           1,
           -80.12355500000001,
           25.976392
          ],
          [
           "Swimming",
           1,
           -80.081849,
           26.315572999999997
          ],
          [
           "Swimming",
           1,
           -80.081849,
           26.315572999999997
          ],
          [
           "Swimming",
           1,
           -80.081849,
           26.315572999999997
          ],
          [
           "Swimming",
           1,
           -80.081849,
           26.315572999999997
          ],
          [
           "Swimming",
           2,
           -80.115802,
           26.073339999999998
          ],
          [
           "Swimming",
           2,
           -80.115802,
           26.073339999999998
          ],
          [
           "Swimming",
           2,
           -80.115802,
           26.073339999999998
          ],
          [
           "Swimming",
           2,
           -80.115802,
           26.073339999999998
          ],
          [
           "Swimming",
           2,
           -80.115802,
           26.073339999999998
          ],
          [
           "Swimming",
           1,
           -80.232646,
           25.975071
          ],
          [
           "Swimming",
           1,
           -80.232646,
           25.975071
          ],
          [
           "Swimming",
           2,
           -80.11477,
           26.071996
          ],
          [
           "Swimming",
           2,
           -80.11477,
           26.071996
          ],
          [
           "Swimming",
           1,
           -80.232646,
           25.975071
          ],
          [
           "Swimming",
           1,
           -80.232646,
           25.975071
          ],
          [
           "Swimming",
           1,
           -80.232646,
           25.975071
          ],
          [
           "Swimming",
           1,
           -80.232646,
           25.975071
          ],
          [
           "Swimming",
           2,
           -80.079378,
           26.305894
          ],
          [
           "Swimming",
           2,
           -80.079378,
           26.305894
          ],
          [
           "Swimming",
           2,
           -80.08237,
           26.315416
          ],
          [
           "Swimming",
           2,
           -80.079358,
           26.30586
          ],
          [
           "Swimming",
           3,
           -80.079363,
           26.305859
          ],
          [
           "Swimming",
           2,
           -80.079403,
           26.305836
          ],
          [
           "Swimming",
           1,
           -80.079417,
           26.305865999999998
          ],
          [
           "Swimming",
           1,
           -80.079417,
           26.305865999999998
          ],
          [
           "Swimming",
           1,
           -80.102216,
           26.145306
          ],
          [
           "Swimming",
           1,
           -80.102216,
           26.145306
          ],
          [
           "Swimming",
           2,
           -80.108707,
           26.224790000000002
          ],
          [
           "Swimming",
           1,
           -80.08200699999999,
           26.315451
          ],
          [
           "Swimming",
           1,
           -80.115402,
           26.038941
          ],
          [
           "Swimming",
           2,
           -80.13970400000001,
           26.116169
          ],
          [
           "Swimming",
           1,
           -80.119496,
           26.162489
          ],
          [
           "Swimming",
           1,
           -80.119496,
           26.162489
          ],
          [
           "Swimming",
           1,
           -80.104455,
           26.164358
          ],
          [
           "Swimming",
           1,
           -80.119496,
           26.162489
          ],
          [
           "Swimming",
           2,
           -80.07943399999999,
           26.305846999999996
          ],
          [
           "Swimming",
           2,
           -80.07943399999999,
           26.305846999999996
          ],
          [
           "Swimming",
           1,
           -80.119313,
           26.162921
          ],
          [
           "Swimming",
           1,
           -80.119313,
           26.162921
          ],
          [
           "Swimming",
           3,
           -80.079488,
           26.305863000000002
          ],
          [
           "Swimming",
           3,
           -80.079412,
           26.305836
          ],
          [
           "Swimming",
           3,
           -80.07937199999999,
           26.305876
          ],
          [
           "Swimming",
           2,
           -80.13215600000001,
           26.153729000000002
          ],
          [
           "Swimming",
           2,
           -80.094636,
           26.225731
          ],
          [
           "Swimming",
           2,
           -80.079441,
           26.305858
          ],
          [
           "Swimming",
           2,
           -80.07943900000001,
           26.30586
          ],
          [
           "Swimming",
           3,
           -80.079346,
           26.305885999999997
          ],
          [
           "Swimming",
           3,
           -80.079398,
           26.305861
          ],
          [
           "Swimming",
           2,
           -80.07940500000001,
           26.305862
          ],
          [
           "Swimming",
           9,
           -80.079398,
           26.306009999999997
          ],
          [
           "Swimming",
           2,
           -80.079453,
           26.305858
          ],
          [
           "Swimming",
           3,
           -80.079422,
           26.305861
          ],
          [
           "Swimming",
           7,
           -80.079424,
           26.305865
          ]
         ],
         "hovertemplate": "Activity=%{customdata[0]}<br>Total Number of Manatees=%{customdata[1]}<extra></extra>",
         "lat": [
          26.22129914,
          26.22140944,
          25.72946264,
          25.72946264,
          26.116310000000002,
          26.116262,
          26.456023,
          26.118759,
          26.117449,
          26.117793,
          26.112491000000002,
          26.456037,
          26.306165000000004,
          26.154254,
          26.224732,
          26.096324,
          26.456026,
          26.098917,
          26.305892,
          26.117760999999998,
          26.305882,
          26.693995,
          26.169995999999998,
          26.170357,
          26.30576,
          26.116974,
          26.45607,
          26.060385,
          26.136198,
          26.094838,
          26.091358,
          26.094978,
          26.13651,
          26.136468,
          26.0984,
          26.136842,
          26.171183,
          26.095955,
          26.067365,
          26.067708,
          26.084761999999998,
          26.089702,
          26.091155,
          26.094267000000002,
          26.093726,
          26.082351,
          26.305903999999998,
          26.063435000000002,
          26.084258,
          26.067834,
          26.067491,
          26.068951000000002,
          26.136226,
          26.171065,
          26.135931,
          26.112804999999998,
          26.136333,
          26.17071,
          26.079667999999998,
          26.13735,
          26.24565,
          26.245758000000002,
          26.305840999999997,
          26.11917141,
          26.164723000000002,
          26.153894,
          26.153894,
          26.154039,
          26.136112,
          26.135362,
          26.15397,
          26.117044,
          26.117070000000002,
          26.117102,
          26.117081,
          26.116999999999997,
          26.117379,
          26.135785000000002,
          26.117601999999998,
          26.305944,
          26.305832000000002,
          26.154188,
          26.118986,
          26.305881,
          26.161915,
          26.153374,
          26.16218,
          26.305975,
          26.305921,
          26.306044,
          26.152784,
          26.244401,
          26.244528000000003,
          26.244429999999998,
          26.306010999999998,
          26.137437,
          26.162003,
          26.117097,
          26.117105,
          26.11719,
          26.306143,
          26.306001000000002,
          26.306164000000003,
          26.306053000000002,
          26.3058,
          26.305783,
          26.305740000000004,
          26.117145,
          26.305746999999997,
          26.306013,
          26.221234000000003,
          26.066499,
          26.116933,
          26.281197,
          26.114416000000002,
          26.078499,
          26.094569,
          26.105539999999998,
          26.117045,
          26.30575,
          26.13694,
          26.136972,
          26.136924,
          26.115533,
          26.117568,
          26.305752000000002,
          26.305766,
          26.305796,
          26.10278607,
          26.120754,
          26.123623000000002,
          26.074472,
          26.059529,
          26.081164,
          26.079711,
          26.161983,
          27.336923,
          26.09084151,
          26.081405,
          26.162562,
          26.082112,
          25.979861,
          25.980062,
          26.090411,
          26.091235,
          25.981313,
          26.081459,
          26.342240000000004,
          26.34235,
          26.078592999999998,
          26.137279,
          26.137294,
          26.116382,
          26.12107266,
          26.005764000000003,
          26.305809999999997,
          26.210663,
          26.005682999999998,
          25.762311999999998,
          26.03472658,
          26.03472658,
          26.03472658,
          26.03472658,
          26.03472658,
          26.03472658,
          26.305971999999997,
          25.762451000000002,
          26.03472658,
          26.233573,
          26.233648,
          26.013793,
          24.723581,
          26.136359,
          26.236310999999997,
          26.236226000000002,
          26.03472658,
          26.211253,
          26.11729,
          26.189229,
          25.138068,
          26.03472658,
          26.115896,
          26.13606,
          26.137367,
          26.137301,
          26.162304000000002,
          26.272234,
          26.118052,
          26.03472658,
          26.086273000000002,
          26.098584,
          26.455775,
          26.136343,
          26.043622,
          26.03452909,
          26.03472658,
          26.03472658,
          26.121582999999998,
          26.03472658,
          26.068214,
          26.243655,
          26.074507999999998,
          26.455925,
          26.137163,
          26.305797,
          26.305640999999998,
          26.118309,
          26.03472658,
          26.03472658,
          26.235843,
          26.188542,
          26.166075,
          26.305766,
          26.03472658,
          26.03452909,
          26.03472658,
          26.136314000000002,
          26.236152,
          26.162546,
          26.030754,
          26.16258233,
          26.16379488,
          26.456083000000003,
          26.030936999999998,
          26.03472658,
          26.03472658,
          26.03452909,
          26.236196999999997,
          26.03472658,
          26.03472658,
          26.305958,
          26.305888,
          26.243732,
          26.03472658,
          26.306036,
          26.03472658,
          26.03472658,
          26.000485,
          26.455947,
          26.08558,
          26.305965000000004,
          26.136232,
          26.162285999999998,
          26.117949,
          26.165891000000002,
          26.03472658,
          26.16295086,
          26.167042000000002,
          26.211476,
          26.305768,
          26.210665,
          26.305692999999998,
          26.137293,
          26.137394,
          26.08475606,
          26.111303,
          26.115313,
          26.121514,
          26.21199818,
          26.21199818,
          26.236863,
          26.110829000000003,
          26.308759000000002,
          26.112414,
          26.305659999999996,
          26.11722,
          26.236863,
          26.305836,
          26.065046,
          26.102528,
          26.03472658,
          26.21199818,
          26.236863,
          26.305606,
          26.106985,
          26.305606,
          26.305790999999996,
          26.124582,
          26.16246,
          26.305902000000003,
          26.236423,
          26.236288000000002,
          26.03472658,
          26.163947,
          26.236197999999998,
          26.236181,
          26.236517,
          26.03472658,
          26.133972,
          26.305938,
          26.305839000000002,
          26.236428999999998,
          26.305851,
          26.13625,
          26.081892,
          26.188626,
          26.117639,
          26.305838,
          26.116973,
          26.117001000000002,
          26.03472658,
          26.210829,
          26.166361,
          26.081726,
          26.136173,
          26.305797,
          26.099072,
          26.089763,
          26.083585999999997,
          26.071593,
          26.117084,
          26.127512,
          26.243754,
          26.243761,
          26.136123,
          26.095944,
          26.11846,
          26.162609,
          26.166329,
          26.117085999999997,
          26.156182,
          26.30582,
          26.117025,
          26.11711,
          26.305728000000002,
          26.136145000000003,
          26.038829999999997,
          26.151123000000002,
          26.136103,
          26.090010999999997,
          26.165992000000003,
          26.24375,
          26.306029,
          26.24377,
          26.118792000000003,
          26.243757000000002,
          26.305845,
          26.161967999999998,
          26.125151000000002,
          26.150812,
          26.111214999999998,
          26.236431,
          26.03472658,
          26.03472658,
          26.14485,
          26.305982,
          26.30576,
          26.136144,
          26.10233,
          26.099743,
          26.117291,
          26.15391,
          26.305732,
          26.03472658,
          26.141175,
          26.118319,
          26.16258233,
          26.305968,
          26.16258233,
          26.090204,
          26.117407999999998,
          26.117407999999998,
          26.162779,
          26.137058,
          26.117407999999998,
          26.09838,
          26.121133,
          26.249436,
          26.038968,
          26.1185,
          26.114732,
          26.1185,
          26.305865,
          26.305768,
          26.137973000000002,
          26.116223,
          26.210871,
          26.235646999999997,
          26.147861,
          26.315579,
          26.118174,
          26.116293,
          26.119635,
          26.30589,
          26.164848000000003,
          26.305590000000002,
          26.305965999999998,
          26.305763,
          26.19524,
          26.164883,
          26.305590000000002,
          26.164883,
          26.195337,
          26.195213,
          26.195204,
          26.19528006,
          26.016517999999998,
          26.038098,
          26.038098,
          26.194746,
          26.305821999999996,
          26.236187,
          26.16258233,
          26.11709,
          26.013872,
          26.195628,
          26.119515,
          26.315278000000003,
          26.09764,
          26.249074,
          26.247594,
          26.03472658,
          26.03472658,
          26.03472658,
          26.03472658,
          26.03472658,
          26.224759999999996,
          26.091144,
          26.091144,
          26.117048,
          26.03460472,
          26.015566,
          26.015566,
          26.090567,
          26.015566,
          26.015566,
          26.015566,
          26.091387,
          26.091387,
          26.091387,
          26.091387,
          26.091387,
          26.091224,
          26.091224,
          26.014943,
          26.091224,
          26.03472658,
          26.03472658,
          26.03461317,
          26.03461317,
          26.03461317,
          26.089941,
          26.078543,
          26.078543,
          26.078543,
          26.078543,
          26.078543,
          26.03472658,
          26.078543,
          26.080378,
          26.038946,
          26.305743,
          26.236438,
          26.038946,
          26.080571,
          26.03472658,
          26.078543,
          26.013742,
          26.03472658,
          26.080378,
          26.235917999999998,
          26.236062,
          26.236648,
          26.30583,
          26.305769,
          26.03472658,
          26.235975,
          26.221890000000002,
          26.03472658,
          26.208986,
          26.078749,
          26.078749,
          26.305729,
          26.03472658,
          26.03472658,
          26.179595000000003,
          26.03472658,
          26.305853999999997,
          26.070044199999998,
          26.070044199999998,
          26.070044199999998,
          26.305742,
          26.121054,
          26.118707,
          26.119581,
          26.034707,
          26.03472658,
          26.03472658,
          26.1635,
          26.084502,
          26.03472658,
          26.033191,
          26.306007,
          26.305738,
          26.236371999999996,
          26.03472658,
          26.305759000000002,
          26.313663000000002,
          26.303622999999998,
          26.03472658,
          26.03472658,
          26.085783,
          26.085783,
          26.098529,
          26.015317,
          26.094718,
          26.120186,
          26.11992,
          26.085783,
          26.209234,
          26.067257,
          26.173045000000002,
          26.085783,
          26.236056,
          26.305746999999997,
          26.305689,
          26.315345,
          26.173521,
          26.128288,
          26.128288,
          26.118301000000002,
          26.03472658,
          26.128288,
          26.305862,
          26.305922999999996,
          26.305771999999997,
          26.305771999999997,
          26.22242,
          26.119554,
          26.164467000000002,
          26.315407,
          26.305629999999997,
          26.03472658,
          26.03472658,
          26.03472658,
          26.03472658,
          26.03472658,
          26.31543,
          26.31543,
          25.981954,
          26.305497999999996,
          26.305727,
          26.03472658,
          26.305711,
          26.305708000000003,
          26.305627,
          25.982239,
          26.32625,
          26.118555999999998,
          26.090532999999997,
          26.090532999999997,
          25.982147,
          25.981826,
          26.305840000000003,
          25.981954,
          26.305678000000004,
          26.235819,
          26.202872,
          26.079282,
          25.982248000000002,
          26.06821,
          26.21467,
          26.305863000000002,
          26.249421999999996,
          26.035035,
          25.982035999999997,
          26.235985999999997,
          26.119958,
          26.305756,
          26.305589,
          26.026376000000003,
          25.982151,
          25.98208,
          26.005853,
          26.090612,
          26.305751,
          26.305751,
          26.236288000000002,
          26.315440000000002,
          26.305751,
          26.236132,
          26.03472658,
          26.095904,
          26.095904,
          25.981882000000002,
          26.03472658,
          26.090559,
          26.03472658,
          25.982248000000002,
          25.982414000000002,
          25.982260999999998,
          26.034707,
          26.095904,
          26.013898,
          25.982383,
          25.982325,
          25.982311,
          26.235715999999996,
          26.305845,
          26.014338000000002,
          26.014338000000002,
          25.98222,
          26.03472658,
          26.03472658,
          26.014338000000002,
          25.982179000000002,
          26.039785000000002,
          26.218056,
          25.9823,
          25.982322,
          25.982239,
          26.034707,
          25.982029,
          26.24395,
          26.044369,
          25.942255,
          26.305790000000002,
          26.305740999999998,
          25.99469736,
          25.98214,
          26.306008000000002,
          26.03472658,
          25.984606,
          26.23619,
          26.305656,
          26.236177,
          25.984579,
          25.982495,
          25.982305,
          26.236539,
          25.982193,
          26.305845,
          26.026294,
          25.982232,
          26.315639,
          26.03472658,
          26.054883,
          26.305833000000003,
          26.198937,
          26.235878000000003,
          26.209804000000002,
          26.07848,
          26.235878000000003,
          26.305733,
          26.222953000000004,
          26.211542,
          26.305553000000003,
          26.315595000000002,
          26.222953000000004,
          26.235816999999997,
          26.315595000000002,
          26.305553000000003,
          26.222953000000004,
          26.126752,
          26.126752,
          26.086002,
          26.315424,
          26.078529999999997,
          26.078529999999997,
          26.088478,
          26.088478,
          26.088478,
          26.088478,
          26.090962,
          26.086934,
          26.078459,
          26.162502,
          26.162502,
          25.98250962,
          25.98250962,
          25.98250962,
          26.068776,
          26.162472,
          26.162472,
          26.162472,
          26.047738,
          26.162472,
          26.073754,
          26.073754,
          26.073754,
          26.162472,
          26.162472,
          26.162472,
          26.079027,
          26.079027,
          26.079027,
          26.079027,
          25.97763373,
          26.03472658,
          26.091127,
          26.170897,
          26.091127,
          26.10449,
          26.091127,
          26.22209997,
          25.97763373,
          26.03472658,
          26.315478999999996,
          26.315478999999996,
          26.315478999999996,
          26.052771,
          26.052771,
          26.052539000000003,
          26.085351,
          25.976599,
          26.085351,
          25.976392,
          26.315572999999997,
          26.315572999999997,
          26.315572999999997,
          26.315572999999997,
          26.073339999999998,
          26.073339999999998,
          26.073339999999998,
          26.073339999999998,
          26.073339999999998,
          25.975071,
          25.975071,
          26.071996,
          26.071996,
          25.975071,
          25.975071,
          25.975071,
          25.975071,
          26.305894,
          26.305894,
          26.315416,
          26.30586,
          26.305859,
          26.305836,
          26.305865999999998,
          26.305865999999998,
          26.145306,
          26.145306,
          26.224790000000002,
          26.315451,
          26.038941,
          26.116169,
          26.162489,
          26.162489,
          26.164358,
          26.162489,
          26.305846999999996,
          26.305846999999996,
          26.162921,
          26.162921,
          26.305863000000002,
          26.305836,
          26.305876,
          26.153729000000002,
          26.225731,
          26.305858,
          26.30586,
          26.305885999999997,
          26.305861,
          26.305862,
          26.306009999999997,
          26.305858,
          26.305861,
          26.305865
         ],
         "legendgroup": "Swimming",
         "lon": [
          -80.13204768,
          -80.11224770000001,
          -80.26478319,
          -80.26478319,
          -80.14036800000001,
          -80.140277,
          -80.065088,
          -80.147116,
          -80.140761,
          -80.142771,
          -80.109911,
          -80.064977,
          -80.079764,
          -80.114437,
          -80.10901,
          -80.169508,
          -80.06509399999999,
          -80.164975,
          -80.07921800000001,
          -80.133581,
          -80.079062,
          -81.799867,
          -80.103685,
          -80.104558,
          -80.07924399999999,
          -80.140777,
          -80.0653,
          -80.127399,
          -80.109875,
          -80.171189,
          -80.17092099999999,
          -80.170778,
          -80.10791,
          -80.109535,
          -80.167986,
          -80.10938,
          -80.10328100000001,
          -80.17025100000001,
          -80.177431,
          -80.163224,
          -80.184908,
          -80.180718,
          -80.178394,
          -80.17389,
          -80.174091,
          -80.185905,
          -80.079608,
          -80.159499,
          -80.185272,
          -80.184616,
          -80.17771,
          -80.199647,
          -80.109214,
          -80.10323100000001,
          -80.109369,
          -80.10967099999999,
          -80.110057,
          -80.10328,
          -80.188838,
          -80.108254,
          -80.090544,
          -80.090422,
          -80.079165,
          -80.14369825,
          -80.10364799999999,
          -80.114583,
          -80.114583,
          -80.11447700000001,
          -80.118558,
          -80.119268,
          -80.114355,
          -80.139881,
          -80.13986700000001,
          -80.139842,
          -80.139845,
          -80.13992900000001,
          -80.139688,
          -80.109158,
          -80.142515,
          -80.079408,
          -80.079561,
          -80.128506,
          -80.146909,
          -80.078948,
          -80.118993,
          -80.11438100000001,
          -80.119625,
          -80.07955799999999,
          -80.079392,
          -80.079808,
          -80.114377,
          -80.09058900000001,
          -80.090975,
          -80.09058900000001,
          -80.079516,
          -80.107906,
          -80.118794,
          -80.139884,
          -80.140452,
          -80.14015699999999,
          -80.079633,
          -80.07972099999999,
          -80.08014200000001,
          -80.079766,
          -80.07908,
          -80.07964799999999,
          -80.079722,
          -80.139966,
          -80.07901,
          -80.07968199999999,
          -80.111867,
          -80.114734,
          -80.128603,
          -80.079756,
          -80.153141,
          -80.11912199999999,
          -80.172501,
          -80.1146,
          -80.139862,
          -80.079164,
          -80.109225,
          -80.109196,
          -80.109245,
          -80.150415,
          -80.13596,
          -80.079751,
          -80.080215,
          -80.079245,
          -80.22702113,
          -80.143608,
          -80.261715,
          -80.116428,
          -80.137348,
          -80.186378,
          -80.188348,
          -80.119516,
          -82.546807,
          -80.10993951,
          -80.11358100000001,
          -80.119415,
          -80.11269,
          -80.122989,
          -80.123372,
          -80.111823,
          -80.11170200000001,
          -80.127585,
          -80.120366,
          -80.07758000000001,
          -80.07755999999999,
          -80.120114,
          -80.108437,
          -80.10732800000001,
          -80.138675,
          -80.14401083,
          -80.11773000000001,
          -80.07907900000001,
          -80.09972900000001,
          -80.117623,
          -80.189578,
          -80.16158011,
          -80.16158011,
          -80.16158011,
          -80.16158011,
          -80.16158011,
          -80.16158011,
          -80.07893100000001,
          -80.189266,
          -80.16158011,
          -80.092735,
          -80.092722,
          -80.118538,
          -81.01525699999999,
          -80.108917,
          -80.09302,
          -80.092936,
          -80.16158011,
          -80.099053,
          -80.140077,
          -80.104107,
          -80.406112,
          -80.16158011,
          -80.126672,
          -80.108529,
          -80.107283,
          -80.107386,
          -80.119789,
          -80.100674,
          -80.109444,
          -80.16158011,
          -80.118914,
          -80.166443,
          -80.064413,
          -80.108896,
          -80.114807,
          -80.16155594,
          -80.16158011,
          -80.16158011,
          -80.163203,
          -80.16158011,
          -80.171295,
          -80.091254,
          -80.114729,
          -80.06517099999999,
          -80.107671,
          -80.079777,
          -80.079848,
          -80.146289,
          -80.16158011,
          -80.16158011,
          -80.092735,
          -80.103831,
          -80.103741,
          -80.079211,
          -80.16158011,
          -80.16155594,
          -80.16158011,
          -80.109536,
          -80.092708,
          -80.11940200000001,
          -80.163225,
          -80.11940108,
          -80.15925119,
          -80.064521,
          -80.163423,
          -80.16158011,
          -80.16158011,
          -80.16155594,
          -80.092739,
          -80.16158011,
          -80.16158011,
          -80.079575,
          -80.079237,
          -80.090788,
          -80.16158011,
          -80.07953,
          -80.16158011,
          -80.16158011,
          -80.118411,
          -80.06518299999999,
          -80.194229,
          -80.079705,
          -80.109004,
          -80.119721,
          -80.14385,
          -80.127507,
          -80.16158011,
          -80.10387414,
          -80.121876,
          -80.098887,
          -80.079387,
          -80.099159,
          -80.079215,
          -80.108007,
          -80.108485,
          -80.18249239,
          -80.107337,
          -80.104623,
          -80.2541,
          -80.09888507,
          -80.09888507,
          -80.092811,
          -80.10674399999999,
          -80.077577,
          -80.156337,
          -80.079486,
          -80.130884,
          -80.092811,
          -80.07937700000001,
          -80.115061,
          -80.118053,
          -80.16158011,
          -80.09888507,
          -80.092811,
          -80.079575,
          -80.105181,
          -80.079575,
          -80.07991,
          -80.10403000000001,
          -80.119434,
          -80.079543,
          -80.09342099999999,
          -80.092845,
          -80.16158011,
          -80.104389,
          -80.092683,
          -80.092924,
          -80.093458,
          -80.16158011,
          -80.109227,
          -80.079451,
          -80.079481,
          -80.09331999999999,
          -80.07933,
          -80.10876,
          -80.12040400000001,
          -80.103788,
          -80.134058,
          -80.079336,
          -80.139938,
          -80.139945,
          -80.16158011,
          -80.099797,
          -80.103809,
          -80.12044,
          -80.109142,
          -80.079142,
          -80.16396999999999,
          -80.181001,
          -80.185168,
          -80.200711,
          -80.139964,
          -80.10792099999999,
          -80.090616,
          -80.090737,
          -80.109257,
          -80.12011600000001,
          -80.137426,
          -80.119458,
          -80.103888,
          -80.1409,
          -80.105532,
          -80.079588,
          -80.139833,
          -80.139937,
          -80.079593,
          -80.10948499999999,
          -80.119123,
          -80.147072,
          -80.107996,
          -80.17981999999999,
          -80.10370999999999,
          -80.09072900000001,
          -80.080033,
          -80.09073199999999,
          -80.146307,
          -80.09071999999999,
          -80.079521,
          -80.119019,
          -80.107754,
          -80.142374,
          -80.113241,
          -80.09329699999999,
          -80.16158011,
          -80.16158011,
          -80.102417,
          -80.079668,
          -80.079157,
          -80.109273,
          -80.119462,
          -80.118567,
          -80.131812,
          -80.106076,
          -80.079717,
          -80.16158011,
          -80.10755999999999,
          -80.144869,
          -80.11940108,
          -80.07963199999999,
          -80.11940108,
          -80.179811,
          -80.140914,
          -80.140914,
          -80.11940600000001,
          -80.108715,
          -80.140914,
          -80.167419,
          -80.163042,
          -80.090296,
          -80.12079399999999,
          -80.137454,
          -80.108673,
          -80.137454,
          -80.079561,
          -80.07919,
          -80.107552,
          -80.139674,
          -80.09944200000001,
          -80.09298000000001,
          -80.107968,
          -80.082328,
          -80.14601800000001,
          -80.108981,
          -80.161781,
          -80.07975400000001,
          -80.104293,
          -80.07957900000001,
          -80.079419,
          -80.079373,
          -80.103188,
          -80.13959399999999,
          -80.07957900000001,
          -80.13959399999999,
          -80.10332199999999,
          -80.10342800000001,
          -80.103336,
          -80.10311748,
          -80.11704499999999,
          -80.11620500000001,
          -80.11620500000001,
          -80.102358,
          -80.07916800000001,
          -80.09271600000001,
          -80.11940108,
          -80.13973299999999,
          -80.11846800000001,
          -80.102184,
          -80.147616,
          -80.08185,
          -80.167023,
          -80.090395,
          -80.09067399999999,
          -80.16158011,
          -80.16158011,
          -80.16158011,
          -80.16158011,
          -80.16158011,
          -80.108675,
          -80.111695,
          -80.111695,
          -80.13685699999999,
          -80.16193505,
          -80.117164,
          -80.117164,
          -80.111827,
          -80.117164,
          -80.117164,
          -80.117164,
          -80.11194499999999,
          -80.11194499999999,
          -80.11194499999999,
          -80.11194499999999,
          -80.11194499999999,
          -80.111767,
          -80.111767,
          -80.117306,
          -80.111767,
          -80.16158011,
          -80.16158011,
          -80.16193119,
          -80.16193119,
          -80.16193119,
          -80.11741500000001,
          -80.11614499999999,
          -80.11614499999999,
          -80.11614499999999,
          -80.11614499999999,
          -80.11614499999999,
          -80.16158011,
          -80.11614499999999,
          -80.18666400000001,
          -80.11576099999999,
          -80.079288,
          -80.092619,
          -80.11576099999999,
          -80.119811,
          -80.16158011,
          -80.11614499999999,
          -80.118487,
          -80.16158011,
          -80.18666400000001,
          -80.092674,
          -80.092614,
          -80.09282900000001,
          -80.07916,
          -80.079295,
          -80.16158011,
          -80.09255300000001,
          -80.111028,
          -80.16158011,
          -80.099793,
          -80.120172,
          -80.120172,
          -80.079215,
          -80.16158011,
          -80.16158011,
          -80.125865,
          -80.16158011,
          -80.079835,
          -80.19236205,
          -80.19236205,
          -80.19236205,
          -80.079399,
          -80.143772,
          -80.147274,
          -80.147438,
          -80.161563,
          -80.16158011,
          -80.16158011,
          -80.14038599999999,
          -80.11376,
          -80.16158011,
          -80.185788,
          -80.080027,
          -80.079237,
          -80.09266099999999,
          -80.16158011,
          -80.079356,
          -80.07556899999999,
          -80.077159,
          -80.16158011,
          -80.16158011,
          -80.193692,
          -80.193692,
          -80.180747,
          -80.117644,
          -80.169899,
          -80.161446,
          -80.161651,
          -80.193692,
          -80.122873,
          -80.18429499999999,
          -80.1041,
          -80.193692,
          -80.09275699999999,
          -80.07967,
          -80.079595,
          -80.081799,
          -80.10388499999999,
          -80.107863,
          -80.107863,
          -80.137445,
          -80.16158011,
          -80.107863,
          -80.079358,
          -80.079268,
          -80.07938,
          -80.07938,
          -80.11068399999999,
          -80.161794,
          -80.150376,
          -80.082223,
          -80.079562,
          -80.16158011,
          -80.16158011,
          -80.16158011,
          -80.16158011,
          -80.16158011,
          -80.08242800000001,
          -80.08242800000001,
          -80.12238,
          -80.07935400000001,
          -80.079418,
          -80.16158011,
          -80.079639,
          -80.079502,
          -80.07950600000001,
          -80.122445,
          -80.180401,
          -80.13855500000001,
          -80.11166899999999,
          -80.11166899999999,
          -80.122659,
          -80.122217,
          -80.07955799999999,
          -80.12238,
          -80.079491,
          -80.092665,
          -80.100577,
          -80.113744,
          -80.122609,
          -80.202288,
          -80.120637,
          -80.079451,
          -80.09095500000001,
          -80.11604200000001,
          -80.122462,
          -80.092724,
          -80.161716,
          -80.07955,
          -80.079553,
          -80.163302,
          -80.122413,
          -80.122483,
          -80.117813,
          -80.111549,
          -80.079308,
          -80.079308,
          -80.092734,
          -80.081374,
          -80.079308,
          -80.09269499999999,
          -80.16158011,
          -80.120773,
          -80.120773,
          -80.12195,
          -80.16158011,
          -80.11162,
          -80.16158011,
          -80.122803,
          -80.123327,
          -80.12257,
          -80.161568,
          -80.120773,
          -80.11856800000001,
          -80.122274,
          -80.122587,
          -80.122943,
          -80.092493,
          -80.079601,
          -80.117643,
          -80.117643,
          -80.122861,
          -80.16158011,
          -80.16158011,
          -80.117643,
          -80.122713,
          -80.182293,
          -80.109004,
          -80.123064,
          -80.123196,
          -80.122968,
          -80.161568,
          -80.122619,
          -80.09146199999999,
          -80.115195,
          -80.12031,
          -80.079424,
          -80.07925,
          -80.11841873,
          -80.122068,
          -80.07970300000001,
          -80.16158011,
          -80.122264,
          -80.09262199999999,
          -80.079412,
          -80.09249,
          -80.122438,
          -80.123616,
          -80.122686,
          -80.09339,
          -80.122484,
          -80.079332,
          -80.163308,
          -80.12263399999999,
          -80.082944,
          -80.16158011,
          -80.15599399999999,
          -80.07954699999999,
          -80.130866,
          -80.092711,
          -80.09947700000001,
          -80.11572199999999,
          -80.092711,
          -80.07929399999999,
          -80.106635,
          -80.093645,
          -80.079561,
          -80.081439,
          -80.106635,
          -80.092683,
          -80.081439,
          -80.079561,
          -80.106635,
          -80.123267,
          -80.123267,
          -80.114736,
          -80.081851,
          -80.115585,
          -80.115585,
          -80.18239200000001,
          -80.18239200000001,
          -80.18239200000001,
          -80.18239200000001,
          -80.17785400000001,
          -80.124371,
          -80.119268,
          -80.119452,
          -80.119452,
          -80.128613,
          -80.128613,
          -80.128613,
          -80.217414,
          -80.119506,
          -80.119506,
          -80.119506,
          -80.115311,
          -80.119506,
          -80.19971600000001,
          -80.19971600000001,
          -80.19971600000001,
          -80.119506,
          -80.119506,
          -80.119506,
          -80.119843,
          -80.119843,
          -80.119843,
          -80.119843,
          -80.12385833,
          -80.16158011,
          -80.111584,
          -80.10335400000001,
          -80.111584,
          -80.15657900000001,
          -80.111584,
          -80.11025642,
          -80.12385833,
          -80.16158011,
          -80.08234499999999,
          -80.08234499999999,
          -80.08234499999999,
          -80.114246,
          -80.114246,
          -80.114132,
          -80.114073,
          -80.12347,
          -80.114073,
          -80.12355500000001,
          -80.081849,
          -80.081849,
          -80.081849,
          -80.081849,
          -80.115802,
          -80.115802,
          -80.115802,
          -80.115802,
          -80.115802,
          -80.232646,
          -80.232646,
          -80.11477,
          -80.11477,
          -80.232646,
          -80.232646,
          -80.232646,
          -80.232646,
          -80.079378,
          -80.079378,
          -80.08237,
          -80.079358,
          -80.079363,
          -80.079403,
          -80.079417,
          -80.079417,
          -80.102216,
          -80.102216,
          -80.108707,
          -80.08200699999999,
          -80.115402,
          -80.13970400000001,
          -80.119496,
          -80.119496,
          -80.104455,
          -80.119496,
          -80.07943399999999,
          -80.07943399999999,
          -80.119313,
          -80.119313,
          -80.079488,
          -80.079412,
          -80.07937199999999,
          -80.13215600000001,
          -80.094636,
          -80.079441,
          -80.07943900000001,
          -80.079346,
          -80.079398,
          -80.07940500000001,
          -80.079398,
          -80.079453,
          -80.079422,
          -80.079424
         ],
         "marker": {
          "color": "#00cc96",
          "size": [
           1,
           1,
           6,
           6,
           4,
           4,
           3,
           2,
           1,
           1,
           1,
           7,
           5,
           1,
           1,
           1,
           2,
           4,
           2,
           3,
           2,
           1,
           2,
           1,
           1,
           1,
           1,
           1,
           2,
           1,
           1,
           2,
           2,
           2,
           1,
           6,
           3,
           2,
           1,
           2,
           2,
           6,
           3,
           1,
           2,
           2,
           3,
           2,
           1,
           2,
           1,
           2,
           1,
           1,
           1,
           1,
           4,
           3,
           3,
           5,
           2,
           1,
           1,
           2,
           4,
           1,
           2,
           1,
           2,
           3,
           3,
           1,
           1,
           3,
           4,
           1,
           4,
           1,
           4,
           2,
           3,
           1,
           2,
           1,
           1,
           1,
           1,
           1,
           1,
           5,
           1,
           2,
           2,
           9,
           6,
           6,
           1,
           1,
           1,
           1,
           1,
           1,
           1,
           2,
           1,
           3,
           5,
           1,
           1,
           4,
           1,
           1,
           1,
           1,
           1,
           2,
           2,
           2,
           1,
           1,
           2,
           2,
           2,
           1,
           1,
           1,
           2,
           2,
           2,
           2,
           2,
           1,
           2,
           1,
           1,
           1,
           3,
           1,
           1,
           1,
           1,
           1,
           1,
           2,
           2,
           3,
           1,
           1,
           1,
           2,
           3,
           3,
           1,
           3,
           1,
           1,
           1,
           2,
           4,
           2,
           2,
           1,
           1,
           3,
           2,
           2,
           1,
           1,
           1,
           2,
           1,
           2,
           3,
           1,
           1,
           1,
           3,
           2,
           2,
           1,
           1,
           1,
           2,
           2,
           5,
           1,
           2,
           1,
           3,
           2,
           1,
           4,
           1,
           1,
           6,
           1,
           2,
           1,
           2,
           1,
           2,
           2,
           5,
           3,
           5,
           1,
           2,
           2,
           1,
           1,
           1,
           1,
           5,
           2,
           1,
           1,
           2,
           1,
           1,
           1,
           1,
           1,
           3,
           1,
           1,
           1,
           1,
           1,
           2,
           1,
           9,
           6,
           1,
           1,
           2,
           1,
           2,
           1,
           3,
           1,
           4,
           1,
           1,
           1,
           3,
           6,
           1,
           3,
           1,
           1,
           1,
           6,
           1,
           4,
           4,
           1,
           1,
           2,
           7,
           7,
           1,
           1,
           1,
           3,
           1,
           1,
           1,
           4,
           1,
           2,
           1,
           7,
           1,
           3,
           1,
           3,
           8,
           1,
           1,
           4,
           1,
           2,
           7,
           5,
           1,
           2,
           2,
           6,
           1,
           4,
           2,
           1,
           6,
           4,
           1,
           1,
           3,
           4,
           3,
           2,
           7,
           1,
           1,
           2,
           6,
           2,
           1,
           2,
           1,
           1,
           1,
           1,
           1,
           2,
           1,
           2,
           2,
           1,
           1,
           2,
           1,
           2,
           1,
           1,
           1,
           1,
           1,
           1,
           5,
           1,
           1,
           1,
           1,
           1,
           2,
           1,
           2,
           1,
           1,
           1,
           2,
           1,
           5,
           5,
           2,
           2,
           1,
           1,
           2,
           1,
           1,
           1,
           3,
           3,
           1,
           1,
           1,
           1,
           1,
           1,
           2,
           2,
           1,
           6,
           2,
           3,
           1,
           2,
           2,
           1,
           1,
           1,
           2,
           2,
           2,
           1,
           1,
           2,
           3,
           2,
           1,
           1,
           1,
           4,
           2,
           1,
           2,
           2,
           3,
           1,
           1,
           1,
           4,
           2,
           2,
           3,
           2,
           2,
           2,
           3,
           2,
           1,
           1,
           1,
           1,
           3,
           1,
           1,
           1,
           2,
           1,
           7,
           7,
           2,
           2,
           1,
           1,
           1,
           1,
           1,
           1,
           3,
           3,
           1,
           3,
           3,
           3,
           1,
           1,
           1,
           1,
           1,
           1,
           1,
           1,
           1,
           1,
           1,
           2,
           2,
           2,
           2,
           2,
           2,
           2,
           2,
           2,
           1,
           2,
           1,
           1,
           1,
           2,
           1,
           1,
           1,
           2,
           1,
           1,
           1,
           1,
           1,
           1,
           2,
           2,
           2,
           1,
           1,
           2,
           2,
           2,
           2,
           1,
           3,
           3,
           2,
           3,
           3,
           6,
           6,
           6,
           2,
           1,
           1,
           1,
           1,
           3,
           2,
           4,
           1,
           1,
           1,
           2,
           1,
           1,
           2,
           5,
           1,
           1,
           1,
           2,
           2,
           2,
           1,
           1,
           1,
           2,
           1,
           2,
           2,
           2,
           1,
           2,
           2,
           2,
           1,
           2,
           1,
           1,
           1,
           1,
           4,
           1,
           1,
           2,
           3,
           3,
           1,
           1,
           2,
           1,
           2,
           5,
           6,
           7,
           9,
           4,
           2,
           2,
           1,
           2,
           2,
           5,
           4,
           3,
           6,
           1,
           1,
           1,
           1,
           1,
           1,
           1,
           3,
           1,
           2,
           1,
           1,
           3,
           2,
           1,
           1,
           2,
           2,
           1,
           2,
           1,
           1,
           2,
           3,
           2,
           2,
           2,
           1,
           1,
           4,
           4,
           2,
           2,
           4,
           1,
           2,
           1,
           1,
           1,
           1,
           1,
           4,
           1,
           1,
           1,
           5,
           1,
           2,
           1,
           2,
           1,
           1,
           1,
           1,
           1,
           1,
           5,
           2,
           1,
           2,
           1,
           2,
           1,
           1,
           1,
           5,
           1,
           2,
           2,
           1,
           3,
           2,
           1,
           2,
           2,
           5,
           1,
           2,
           2,
           1,
           2,
           2,
           1,
           3,
           1,
           3,
           2,
           1,
           2,
           4,
           1,
           2,
           1,
           1,
           2,
           1,
           1,
           3,
           2,
           1,
           2,
           2,
           2,
           2,
           2,
           2,
           2,
           1,
           1,
           1,
           1,
           2,
           2,
           1,
           1,
           1,
           1,
           2,
           1,
           1,
           1,
           1,
           2,
           2,
           2,
           2,
           1,
           1,
           1,
           1,
           1,
           1,
           1,
           1,
           1,
           1,
           1,
           1,
           1,
           1,
           1,
           2,
           1,
           1,
           1,
           1,
           1,
           1,
           2,
           2,
           1,
           1,
           1,
           1,
           1,
           1,
           1,
           2,
           1,
           2,
           1,
           1,
           1,
           1,
           1,
           2,
           2,
           2,
           2,
           2,
           1,
           1,
           2,
           2,
           1,
           1,
           1,
           1,
           2,
           2,
           2,
           2,
           3,
           2,
           1,
           1,
           1,
           1,
           2,
           1,
           1,
           2,
           1,
           1,
           1,
           1,
           2,
           2,
           1,
           1,
           3,
           3,
           3,
           2,
           2,
           2,
           2,
           3,
           3,
           2,
           9,
           2,
           3,
           7
          ],
          "sizemode": "area",
          "sizeref": 0.0325
         },
         "mode": "markers",
         "name": "Swimming",
         "showlegend": true,
         "subplot": "mapbox",
         "type": "scattermapbox"
        },
        {
         "customdata": [
          [
           "Feeding",
           1,
           -80.110825,
           26.222410999999997
          ],
          [
           "Feeding",
           1,
           -80.112218,
           26.221397999999997
          ],
          [
           "Feeding",
           5,
           -80.079718,
           26.30609
          ],
          [
           "Feeding",
           1,
           -80.157375,
           26.110564
          ],
          [
           "Feeding",
           1,
           -80.1212,
           25.986645000000003
          ],
          [
           "Feeding",
           1,
           -80.16389000000001,
           26.098213
          ],
          [
           "Feeding",
           2,
           -80.14783,
           26.119312
          ],
          [
           "Feeding",
           1,
           -80.189614,
           26.067364
          ],
          [
           "Feeding",
           5,
           -80.102976,
           26.170622
          ],
          [
           "Feeding",
           1,
           -80.128848,
           26.05951
          ],
          [
           "Feeding",
           2,
           -80.103245,
           26.171182
          ],
          [
           "Feeding",
           2,
           -80.16081006,
           26.04041537
          ],
          [
           "Feeding",
           3,
           -80.128979,
           26.15371
          ],
          [
           "Feeding",
           1,
           -80.079404,
           26.305765
          ],
          [
           "Feeding",
           1,
           -80.145013,
           26.118091
          ],
          [
           "Feeding",
           1,
           -80.147952,
           26.119888
          ],
          [
           "Feeding",
           1,
           -80.147747,
           26.119242
          ],
          [
           "Feeding",
           1,
           -80.253986,
           26.121268
          ],
          [
           "Feeding",
           1,
           -80.079151,
           26.305815000000003
          ],
          [
           "Feeding",
           2,
           -80.189387,
           26.067238
          ],
          [
           "Feeding",
           2,
           -80.189391,
           26.067270999999998
          ],
          [
           "Feeding",
           1,
           -80.100055,
           26.209722
          ],
          [
           "Feeding",
           2,
           -80.140078,
           26.163760999999997
          ],
          [
           "Feeding",
           1,
           -80.16158011,
           26.03472658
          ],
          [
           "Feeding",
           1,
           -80.170527,
           26.015916
          ],
          [
           "Feeding",
           1,
           -80.16158011,
           26.03472658
          ],
          [
           "Feeding",
           1,
           -80.18223848,
           26.11929603
          ],
          [
           "Feeding",
           4,
           -80.195779,
           26.063382
          ],
          [
           "Feeding",
           4,
           -80.196322,
           26.063109
          ],
          [
           "Feeding",
           1,
           -80.16158011,
           26.03472658
          ],
          [
           "Feeding",
           2,
           -80.16158011,
           26.03472658
          ],
          [
           "Feeding",
           1,
           -80.16158011,
           26.03472658
          ],
          [
           "Feeding",
           2,
           -81.110428,
           24.708479
          ],
          [
           "Feeding",
           2,
           -81.110264,
           24.708448
          ],
          [
           "Feeding",
           4,
           -80.142822,
           26.15109
          ],
          [
           "Feeding",
           4,
           -80.153191,
           26.165344
          ],
          [
           "Feeding",
           1,
           -80.16158011,
           26.03472658
          ],
          [
           "Feeding",
           6,
           -80.170594,
           26.016166000000002
          ],
          [
           "Feeding",
           8,
           -80.16158011,
           26.03472658
          ],
          [
           "Feeding",
           2,
           -80.14048199999999,
           26.16348
          ],
          [
           "Feeding",
           2,
           -80.09952,
           26.210682000000002
          ],
          [
           "Feeding",
           1,
           -80.132063,
           26.01069
          ],
          [
           "Feeding",
           4,
           -80.168909,
           26.010904999999998
          ],
          [
           "Feeding",
           6,
           -80.173626,
           26.011021
          ],
          [
           "Feeding",
           1,
           -80.142393,
           26.150841
          ],
          [
           "Feeding",
           3,
           -80.161731,
           26.119816
          ],
          [
           "Feeding",
           5,
           -80.07952900000001,
           26.305956
          ],
          [
           "Feeding",
           3,
           -80.09279862,
           26.23305794
          ],
          [
           "Feeding",
           2,
           -80.16158011,
           26.03472658
          ],
          [
           "Feeding",
           5,
           -80.07952900000001,
           26.305956
          ],
          [
           "Feeding",
           8,
           -80.088049,
           26.253120000000003
          ],
          [
           "Feeding",
           1,
           -80.090747,
           26.243746999999995
          ],
          [
           "Feeding",
           2,
           -80.079679,
           26.306479
          ],
          [
           "Feeding",
           10,
           -80.089108,
           26.254268
          ],
          [
           "Feeding",
           1,
           -80.13659399999999,
           26.163552
          ],
          [
           "Feeding",
           1,
           -80.092963,
           26.236126000000002
          ],
          [
           "Feeding",
           7,
           -80.079852,
           26.306182
          ],
          [
           "Feeding",
           3,
           -80.139992,
           26.163695999999998
          ],
          [
           "Feeding",
           2,
           -80.09191752,
           26.24415808
          ],
          [
           "Feeding",
           1,
           -80.09073199999999,
           26.243768
          ],
          [
           "Feeding",
           1,
           -80.11856861,
           26.00189864
          ],
          [
           "Feeding",
           2,
           -80.155641,
           26.051406
          ],
          [
           "Feeding",
           4,
           -80.14667800000001,
           26.118442
          ],
          [
           "Feeding",
           2,
           -80.116675,
           26.037788
          ],
          [
           "Feeding",
           3,
           -80.16155594,
           26.03452909
          ],
          [
           "Feeding",
           1,
           -80.092613,
           26.236629999999998
          ],
          [
           "Feeding",
           3,
           -80.07909599999999,
           26.305797
          ],
          [
           "Feeding",
           3,
           -80.07909599999999,
           26.305797
          ],
          [
           "Feeding",
           5,
           -80.079375,
           26.305877000000002
          ],
          [
           "Feeding",
           6,
           -80.134045,
           26.117593
          ],
          [
           "Feeding",
           2,
           -80.081689,
           26.315507
          ],
          [
           "Feeding",
           2,
           -80.092601,
           26.232805
          ],
          [
           "Feeding",
           1,
           -80.190366,
           26.136871
          ],
          [
           "Feeding",
           7,
           -80.10720843,
           26.19855774
          ],
          [
           "Feeding",
           2,
           -80.11171,
           26.090670000000003
          ],
          [
           "Feeding",
           1,
           -80.082351,
           26.315656
          ],
          [
           "Feeding",
           1,
           -80.16158011,
           26.03472658
          ],
          [
           "Feeding",
           1,
           -80.079415,
           26.305719
          ],
          [
           "Feeding",
           1,
           -80.161648,
           26.119497
          ],
          [
           "Feeding",
           2,
           -80.082245,
           26.315544
          ],
          [
           "Feeding",
           2,
           -80.082245,
           26.315544
          ],
          [
           "Feeding",
           1,
           -80.082425,
           26.315371999999996
          ],
          [
           "Feeding",
           2,
           -80.14856,
           26.118945999999998
          ],
          [
           "Feeding",
           2,
           -80.082245,
           26.315544
          ],
          [
           "Feeding",
           2,
           -80.082245,
           26.315544
          ],
          [
           "Feeding",
           1,
           -80.079264,
           26.305711
          ],
          [
           "Feeding",
           1,
           -80.08292900000001,
           26.315631
          ],
          [
           "Feeding",
           1,
           -80.116815,
           26.072663000000002
          ],
          [
           "Feeding",
           2,
           -80.225553,
           26.095514
          ],
          [
           "Feeding",
           2,
           -80.140174,
           26.163698999999998
          ],
          [
           "Feeding",
           1,
           -80.123666,
           26.093551
          ],
          [
           "Feeding",
           1,
           -80.18084538,
           26.09839853
          ],
          [
           "Feeding",
           1,
           -80.16158011,
           26.03472658
          ],
          [
           "Feeding",
           1,
           -80.110605,
           26.229011
          ],
          [
           "Feeding",
           2,
           -80.111887,
           26.090375
          ],
          [
           "Feeding",
           1,
           -80.105935,
           26.122471
          ],
          [
           "Feeding",
           1,
           -80.147751,
           26.119654
          ],
          [
           "Feeding",
           1,
           -80.081487,
           26.315501
          ],
          [
           "Feeding",
           1,
           -80.163257,
           26.026393
          ],
          [
           "Feeding",
           3,
           -80.128186,
           26.32794
          ],
          [
           "Feeding",
           2,
           -80.08979000000001,
           26.275243
          ],
          [
           "Feeding",
           2,
           -80.08979000000001,
           26.275243
          ],
          [
           "Feeding",
           2,
           -80.081546,
           26.315540000000002
          ],
          [
           "Feeding",
           1,
           -80.081568,
           26.315361
          ],
          [
           "Feeding",
           1,
           -80.227379,
           26.095914999999998
          ],
          [
           "Feeding",
           2,
           -80.08979000000001,
           26.275243
          ],
          [
           "Feeding",
           1,
           -80.093618,
           26.211557
          ],
          [
           "Feeding",
           1,
           -80.118735,
           26.16039
          ],
          [
           "Feeding",
           1,
           -80.082886,
           26.315841
          ],
          [
           "Feeding",
           2,
           -80.118352,
           26.0137
          ],
          [
           "Feeding",
           2,
           -80.118499,
           26.013996
          ],
          [
           "Feeding",
           2,
           -80.118499,
           26.013996
          ],
          [
           "Feeding",
           1,
           -80.143101,
           26.151213000000002
          ],
          [
           "Feeding",
           2,
           -80.099414,
           26.338234999999997
          ],
          [
           "Feeding",
           1,
           -80.19290500000001,
           26.088722
          ],
          [
           "Feeding",
           1,
           -80.193055,
           26.088707
          ],
          [
           "Feeding",
           1,
           -80.12384300000001,
           26.164460000000002
          ],
          [
           "Feeding",
           1,
           -80.12384300000001,
           26.164460000000002
          ],
          [
           "Feeding",
           1,
           -80.11993902,
           26.1626954
          ],
          [
           "Feeding",
           1,
           -80.111448,
           26.091345
          ],
          [
           "Feeding",
           1,
           -80.111448,
           26.091345
          ],
          [
           "Feeding",
           1,
           -80.111448,
           26.091345
          ],
          [
           "Feeding",
           1,
           -80.111448,
           26.091345
          ],
          [
           "Feeding",
           2,
           -80.165642,
           26.098922
          ],
          [
           "Feeding",
           2,
           -80.165642,
           26.098922
          ],
          [
           "Feeding",
           6,
           -80.186364,
           26.038964
          ],
          [
           "Feeding",
           1,
           -80.082014,
           26.315459999999998
          ],
          [
           "Feeding",
           1,
           -80.14605999999999,
           26.118409
          ],
          [
           "Feeding",
           1,
           -80.14291700000001,
           26.151025
          ],
          [
           "Feeding",
           1,
           -80.14291700000001,
           26.151025
          ],
          [
           "Feeding",
           1,
           -80.14205600000001,
           26.032917
          ],
          [
           "Feeding",
           1,
           -80.08201,
           26.315493
          ],
          [
           "Feeding",
           1,
           -80.08201,
           26.315493
          ],
          [
           "Feeding",
           1,
           -80.082536,
           26.315588
          ],
          [
           "Feeding",
           1,
           -80.08211800000001,
           26.315364000000002
          ],
          [
           "Feeding",
           8,
           -80.079404,
           26.305895
          ],
          [
           "Feeding",
           1,
           -80.08201,
           26.315493
          ],
          [
           "Feeding",
           1,
           -80.079373,
           26.305840999999997
          ],
          [
           "Feeding",
           1,
           -80.079373,
           26.305840999999997
          ],
          [
           "Feeding",
           1,
           -80.081978,
           26.315478999999996
          ]
         ],
         "hovertemplate": "Activity=%{customdata[0]}<br>Total Number of Manatees=%{customdata[1]}<extra></extra>",
         "lat": [
          26.222410999999997,
          26.221397999999997,
          26.30609,
          26.110564,
          25.986645000000003,
          26.098213,
          26.119312,
          26.067364,
          26.170622,
          26.05951,
          26.171182,
          26.04041537,
          26.15371,
          26.305765,
          26.118091,
          26.119888,
          26.119242,
          26.121268,
          26.305815000000003,
          26.067238,
          26.067270999999998,
          26.209722,
          26.163760999999997,
          26.03472658,
          26.015916,
          26.03472658,
          26.11929603,
          26.063382,
          26.063109,
          26.03472658,
          26.03472658,
          26.03472658,
          24.708479,
          24.708448,
          26.15109,
          26.165344,
          26.03472658,
          26.016166000000002,
          26.03472658,
          26.16348,
          26.210682000000002,
          26.01069,
          26.010904999999998,
          26.011021,
          26.150841,
          26.119816,
          26.305956,
          26.23305794,
          26.03472658,
          26.305956,
          26.253120000000003,
          26.243746999999995,
          26.306479,
          26.254268,
          26.163552,
          26.236126000000002,
          26.306182,
          26.163695999999998,
          26.24415808,
          26.243768,
          26.00189864,
          26.051406,
          26.118442,
          26.037788,
          26.03452909,
          26.236629999999998,
          26.305797,
          26.305797,
          26.305877000000002,
          26.117593,
          26.315507,
          26.232805,
          26.136871,
          26.19855774,
          26.090670000000003,
          26.315656,
          26.03472658,
          26.305719,
          26.119497,
          26.315544,
          26.315544,
          26.315371999999996,
          26.118945999999998,
          26.315544,
          26.315544,
          26.305711,
          26.315631,
          26.072663000000002,
          26.095514,
          26.163698999999998,
          26.093551,
          26.09839853,
          26.03472658,
          26.229011,
          26.090375,
          26.122471,
          26.119654,
          26.315501,
          26.026393,
          26.32794,
          26.275243,
          26.275243,
          26.315540000000002,
          26.315361,
          26.095914999999998,
          26.275243,
          26.211557,
          26.16039,
          26.315841,
          26.0137,
          26.013996,
          26.013996,
          26.151213000000002,
          26.338234999999997,
          26.088722,
          26.088707,
          26.164460000000002,
          26.164460000000002,
          26.1626954,
          26.091345,
          26.091345,
          26.091345,
          26.091345,
          26.098922,
          26.098922,
          26.038964,
          26.315459999999998,
          26.118409,
          26.151025,
          26.151025,
          26.032917,
          26.315493,
          26.315493,
          26.315588,
          26.315364000000002,
          26.305895,
          26.315493,
          26.305840999999997,
          26.305840999999997,
          26.315478999999996
         ],
         "legendgroup": "Feeding",
         "lon": [
          -80.110825,
          -80.112218,
          -80.079718,
          -80.157375,
          -80.1212,
          -80.16389000000001,
          -80.14783,
          -80.189614,
          -80.102976,
          -80.128848,
          -80.103245,
          -80.16081006,
          -80.128979,
          -80.079404,
          -80.145013,
          -80.147952,
          -80.147747,
          -80.253986,
          -80.079151,
          -80.189387,
          -80.189391,
          -80.100055,
          -80.140078,
          -80.16158011,
          -80.170527,
          -80.16158011,
          -80.18223848,
          -80.195779,
          -80.196322,
          -80.16158011,
          -80.16158011,
          -80.16158011,
          -81.110428,
          -81.110264,
          -80.142822,
          -80.153191,
          -80.16158011,
          -80.170594,
          -80.16158011,
          -80.14048199999999,
          -80.09952,
          -80.132063,
          -80.168909,
          -80.173626,
          -80.142393,
          -80.161731,
          -80.07952900000001,
          -80.09279862,
          -80.16158011,
          -80.07952900000001,
          -80.088049,
          -80.090747,
          -80.079679,
          -80.089108,
          -80.13659399999999,
          -80.092963,
          -80.079852,
          -80.139992,
          -80.09191752,
          -80.09073199999999,
          -80.11856861,
          -80.155641,
          -80.14667800000001,
          -80.116675,
          -80.16155594,
          -80.092613,
          -80.07909599999999,
          -80.07909599999999,
          -80.079375,
          -80.134045,
          -80.081689,
          -80.092601,
          -80.190366,
          -80.10720843,
          -80.11171,
          -80.082351,
          -80.16158011,
          -80.079415,
          -80.161648,
          -80.082245,
          -80.082245,
          -80.082425,
          -80.14856,
          -80.082245,
          -80.082245,
          -80.079264,
          -80.08292900000001,
          -80.116815,
          -80.225553,
          -80.140174,
          -80.123666,
          -80.18084538,
          -80.16158011,
          -80.110605,
          -80.111887,
          -80.105935,
          -80.147751,
          -80.081487,
          -80.163257,
          -80.128186,
          -80.08979000000001,
          -80.08979000000001,
          -80.081546,
          -80.081568,
          -80.227379,
          -80.08979000000001,
          -80.093618,
          -80.118735,
          -80.082886,
          -80.118352,
          -80.118499,
          -80.118499,
          -80.143101,
          -80.099414,
          -80.19290500000001,
          -80.193055,
          -80.12384300000001,
          -80.12384300000001,
          -80.11993902,
          -80.111448,
          -80.111448,
          -80.111448,
          -80.111448,
          -80.165642,
          -80.165642,
          -80.186364,
          -80.082014,
          -80.14605999999999,
          -80.14291700000001,
          -80.14291700000001,
          -80.14205600000001,
          -80.08201,
          -80.08201,
          -80.082536,
          -80.08211800000001,
          -80.079404,
          -80.08201,
          -80.079373,
          -80.079373,
          -80.081978
         ],
         "marker": {
          "color": "#ab63fa",
          "size": [
           1,
           1,
           5,
           1,
           1,
           1,
           2,
           1,
           5,
           1,
           2,
           2,
           3,
           1,
           1,
           1,
           1,
           1,
           1,
           2,
           2,
           1,
           2,
           1,
           1,
           1,
           1,
           4,
           4,
           1,
           2,
           1,
           2,
           2,
           4,
           4,
           1,
           6,
           8,
           2,
           2,
           1,
           4,
           6,
           1,
           3,
           5,
           3,
           2,
           5,
           8,
           1,
           2,
           10,
           1,
           1,
           7,
           3,
           2,
           1,
           1,
           2,
           4,
           2,
           3,
           1,
           3,
           3,
           5,
           6,
           2,
           2,
           1,
           7,
           2,
           1,
           1,
           1,
           1,
           2,
           2,
           1,
           2,
           2,
           2,
           1,
           1,
           1,
           2,
           2,
           1,
           1,
           1,
           1,
           2,
           1,
           1,
           1,
           1,
           3,
           2,
           2,
           2,
           1,
           1,
           2,
           1,
           1,
           1,
           2,
           2,
           2,
           1,
           2,
           1,
           1,
           1,
           1,
           1,
           1,
           1,
           1,
           1,
           2,
           2,
           6,
           1,
           1,
           1,
           1,
           1,
           1,
           1,
           1,
           1,
           8,
           1,
           1,
           1,
           1
          ],
          "sizemode": "area",
          "sizeref": 0.0325
         },
         "mode": "markers",
         "name": "Feeding",
         "showlegend": true,
         "subplot": "mapbox",
         "type": "scattermapbox"
        },
        {
         "customdata": [
          [
           "Resting",
           1,
           -80.147215,
           26.059522
          ],
          [
           "Resting",
           1,
           -80.170694,
           26.092854
          ],
          [
           "Resting",
           1,
           -80.12043299999999,
           26.081597
          ],
          [
           "Resting",
           10,
           -80.26576700000001,
           25.729968
          ],
          [
           "Resting",
           1,
           -80.19546899999999,
           26.067149
          ],
          [
           "Resting",
           4,
           -82.189301,
           26.510334999999998
          ],
          [
           "Resting",
           1,
           -80.14349,
           26.121539000000002
          ],
          [
           "Resting",
           1,
           -82.536989,
           27.25406
          ],
          [
           "Resting",
           1,
           -80.111653,
           26.091110999999998
          ],
          [
           "Resting",
           2,
           -80.111469,
           26.090954999999997
          ],
          [
           "Resting",
           2,
           -80.120638,
           26.081402
          ],
          [
           "Resting",
           1,
           -80.114648,
           26.138552999999998
          ],
          [
           "Resting",
           2,
           -80.120487,
           26.082007
          ],
          [
           "Resting",
           1,
           -81.045693,
           24.730041
          ],
          [
           "Resting",
           1,
           -80.170473,
           26.016045000000002
          ],
          [
           "Resting",
           2,
           -80.16158011,
           26.03472658
          ],
          [
           "Resting",
           1,
           -80.166191,
           26.605499
          ],
          [
           "Resting",
           2,
           -80.195378,
           26.067785
          ],
          [
           "Resting",
           1,
           -80.196238,
           26.063144
          ],
          [
           "Resting",
           1,
           -80.162972,
           26.12162
          ],
          [
           "Resting",
           1,
           -80.191192,
           26.072217000000002
          ],
          [
           "Resting",
           3,
           -80.25410600000001,
           26.121515
          ],
          [
           "Resting",
           1,
           -80.14054200000001,
           26.163553
          ],
          [
           "Resting",
           1,
           -80.182156,
           26.086420999999998
          ],
          [
           "Resting",
           7,
           -80.0885565,
           26.25292252
          ],
          [
           "Resting",
           2,
           -80.161762,
           26.119912
          ],
          [
           "Resting",
           2,
           -80.11160799999999,
           26.090329999999998
          ],
          [
           "Resting",
           2,
           -80.111583,
           26.090318
          ],
          [
           "Resting",
           3,
           -80.111517,
           26.090958999999998
          ],
          [
           "Resting",
           1,
           -80.14074699999999,
           26.115725
          ],
          [
           "Resting",
           1,
           -80.160176,
           26.029024
          ],
          [
           "Resting",
           1,
           -80.160176,
           26.029024
          ],
          [
           "Resting",
           1,
           -80.111517,
           26.091154
          ],
          [
           "Resting",
           2,
           -80.10695683,
           26.11822009
          ],
          [
           "Resting",
           2,
           -80.12368599999999,
           26.09516
          ],
          [
           "Resting",
           2,
           -80.12368599999999,
           26.09516
          ],
          [
           "Resting",
           2,
           -80.12368599999999,
           26.09516
          ],
          [
           "Resting",
           1,
           -80.140366,
           26.163522
          ],
          [
           "Resting",
           1,
           -80.140366,
           26.163522
          ],
          [
           "Resting",
           1,
           -80.140366,
           26.163522
          ],
          [
           "Resting",
           1,
           -80.16158011,
           26.03472658
          ],
          [
           "Resting",
           1,
           -80.119886,
           26.080585
          ],
          [
           "Resting",
           1,
           -80.123292,
           26.062112
          ],
          [
           "Resting",
           1,
           -80.16158011,
           26.03472658
          ],
          [
           "Resting",
           4,
           -80.120067,
           26.078978
          ],
          [
           "Resting",
           1,
           -80.167234,
           26.168837
          ],
          [
           "Resting",
           1,
           -80.162385,
           26.031681
          ],
          [
           "Resting",
           3,
           -80.116399,
           26.07854
          ],
          [
           "Resting",
           1,
           -80.11975799999999,
           26.080674
          ],
          [
           "Resting",
           1,
           -80.16158011,
           26.03472658
          ],
          [
           "Resting",
           3,
           -80.16158011,
           26.03472658
          ],
          [
           "Resting",
           2,
           -80.079708,
           26.308889
          ],
          [
           "Resting",
           2,
           -80.079708,
           26.308889
          ],
          [
           "Resting",
           2,
           -80.182648,
           26.088565
          ],
          [
           "Resting",
           2,
           -80.079708,
           26.308889
          ],
          [
           "Resting",
           1,
           -80.16158011,
           26.03472658
          ],
          [
           "Resting",
           1,
           -80.18289200000001,
           26.087226
          ],
          [
           "Resting",
           3,
           -80.19069499999999,
           26.067867
          ],
          [
           "Resting",
           1,
           -80.163289,
           26.02606
          ],
          [
           "Resting",
           3,
           -80.11720799999999,
           26.078544
          ],
          [
           "Resting",
           1,
           -80.173796,
           26.368575
          ],
          [
           "Resting",
           4,
           -80.107222,
           26.19884
          ],
          [
           "Resting",
           2,
           -80.111499,
           26.091110999999998
          ],
          [
           "Resting",
           3,
           -80.123848,
           26.164476999999998
          ],
          [
           "Resting",
           1,
           -80.12695,
           26.202407
          ],
          [
           "Resting",
           1,
           -80.12695,
           26.202407
          ],
          [
           "Resting",
           2,
           -80.11980799999999,
           26.080719000000002
          ],
          [
           "Resting",
           2,
           -80.11980799999999,
           26.080719000000002
          ]
         ],
         "hovertemplate": "Activity=%{customdata[0]}<br>Total Number of Manatees=%{customdata[1]}<extra></extra>",
         "lat": [
          26.059522,
          26.092854,
          26.081597,
          25.729968,
          26.067149,
          26.510334999999998,
          26.121539000000002,
          27.25406,
          26.091110999999998,
          26.090954999999997,
          26.081402,
          26.138552999999998,
          26.082007,
          24.730041,
          26.016045000000002,
          26.03472658,
          26.605499,
          26.067785,
          26.063144,
          26.12162,
          26.072217000000002,
          26.121515,
          26.163553,
          26.086420999999998,
          26.25292252,
          26.119912,
          26.090329999999998,
          26.090318,
          26.090958999999998,
          26.115725,
          26.029024,
          26.029024,
          26.091154,
          26.11822009,
          26.09516,
          26.09516,
          26.09516,
          26.163522,
          26.163522,
          26.163522,
          26.03472658,
          26.080585,
          26.062112,
          26.03472658,
          26.078978,
          26.168837,
          26.031681,
          26.07854,
          26.080674,
          26.03472658,
          26.03472658,
          26.308889,
          26.308889,
          26.088565,
          26.308889,
          26.03472658,
          26.087226,
          26.067867,
          26.02606,
          26.078544,
          26.368575,
          26.19884,
          26.091110999999998,
          26.164476999999998,
          26.202407,
          26.202407,
          26.080719000000002,
          26.080719000000002
         ],
         "legendgroup": "Resting",
         "lon": [
          -80.147215,
          -80.170694,
          -80.12043299999999,
          -80.26576700000001,
          -80.19546899999999,
          -82.189301,
          -80.14349,
          -82.536989,
          -80.111653,
          -80.111469,
          -80.120638,
          -80.114648,
          -80.120487,
          -81.045693,
          -80.170473,
          -80.16158011,
          -80.166191,
          -80.195378,
          -80.196238,
          -80.162972,
          -80.191192,
          -80.25410600000001,
          -80.14054200000001,
          -80.182156,
          -80.0885565,
          -80.161762,
          -80.11160799999999,
          -80.111583,
          -80.111517,
          -80.14074699999999,
          -80.160176,
          -80.160176,
          -80.111517,
          -80.10695683,
          -80.12368599999999,
          -80.12368599999999,
          -80.12368599999999,
          -80.140366,
          -80.140366,
          -80.140366,
          -80.16158011,
          -80.119886,
          -80.123292,
          -80.16158011,
          -80.120067,
          -80.167234,
          -80.162385,
          -80.116399,
          -80.11975799999999,
          -80.16158011,
          -80.16158011,
          -80.079708,
          -80.079708,
          -80.182648,
          -80.079708,
          -80.16158011,
          -80.18289200000001,
          -80.19069499999999,
          -80.163289,
          -80.11720799999999,
          -80.173796,
          -80.107222,
          -80.111499,
          -80.123848,
          -80.12695,
          -80.12695,
          -80.11980799999999,
          -80.11980799999999
         ],
         "marker": {
          "color": "#FFA15A",
          "size": [
           1,
           1,
           1,
           10,
           1,
           4,
           1,
           1,
           1,
           2,
           2,
           1,
           2,
           1,
           1,
           2,
           1,
           2,
           1,
           1,
           1,
           3,
           1,
           1,
           7,
           2,
           2,
           2,
           3,
           1,
           1,
           1,
           1,
           2,
           2,
           2,
           2,
           1,
           1,
           1,
           1,
           1,
           1,
           1,
           4,
           1,
           1,
           3,
           1,
           1,
           3,
           2,
           2,
           2,
           2,
           1,
           1,
           3,
           1,
           3,
           1,
           4,
           2,
           3,
           1,
           1,
           2,
           2
          ],
          "sizemode": "area",
          "sizeref": 0.0325
         },
         "mode": "markers",
         "name": "Resting",
         "showlegend": true,
         "subplot": "mapbox",
         "type": "scattermapbox"
        },
        {
         "customdata": [
          [
           "Other",
           3,
           -73.90881800000001,
           40.710252000000004
          ],
          [
           "Other",
           1,
           -80.16158011,
           26.03472658
          ],
          [
           "Other",
           3,
           -80.10531265,
           26.18880985
          ],
          [
           "Other",
           1,
           -80.108122,
           26.148083
          ],
          [
           "Other",
           4,
           -80.119805,
           26.038525
          ],
          [
           "Other",
           1,
           -80.25423482,
           26.12151817
          ]
         ],
         "hovertemplate": "Activity=%{customdata[0]}<br>Total Number of Manatees=%{customdata[1]}<extra></extra>",
         "lat": [
          40.710252000000004,
          26.03472658,
          26.18880985,
          26.148083,
          26.038525,
          26.12151817
         ],
         "legendgroup": "Other",
         "lon": [
          -73.90881800000001,
          -80.16158011,
          -80.10531265,
          -80.108122,
          -80.119805,
          -80.25423482
         ],
         "marker": {
          "color": "#19d3f3",
          "size": [
           3,
           1,
           3,
           1,
           4,
           1
          ],
          "sizemode": "area",
          "sizeref": 0.0325
         },
         "mode": "markers",
         "name": "Other",
         "showlegend": true,
         "subplot": "mapbox",
         "type": "scattermapbox"
        },
        {
         "customdata": [
          [
           "Injured/Dead",
           1,
           -80.108065,
           26.137167
          ],
          [
           "Injured/Dead",
           1,
           -80.19117,
           26.072123
          ],
          [
           "Injured/Dead",
           1,
           -80.19959300000001,
           26.087339
          ],
          [
           "Injured/Dead",
           2,
           -80.18539399999999,
           25.770617
          ]
         ],
         "hovertemplate": "Activity=%{customdata[0]}<br>Total Number of Manatees=%{customdata[1]}<extra></extra>",
         "lat": [
          26.137167,
          26.072123,
          26.087339,
          25.770617
         ],
         "legendgroup": "Injured/Dead",
         "lon": [
          -80.108065,
          -80.19117,
          -80.19959300000001,
          -80.18539399999999
         ],
         "marker": {
          "color": "#FF6692",
          "size": [
           1,
           1,
           1,
           2
          ],
          "sizemode": "area",
          "sizeref": 0.0325
         },
         "mode": "markers",
         "name": "Injured/Dead",
         "showlegend": true,
         "subplot": "mapbox",
         "type": "scattermapbox"
        }
       ],
       "layout": {
        "legend": {
         "itemsizing": "constant",
         "title": {
          "text": "Activity"
         },
         "tracegroupgap": 0
        },
        "mapbox": {
         "center": {
          "lat": 26.17683742045549,
          "lon": -80.13538630347165
         },
         "domain": {
          "x": [
           0,
           1
          ],
          "y": [
           0,
           1
          ]
         },
         "style": "open-street-map",
         "zoom": 8
        },
        "margin": {
         "b": 0,
         "l": 0,
         "r": 0,
         "t": 0
        },
        "paper_bgcolor": "#f1faee",
        "template": {
         "data": {
          "bar": [
           {
            "error_x": {
             "color": "#2a3f5f"
            },
            "error_y": {
             "color": "#2a3f5f"
            },
            "marker": {
             "line": {
              "color": "#E5ECF6",
              "width": 0.5
             }
            },
            "type": "bar"
           }
          ],
          "barpolar": [
           {
            "marker": {
             "line": {
              "color": "#E5ECF6",
              "width": 0.5
             }
            },
            "type": "barpolar"
           }
          ],
          "carpet": [
           {
            "aaxis": {
             "endlinecolor": "#2a3f5f",
             "gridcolor": "white",
             "linecolor": "white",
             "minorgridcolor": "white",
             "startlinecolor": "#2a3f5f"
            },
            "baxis": {
             "endlinecolor": "#2a3f5f",
             "gridcolor": "white",
             "linecolor": "white",
             "minorgridcolor": "white",
             "startlinecolor": "#2a3f5f"
            },
            "type": "carpet"
           }
          ],
          "choropleth": [
           {
            "colorbar": {
             "outlinewidth": 0,
             "ticks": ""
            },
            "type": "choropleth"
           }
          ],
          "contour": [
           {
            "colorbar": {
             "outlinewidth": 0,
             "ticks": ""
            },
            "colorscale": [
             [
              0,
              "#0d0887"
             ],
             [
              0.1111111111111111,
              "#46039f"
             ],
             [
              0.2222222222222222,
              "#7201a8"
             ],
             [
              0.3333333333333333,
              "#9c179e"
             ],
             [
              0.4444444444444444,
              "#bd3786"
             ],
             [
              0.5555555555555556,
              "#d8576b"
             ],
             [
              0.6666666666666666,
              "#ed7953"
             ],
             [
              0.7777777777777778,
              "#fb9f3a"
             ],
             [
              0.8888888888888888,
              "#fdca26"
             ],
             [
              1,
              "#f0f921"
             ]
            ],
            "type": "contour"
           }
          ],
          "contourcarpet": [
           {
            "colorbar": {
             "outlinewidth": 0,
             "ticks": ""
            },
            "type": "contourcarpet"
           }
          ],
          "heatmap": [
           {
            "colorbar": {
             "outlinewidth": 0,
             "ticks": ""
            },
            "colorscale": [
             [
              0,
              "#0d0887"
             ],
             [
              0.1111111111111111,
              "#46039f"
             ],
             [
              0.2222222222222222,
              "#7201a8"
             ],
             [
              0.3333333333333333,
              "#9c179e"
             ],
             [
              0.4444444444444444,
              "#bd3786"
             ],
             [
              0.5555555555555556,
              "#d8576b"
             ],
             [
              0.6666666666666666,
              "#ed7953"
             ],
             [
              0.7777777777777778,
              "#fb9f3a"
             ],
             [
              0.8888888888888888,
              "#fdca26"
             ],
             [
              1,
              "#f0f921"
             ]
            ],
            "type": "heatmap"
           }
          ],
          "heatmapgl": [
           {
            "colorbar": {
             "outlinewidth": 0,
             "ticks": ""
            },
            "colorscale": [
             [
              0,
              "#0d0887"
             ],
             [
              0.1111111111111111,
              "#46039f"
             ],
             [
              0.2222222222222222,
              "#7201a8"
             ],
             [
              0.3333333333333333,
              "#9c179e"
             ],
             [
              0.4444444444444444,
              "#bd3786"
             ],
             [
              0.5555555555555556,
              "#d8576b"
             ],
             [
              0.6666666666666666,
              "#ed7953"
             ],
             [
              0.7777777777777778,
              "#fb9f3a"
             ],
             [
              0.8888888888888888,
              "#fdca26"
             ],
             [
              1,
              "#f0f921"
             ]
            ],
            "type": "heatmapgl"
           }
          ],
          "histogram": [
           {
            "marker": {
             "colorbar": {
              "outlinewidth": 0,
              "ticks": ""
             }
            },
            "type": "histogram"
           }
          ],
          "histogram2d": [
           {
            "colorbar": {
             "outlinewidth": 0,
             "ticks": ""
            },
            "colorscale": [
             [
              0,
              "#0d0887"
             ],
             [
              0.1111111111111111,
              "#46039f"
             ],
             [
              0.2222222222222222,
              "#7201a8"
             ],
             [
              0.3333333333333333,
              "#9c179e"
             ],
             [
              0.4444444444444444,
              "#bd3786"
             ],
             [
              0.5555555555555556,
              "#d8576b"
             ],
             [
              0.6666666666666666,
              "#ed7953"
             ],
             [
              0.7777777777777778,
              "#fb9f3a"
             ],
             [
              0.8888888888888888,
              "#fdca26"
             ],
             [
              1,
              "#f0f921"
             ]
            ],
            "type": "histogram2d"
           }
          ],
          "histogram2dcontour": [
           {
            "colorbar": {
             "outlinewidth": 0,
             "ticks": ""
            },
            "colorscale": [
             [
              0,
              "#0d0887"
             ],
             [
              0.1111111111111111,
              "#46039f"
             ],
             [
              0.2222222222222222,
              "#7201a8"
             ],
             [
              0.3333333333333333,
              "#9c179e"
             ],
             [
              0.4444444444444444,
              "#bd3786"
             ],
             [
              0.5555555555555556,
              "#d8576b"
             ],
             [
              0.6666666666666666,
              "#ed7953"
             ],
             [
              0.7777777777777778,
              "#fb9f3a"
             ],
             [
              0.8888888888888888,
              "#fdca26"
             ],
             [
              1,
              "#f0f921"
             ]
            ],
            "type": "histogram2dcontour"
           }
          ],
          "mesh3d": [
           {
            "colorbar": {
             "outlinewidth": 0,
             "ticks": ""
            },
            "type": "mesh3d"
           }
          ],
          "parcoords": [
           {
            "line": {
             "colorbar": {
              "outlinewidth": 0,
              "ticks": ""
             }
            },
            "type": "parcoords"
           }
          ],
          "pie": [
           {
            "automargin": true,
            "type": "pie"
           }
          ],
          "scatter": [
           {
            "marker": {
             "colorbar": {
              "outlinewidth": 0,
              "ticks": ""
             }
            },
            "type": "scatter"
           }
          ],
          "scatter3d": [
           {
            "line": {
             "colorbar": {
              "outlinewidth": 0,
              "ticks": ""
             }
            },
            "marker": {
             "colorbar": {
              "outlinewidth": 0,
              "ticks": ""
             }
            },
            "type": "scatter3d"
           }
          ],
          "scattercarpet": [
           {
            "marker": {
             "colorbar": {
              "outlinewidth": 0,
              "ticks": ""
             }
            },
            "type": "scattercarpet"
           }
          ],
          "scattergeo": [
           {
            "marker": {
             "colorbar": {
              "outlinewidth": 0,
              "ticks": ""
             }
            },
            "type": "scattergeo"
           }
          ],
          "scattergl": [
           {
            "marker": {
             "colorbar": {
              "outlinewidth": 0,
              "ticks": ""
             }
            },
            "type": "scattergl"
           }
          ],
          "scattermapbox": [
           {
            "marker": {
             "colorbar": {
              "outlinewidth": 0,
              "ticks": ""
             }
            },
            "type": "scattermapbox"
           }
          ],
          "scatterpolar": [
           {
            "marker": {
             "colorbar": {
              "outlinewidth": 0,
              "ticks": ""
             }
            },
            "type": "scatterpolar"
           }
          ],
          "scatterpolargl": [
           {
            "marker": {
             "colorbar": {
              "outlinewidth": 0,
              "ticks": ""
             }
            },
            "type": "scatterpolargl"
           }
          ],
          "scatterternary": [
           {
            "marker": {
             "colorbar": {
              "outlinewidth": 0,
              "ticks": ""
             }
            },
            "type": "scatterternary"
           }
          ],
          "surface": [
           {
            "colorbar": {
             "outlinewidth": 0,
             "ticks": ""
            },
            "colorscale": [
             [
              0,
              "#0d0887"
             ],
             [
              0.1111111111111111,
              "#46039f"
             ],
             [
              0.2222222222222222,
              "#7201a8"
             ],
             [
              0.3333333333333333,
              "#9c179e"
             ],
             [
              0.4444444444444444,
              "#bd3786"
             ],
             [
              0.5555555555555556,
              "#d8576b"
             ],
             [
              0.6666666666666666,
              "#ed7953"
             ],
             [
              0.7777777777777778,
              "#fb9f3a"
             ],
             [
              0.8888888888888888,
              "#fdca26"
             ],
             [
              1,
              "#f0f921"
             ]
            ],
            "type": "surface"
           }
          ],
          "table": [
           {
            "cells": {
             "fill": {
              "color": "#EBF0F8"
             },
             "line": {
              "color": "white"
             }
            },
            "header": {
             "fill": {
              "color": "#C8D4E3"
             },
             "line": {
              "color": "white"
             }
            },
            "type": "table"
           }
          ]
         },
         "layout": {
          "annotationdefaults": {
           "arrowcolor": "#2a3f5f",
           "arrowhead": 0,
           "arrowwidth": 1
          },
          "autotypenumbers": "strict",
          "coloraxis": {
           "colorbar": {
            "outlinewidth": 0,
            "ticks": ""
           }
          },
          "colorscale": {
           "diverging": [
            [
             0,
             "#8e0152"
            ],
            [
             0.1,
             "#c51b7d"
            ],
            [
             0.2,
             "#de77ae"
            ],
            [
             0.3,
             "#f1b6da"
            ],
            [
             0.4,
             "#fde0ef"
            ],
            [
             0.5,
             "#f7f7f7"
            ],
            [
             0.6,
             "#e6f5d0"
            ],
            [
             0.7,
             "#b8e186"
            ],
            [
             0.8,
             "#7fbc41"
            ],
            [
             0.9,
             "#4d9221"
            ],
            [
             1,
             "#276419"
            ]
           ],
           "sequential": [
            [
             0,
             "#0d0887"
            ],
            [
             0.1111111111111111,
             "#46039f"
            ],
            [
             0.2222222222222222,
             "#7201a8"
            ],
            [
             0.3333333333333333,
             "#9c179e"
            ],
            [
             0.4444444444444444,
             "#bd3786"
            ],
            [
             0.5555555555555556,
             "#d8576b"
            ],
            [
             0.6666666666666666,
             "#ed7953"
            ],
            [
             0.7777777777777778,
             "#fb9f3a"
            ],
            [
             0.8888888888888888,
             "#fdca26"
            ],
            [
             1,
             "#f0f921"
            ]
           ],
           "sequentialminus": [
            [
             0,
             "#0d0887"
            ],
            [
             0.1111111111111111,
             "#46039f"
            ],
            [
             0.2222222222222222,
             "#7201a8"
            ],
            [
             0.3333333333333333,
             "#9c179e"
            ],
            [
             0.4444444444444444,
             "#bd3786"
            ],
            [
             0.5555555555555556,
             "#d8576b"
            ],
            [
             0.6666666666666666,
             "#ed7953"
            ],
            [
             0.7777777777777778,
             "#fb9f3a"
            ],
            [
             0.8888888888888888,
             "#fdca26"
            ],
            [
             1,
             "#f0f921"
            ]
           ]
          },
          "colorway": [
           "#636efa",
           "#EF553B",
           "#00cc96",
           "#ab63fa",
           "#FFA15A",
           "#19d3f3",
           "#FF6692",
           "#B6E880",
           "#FF97FF",
           "#FECB52"
          ],
          "font": {
           "color": "#2a3f5f"
          },
          "geo": {
           "bgcolor": "white",
           "lakecolor": "white",
           "landcolor": "#E5ECF6",
           "showlakes": true,
           "showland": true,
           "subunitcolor": "white"
          },
          "hoverlabel": {
           "align": "left"
          },
          "hovermode": "closest",
          "mapbox": {
           "style": "light"
          },
          "paper_bgcolor": "white",
          "plot_bgcolor": "#E5ECF6",
          "polar": {
           "angularaxis": {
            "gridcolor": "white",
            "linecolor": "white",
            "ticks": ""
           },
           "bgcolor": "#E5ECF6",
           "radialaxis": {
            "gridcolor": "white",
            "linecolor": "white",
            "ticks": ""
           }
          },
          "scene": {
           "xaxis": {
            "backgroundcolor": "#E5ECF6",
            "gridcolor": "white",
            "gridwidth": 2,
            "linecolor": "white",
            "showbackground": true,
            "ticks": "",
            "zerolinecolor": "white"
           },
           "yaxis": {
            "backgroundcolor": "#E5ECF6",
            "gridcolor": "white",
            "gridwidth": 2,
            "linecolor": "white",
            "showbackground": true,
            "ticks": "",
            "zerolinecolor": "white"
           },
           "zaxis": {
            "backgroundcolor": "#E5ECF6",
            "gridcolor": "white",
            "gridwidth": 2,
            "linecolor": "white",
            "showbackground": true,
            "ticks": "",
            "zerolinecolor": "white"
           }
          },
          "shapedefaults": {
           "line": {
            "color": "#2a3f5f"
           }
          },
          "ternary": {
           "aaxis": {
            "gridcolor": "white",
            "linecolor": "white",
            "ticks": ""
           },
           "baxis": {
            "gridcolor": "white",
            "linecolor": "white",
            "ticks": ""
           },
           "bgcolor": "#E5ECF6",
           "caxis": {
            "gridcolor": "white",
            "linecolor": "white",
            "ticks": ""
           }
          },
          "title": {
           "x": 0.05
          },
          "xaxis": {
           "automargin": true,
           "gridcolor": "white",
           "linecolor": "white",
           "ticks": "",
           "title": {
            "standoff": 15
           },
           "zerolinecolor": "white",
           "zerolinewidth": 2
          },
          "yaxis": {
           "automargin": true,
           "gridcolor": "white",
           "linecolor": "white",
           "ticks": "",
           "title": {
            "standoff": 15
           },
           "zerolinecolor": "white",
           "zerolinewidth": 2
          }
         }
        },
        "title": {
         "text": "Manatee Tracker"
        }
       }
      },
      "text/html": [
       "<div>                            <div id=\"dd98bd4f-71c8-43a7-9ceb-264ad5ce2d89\" class=\"plotly-graph-div\" style=\"height:525px; width:100%;\"></div>            <script type=\"text/javascript\">                require([\"plotly\"], function(Plotly) {                    window.PLOTLYENV=window.PLOTLYENV || {};                                    if (document.getElementById(\"dd98bd4f-71c8-43a7-9ceb-264ad5ce2d89\")) {                    Plotly.newPlot(                        \"dd98bd4f-71c8-43a7-9ceb-264ad5ce2d89\",                        [{\"customdata\": [[\"Unknown\", 1, -80.188888, 26.007759], [\"Unknown\", 1, -81.67146600000001, 28.00099], [\"Unknown\", 1, -80.14369599999999, 26.120703], [\"Unknown\", 1, -80.14373, 26.120755], [\"Unknown\", 2, -80.129925, 26.284546999999996], [\"Unknown\", 1, -80.14399999999999, 26.120517], [\"Unknown\", 2, -80.1166819, 26.024738100000004]], \"hovertemplate\": \"Activity=%{customdata[0]}<br>Total Number of Manatees=%{customdata[1]}<extra></extra>\", \"lat\": [26.007759, 28.00099, 26.120703, 26.120755, 26.284546999999996, 26.120517, 26.024738100000004], \"legendgroup\": \"Unknown\", \"lon\": [-80.188888, -81.67146600000001, -80.14369599999999, -80.14373, -80.129925, -80.14399999999999, -80.1166819], \"marker\": {\"color\": \"#636efa\", \"size\": [1, 1, 1, 1, 2, 1, 2], \"sizemode\": \"area\", \"sizeref\": 0.0325}, \"mode\": \"markers\", \"name\": \"Unknown\", \"showlegend\": true, \"subplot\": \"mapbox\", \"type\": \"scattermapbox\"}, {\"customdata\": [[\"Mating\", 2, -83.759823, 42.276565999999995], [\"Mating\", 13, -80.111776, 26.091278], [\"Mating\", 3, -80.103459, 26.189414000000003]], \"hovertemplate\": \"Activity=%{customdata[0]}<br>Total Number of Manatees=%{customdata[1]}<extra></extra>\", \"lat\": [42.276565999999995, 26.091278, 26.189414000000003], \"legendgroup\": \"Mating\", \"lon\": [-83.759823, -80.111776, -80.103459], \"marker\": {\"color\": \"#EF553B\", \"size\": [2, 13, 3], \"sizemode\": \"area\", \"sizeref\": 0.0325}, \"mode\": \"markers\", \"name\": \"Mating\", \"showlegend\": true, \"subplot\": \"mapbox\", \"type\": \"scattermapbox\"}, {\"customdata\": [[\"Swimming\", 1, -80.13204768, 26.22129914], [\"Swimming\", 1, -80.11224770000001, 26.22140944], [\"Swimming\", 6, -80.26478319, 25.72946264], [\"Swimming\", 6, -80.26478319, 25.72946264], [\"Swimming\", 4, -80.14036800000001, 26.116310000000002], [\"Swimming\", 4, -80.140277, 26.116262], [\"Swimming\", 3, -80.065088, 26.456023], [\"Swimming\", 2, -80.147116, 26.118759], [\"Swimming\", 1, -80.140761, 26.117449], [\"Swimming\", 1, -80.142771, 26.117793], [\"Swimming\", 1, -80.109911, 26.112491000000002], [\"Swimming\", 7, -80.064977, 26.456037], [\"Swimming\", 5, -80.079764, 26.306165000000004], [\"Swimming\", 1, -80.114437, 26.154254], [\"Swimming\", 1, -80.10901, 26.224732], [\"Swimming\", 1, -80.169508, 26.096324], [\"Swimming\", 2, -80.06509399999999, 26.456026], [\"Swimming\", 4, -80.164975, 26.098917], [\"Swimming\", 2, -80.07921800000001, 26.305892], [\"Swimming\", 3, -80.133581, 26.117760999999998], [\"Swimming\", 2, -80.079062, 26.305882], [\"Swimming\", 1, -81.799867, 26.693995], [\"Swimming\", 2, -80.103685, 26.169995999999998], [\"Swimming\", 1, -80.104558, 26.170357], [\"Swimming\", 1, -80.07924399999999, 26.30576], [\"Swimming\", 1, -80.140777, 26.116974], [\"Swimming\", 1, -80.0653, 26.45607], [\"Swimming\", 1, -80.127399, 26.060385], [\"Swimming\", 2, -80.109875, 26.136198], [\"Swimming\", 1, -80.171189, 26.094838], [\"Swimming\", 1, -80.17092099999999, 26.091358], [\"Swimming\", 2, -80.170778, 26.094978], [\"Swimming\", 2, -80.10791, 26.13651], [\"Swimming\", 2, -80.109535, 26.136468], [\"Swimming\", 1, -80.167986, 26.0984], [\"Swimming\", 6, -80.10938, 26.136842], [\"Swimming\", 3, -80.10328100000001, 26.171183], [\"Swimming\", 2, -80.17025100000001, 26.095955], [\"Swimming\", 1, -80.177431, 26.067365], [\"Swimming\", 2, -80.163224, 26.067708], [\"Swimming\", 2, -80.184908, 26.084761999999998], [\"Swimming\", 6, -80.180718, 26.089702], [\"Swimming\", 3, -80.178394, 26.091155], [\"Swimming\", 1, -80.17389, 26.094267000000002], [\"Swimming\", 2, -80.174091, 26.093726], [\"Swimming\", 2, -80.185905, 26.082351], [\"Swimming\", 3, -80.079608, 26.305903999999998], [\"Swimming\", 2, -80.159499, 26.063435000000002], [\"Swimming\", 1, -80.185272, 26.084258], [\"Swimming\", 2, -80.184616, 26.067834], [\"Swimming\", 1, -80.17771, 26.067491], [\"Swimming\", 2, -80.199647, 26.068951000000002], [\"Swimming\", 1, -80.109214, 26.136226], [\"Swimming\", 1, -80.10323100000001, 26.171065], [\"Swimming\", 1, -80.109369, 26.135931], [\"Swimming\", 1, -80.10967099999999, 26.112804999999998], [\"Swimming\", 4, -80.110057, 26.136333], [\"Swimming\", 3, -80.10328, 26.17071], [\"Swimming\", 3, -80.188838, 26.079667999999998], [\"Swimming\", 5, -80.108254, 26.13735], [\"Swimming\", 2, -80.090544, 26.24565], [\"Swimming\", 1, -80.090422, 26.245758000000002], [\"Swimming\", 1, -80.079165, 26.305840999999997], [\"Swimming\", 2, -80.14369825, 26.11917141], [\"Swimming\", 4, -80.10364799999999, 26.164723000000002], [\"Swimming\", 1, -80.114583, 26.153894], [\"Swimming\", 2, -80.114583, 26.153894], [\"Swimming\", 1, -80.11447700000001, 26.154039], [\"Swimming\", 2, -80.118558, 26.136112], [\"Swimming\", 3, -80.119268, 26.135362], [\"Swimming\", 3, -80.114355, 26.15397], [\"Swimming\", 1, -80.139881, 26.117044], [\"Swimming\", 1, -80.13986700000001, 26.117070000000002], [\"Swimming\", 3, -80.139842, 26.117102], [\"Swimming\", 4, -80.139845, 26.117081], [\"Swimming\", 1, -80.13992900000001, 26.116999999999997], [\"Swimming\", 4, -80.139688, 26.117379], [\"Swimming\", 1, -80.109158, 26.135785000000002], [\"Swimming\", 4, -80.142515, 26.117601999999998], [\"Swimming\", 2, -80.079408, 26.305944], [\"Swimming\", 3, -80.079561, 26.305832000000002], [\"Swimming\", 1, -80.128506, 26.154188], [\"Swimming\", 2, -80.146909, 26.118986], [\"Swimming\", 1, -80.078948, 26.305881], [\"Swimming\", 1, -80.118993, 26.161915], [\"Swimming\", 1, -80.11438100000001, 26.153374], [\"Swimming\", 1, -80.119625, 26.16218], [\"Swimming\", 1, -80.07955799999999, 26.305975], [\"Swimming\", 1, -80.079392, 26.305921], [\"Swimming\", 5, -80.079808, 26.306044], [\"Swimming\", 1, -80.114377, 26.152784], [\"Swimming\", 2, -80.09058900000001, 26.244401], [\"Swimming\", 2, -80.090975, 26.244528000000003], [\"Swimming\", 9, -80.09058900000001, 26.244429999999998], [\"Swimming\", 6, -80.079516, 26.306010999999998], [\"Swimming\", 6, -80.107906, 26.137437], [\"Swimming\", 1, -80.118794, 26.162003], [\"Swimming\", 1, -80.139884, 26.117097], [\"Swimming\", 1, -80.140452, 26.117105], [\"Swimming\", 1, -80.14015699999999, 26.11719], [\"Swimming\", 1, -80.079633, 26.306143], [\"Swimming\", 1, -80.07972099999999, 26.306001000000002], [\"Swimming\", 1, -80.08014200000001, 26.306164000000003], [\"Swimming\", 2, -80.079766, 26.306053000000002], [\"Swimming\", 1, -80.07908, 26.3058], [\"Swimming\", 3, -80.07964799999999, 26.305783], [\"Swimming\", 5, -80.079722, 26.305740000000004], [\"Swimming\", 1, -80.139966, 26.117145], [\"Swimming\", 1, -80.07901, 26.305746999999997], [\"Swimming\", 4, -80.07968199999999, 26.306013], [\"Swimming\", 1, -80.111867, 26.221234000000003], [\"Swimming\", 1, -80.114734, 26.066499], [\"Swimming\", 1, -80.128603, 26.116933], [\"Swimming\", 1, -80.079756, 26.281197], [\"Swimming\", 1, -80.153141, 26.114416000000002], [\"Swimming\", 2, -80.11912199999999, 26.078499], [\"Swimming\", 2, -80.172501, 26.094569], [\"Swimming\", 2, -80.1146, 26.105539999999998], [\"Swimming\", 1, -80.139862, 26.117045], [\"Swimming\", 1, -80.079164, 26.30575], [\"Swimming\", 2, -80.109225, 26.13694], [\"Swimming\", 2, -80.109196, 26.136972], [\"Swimming\", 2, -80.109245, 26.136924], [\"Swimming\", 1, -80.150415, 26.115533], [\"Swimming\", 1, -80.13596, 26.117568], [\"Swimming\", 1, -80.079751, 26.305752000000002], [\"Swimming\", 2, -80.080215, 26.305766], [\"Swimming\", 2, -80.079245, 26.305796], [\"Swimming\", 2, -80.22702113, 26.10278607], [\"Swimming\", 2, -80.143608, 26.120754], [\"Swimming\", 2, -80.261715, 26.123623000000002], [\"Swimming\", 1, -80.116428, 26.074472], [\"Swimming\", 2, -80.137348, 26.059529], [\"Swimming\", 1, -80.186378, 26.081164], [\"Swimming\", 1, -80.188348, 26.079711], [\"Swimming\", 1, -80.119516, 26.161983], [\"Swimming\", 3, -82.546807, 27.336923], [\"Swimming\", 1, -80.10993951, 26.09084151], [\"Swimming\", 1, -80.11358100000001, 26.081405], [\"Swimming\", 1, -80.119415, 26.162562], [\"Swimming\", 1, -80.11269, 26.082112], [\"Swimming\", 1, -80.122989, 25.979861], [\"Swimming\", 1, -80.123372, 25.980062], [\"Swimming\", 2, -80.111823, 26.090411], [\"Swimming\", 2, -80.11170200000001, 26.091235], [\"Swimming\", 3, -80.127585, 25.981313], [\"Swimming\", 1, -80.120366, 26.081459], [\"Swimming\", 1, -80.07758000000001, 26.342240000000004], [\"Swimming\", 1, -80.07755999999999, 26.34235], [\"Swimming\", 2, -80.120114, 26.078592999999998], [\"Swimming\", 3, -80.108437, 26.137279], [\"Swimming\", 3, -80.10732800000001, 26.137294], [\"Swimming\", 1, -80.138675, 26.116382], [\"Swimming\", 3, -80.14401083, 26.12107266], [\"Swimming\", 1, -80.11773000000001, 26.005764000000003], [\"Swimming\", 1, -80.07907900000001, 26.305809999999997], [\"Swimming\", 1, -80.09972900000001, 26.210663], [\"Swimming\", 2, -80.117623, 26.005682999999998], [\"Swimming\", 4, -80.189578, 25.762311999999998], [\"Swimming\", 2, -80.16158011, 26.03472658], [\"Swimming\", 2, -80.16158011, 26.03472658], [\"Swimming\", 1, -80.16158011, 26.03472658], [\"Swimming\", 1, -80.16158011, 26.03472658], [\"Swimming\", 3, -80.16158011, 26.03472658], [\"Swimming\", 2, -80.16158011, 26.03472658], [\"Swimming\", 2, -80.07893100000001, 26.305971999999997], [\"Swimming\", 1, -80.189266, 25.762451000000002], [\"Swimming\", 1, -80.16158011, 26.03472658], [\"Swimming\", 1, -80.092735, 26.233573], [\"Swimming\", 2, -80.092722, 26.233648], [\"Swimming\", 1, -80.118538, 26.013793], [\"Swimming\", 2, -81.01525699999999, 24.723581], [\"Swimming\", 3, -80.108917, 26.136359], [\"Swimming\", 1, -80.09302, 26.236310999999997], [\"Swimming\", 1, -80.092936, 26.236226000000002], [\"Swimming\", 1, -80.16158011, 26.03472658], [\"Swimming\", 3, -80.099053, 26.211253], [\"Swimming\", 2, -80.140077, 26.11729], [\"Swimming\", 2, -80.104107, 26.189229], [\"Swimming\", 1, -80.406112, 25.138068], [\"Swimming\", 1, -80.16158011, 26.03472658], [\"Swimming\", 1, -80.126672, 26.115896], [\"Swimming\", 2, -80.108529, 26.13606], [\"Swimming\", 2, -80.107283, 26.137367], [\"Swimming\", 5, -80.107386, 26.137301], [\"Swimming\", 1, -80.119789, 26.162304000000002], [\"Swimming\", 2, -80.100674, 26.272234], [\"Swimming\", 1, -80.109444, 26.118052], [\"Swimming\", 3, -80.16158011, 26.03472658], [\"Swimming\", 2, -80.118914, 26.086273000000002], [\"Swimming\", 1, -80.166443, 26.098584], [\"Swimming\", 4, -80.064413, 26.455775], [\"Swimming\", 1, -80.108896, 26.136343], [\"Swimming\", 1, -80.114807, 26.043622], [\"Swimming\", 6, -80.16155594, 26.03452909], [\"Swimming\", 1, -80.16158011, 26.03472658], [\"Swimming\", 2, -80.16158011, 26.03472658], [\"Swimming\", 1, -80.163203, 26.121582999999998], [\"Swimming\", 2, -80.16158011, 26.03472658], [\"Swimming\", 1, -80.171295, 26.068214], [\"Swimming\", 2, -80.091254, 26.243655], [\"Swimming\", 2, -80.114729, 26.074507999999998], [\"Swimming\", 5, -80.06517099999999, 26.455925], [\"Swimming\", 3, -80.107671, 26.137163], [\"Swimming\", 5, -80.079777, 26.305797], [\"Swimming\", 1, -80.079848, 26.305640999999998], [\"Swimming\", 2, -80.146289, 26.118309], [\"Swimming\", 2, -80.16158011, 26.03472658], [\"Swimming\", 1, -80.16158011, 26.03472658], [\"Swimming\", 1, -80.092735, 26.235843], [\"Swimming\", 1, -80.103831, 26.188542], [\"Swimming\", 1, -80.103741, 26.166075], [\"Swimming\", 5, -80.079211, 26.305766], [\"Swimming\", 2, -80.16158011, 26.03472658], [\"Swimming\", 1, -80.16155594, 26.03452909], [\"Swimming\", 1, -80.16158011, 26.03472658], [\"Swimming\", 2, -80.109536, 26.136314000000002], [\"Swimming\", 1, -80.092708, 26.236152], [\"Swimming\", 1, -80.11940200000001, 26.162546], [\"Swimming\", 1, -80.163225, 26.030754], [\"Swimming\", 1, -80.11940108, 26.16258233], [\"Swimming\", 1, -80.15925119, 26.16379488], [\"Swimming\", 3, -80.064521, 26.456083000000003], [\"Swimming\", 1, -80.163423, 26.030936999999998], [\"Swimming\", 1, -80.16158011, 26.03472658], [\"Swimming\", 1, -80.16158011, 26.03472658], [\"Swimming\", 1, -80.16155594, 26.03452909], [\"Swimming\", 1, -80.092739, 26.236196999999997], [\"Swimming\", 2, -80.16158011, 26.03472658], [\"Swimming\", 1, -80.16158011, 26.03472658], [\"Swimming\", 9, -80.079575, 26.305958], [\"Swimming\", 6, -80.079237, 26.305888], [\"Swimming\", 1, -80.090788, 26.243732], [\"Swimming\", 1, -80.16158011, 26.03472658], [\"Swimming\", 2, -80.07953, 26.306036], [\"Swimming\", 1, -80.16158011, 26.03472658], [\"Swimming\", 2, -80.16158011, 26.03472658], [\"Swimming\", 1, -80.118411, 26.000485], [\"Swimming\", 3, -80.06518299999999, 26.455947], [\"Swimming\", 1, -80.194229, 26.08558], [\"Swimming\", 4, -80.079705, 26.305965000000004], [\"Swimming\", 1, -80.109004, 26.136232], [\"Swimming\", 1, -80.119721, 26.162285999999998], [\"Swimming\", 1, -80.14385, 26.117949], [\"Swimming\", 3, -80.127507, 26.165891000000002], [\"Swimming\", 6, -80.16158011, 26.03472658], [\"Swimming\", 1, -80.10387414, 26.16295086], [\"Swimming\", 3, -80.121876, 26.167042000000002], [\"Swimming\", 1, -80.098887, 26.211476], [\"Swimming\", 1, -80.079387, 26.305768], [\"Swimming\", 1, -80.099159, 26.210665], [\"Swimming\", 6, -80.079215, 26.305692999999998], [\"Swimming\", 1, -80.108007, 26.137293], [\"Swimming\", 4, -80.108485, 26.137394], [\"Swimming\", 4, -80.18249239, 26.08475606], [\"Swimming\", 1, -80.107337, 26.111303], [\"Swimming\", 1, -80.104623, 26.115313], [\"Swimming\", 2, -80.2541, 26.121514], [\"Swimming\", 7, -80.09888507, 26.21199818], [\"Swimming\", 7, -80.09888507, 26.21199818], [\"Swimming\", 1, -80.092811, 26.236863], [\"Swimming\", 1, -80.10674399999999, 26.110829000000003], [\"Swimming\", 1, -80.077577, 26.308759000000002], [\"Swimming\", 3, -80.156337, 26.112414], [\"Swimming\", 1, -80.079486, 26.305659999999996], [\"Swimming\", 1, -80.130884, 26.11722], [\"Swimming\", 1, -80.092811, 26.236863], [\"Swimming\", 4, -80.07937700000001, 26.305836], [\"Swimming\", 1, -80.115061, 26.065046], [\"Swimming\", 2, -80.118053, 26.102528], [\"Swimming\", 1, -80.16158011, 26.03472658], [\"Swimming\", 7, -80.09888507, 26.21199818], [\"Swimming\", 1, -80.092811, 26.236863], [\"Swimming\", 3, -80.079575, 26.305606], [\"Swimming\", 1, -80.105181, 26.106985], [\"Swimming\", 3, -80.079575, 26.305606], [\"Swimming\", 8, -80.07991, 26.305790999999996], [\"Swimming\", 1, -80.10403000000001, 26.124582], [\"Swimming\", 1, -80.119434, 26.16246], [\"Swimming\", 4, -80.079543, 26.305902000000003], [\"Swimming\", 1, -80.09342099999999, 26.236423], [\"Swimming\", 2, -80.092845, 26.236288000000002], [\"Swimming\", 7, -80.16158011, 26.03472658], [\"Swimming\", 5, -80.104389, 26.163947], [\"Swimming\", 1, -80.092683, 26.236197999999998], [\"Swimming\", 2, -80.092924, 26.236181], [\"Swimming\", 2, -80.093458, 26.236517], [\"Swimming\", 6, -80.16158011, 26.03472658], [\"Swimming\", 1, -80.109227, 26.133972], [\"Swimming\", 4, -80.079451, 26.305938], [\"Swimming\", 2, -80.079481, 26.305839000000002], [\"Swimming\", 1, -80.09331999999999, 26.236428999999998], [\"Swimming\", 6, -80.07933, 26.305851], [\"Swimming\", 4, -80.10876, 26.13625], [\"Swimming\", 1, -80.12040400000001, 26.081892], [\"Swimming\", 1, -80.103788, 26.188626], [\"Swimming\", 3, -80.134058, 26.117639], [\"Swimming\", 4, -80.079336, 26.305838], [\"Swimming\", 3, -80.139938, 26.116973], [\"Swimming\", 2, -80.139945, 26.117001000000002], [\"Swimming\", 7, -80.16158011, 26.03472658], [\"Swimming\", 1, -80.099797, 26.210829], [\"Swimming\", 1, -80.103809, 26.166361], [\"Swimming\", 2, -80.12044, 26.081726], [\"Swimming\", 6, -80.109142, 26.136173], [\"Swimming\", 2, -80.079142, 26.305797], [\"Swimming\", 1, -80.16396999999999, 26.099072], [\"Swimming\", 2, -80.181001, 26.089763], [\"Swimming\", 1, -80.185168, 26.083585999999997], [\"Swimming\", 1, -80.200711, 26.071593], [\"Swimming\", 1, -80.139964, 26.117084], [\"Swimming\", 1, -80.10792099999999, 26.127512], [\"Swimming\", 1, -80.090616, 26.243754], [\"Swimming\", 2, -80.090737, 26.243761], [\"Swimming\", 1, -80.109257, 26.136123], [\"Swimming\", 2, -80.12011600000001, 26.095944], [\"Swimming\", 2, -80.137426, 26.11846], [\"Swimming\", 1, -80.119458, 26.162609], [\"Swimming\", 1, -80.103888, 26.166329], [\"Swimming\", 2, -80.1409, 26.117085999999997], [\"Swimming\", 1, -80.105532, 26.156182], [\"Swimming\", 2, -80.079588, 26.30582], [\"Swimming\", 1, -80.139833, 26.117025], [\"Swimming\", 1, -80.139937, 26.11711], [\"Swimming\", 1, -80.079593, 26.305728000000002], [\"Swimming\", 1, -80.10948499999999, 26.136145000000003], [\"Swimming\", 1, -80.119123, 26.038829999999997], [\"Swimming\", 1, -80.147072, 26.151123000000002], [\"Swimming\", 5, -80.107996, 26.136103], [\"Swimming\", 1, -80.17981999999999, 26.090010999999997], [\"Swimming\", 1, -80.10370999999999, 26.165992000000003], [\"Swimming\", 1, -80.09072900000001, 26.24375], [\"Swimming\", 1, -80.080033, 26.306029], [\"Swimming\", 1, -80.09073199999999, 26.24377], [\"Swimming\", 2, -80.146307, 26.118792000000003], [\"Swimming\", 1, -80.09071999999999, 26.243757000000002], [\"Swimming\", 2, -80.079521, 26.305845], [\"Swimming\", 1, -80.119019, 26.161967999999998], [\"Swimming\", 1, -80.107754, 26.125151000000002], [\"Swimming\", 1, -80.142374, 26.150812], [\"Swimming\", 2, -80.113241, 26.111214999999998], [\"Swimming\", 1, -80.09329699999999, 26.236431], [\"Swimming\", 5, -80.16158011, 26.03472658], [\"Swimming\", 5, -80.16158011, 26.03472658], [\"Swimming\", 2, -80.102417, 26.14485], [\"Swimming\", 2, -80.079668, 26.305982], [\"Swimming\", 1, -80.079157, 26.30576], [\"Swimming\", 1, -80.109273, 26.136144], [\"Swimming\", 2, -80.119462, 26.10233], [\"Swimming\", 1, -80.118567, 26.099743], [\"Swimming\", 1, -80.131812, 26.117291], [\"Swimming\", 1, -80.106076, 26.15391], [\"Swimming\", 3, -80.079717, 26.305732], [\"Swimming\", 3, -80.16158011, 26.03472658], [\"Swimming\", 1, -80.10755999999999, 26.141175], [\"Swimming\", 1, -80.144869, 26.118319], [\"Swimming\", 1, -80.11940108, 26.16258233], [\"Swimming\", 1, -80.07963199999999, 26.305968], [\"Swimming\", 1, -80.11940108, 26.16258233], [\"Swimming\", 1, -80.179811, 26.090204], [\"Swimming\", 2, -80.140914, 26.117407999999998], [\"Swimming\", 2, -80.140914, 26.117407999999998], [\"Swimming\", 1, -80.11940600000001, 26.162779], [\"Swimming\", 6, -80.108715, 26.137058], [\"Swimming\", 2, -80.140914, 26.117407999999998], [\"Swimming\", 3, -80.167419, 26.09838], [\"Swimming\", 1, -80.163042, 26.121133], [\"Swimming\", 2, -80.090296, 26.249436], [\"Swimming\", 2, -80.12079399999999, 26.038968], [\"Swimming\", 1, -80.137454, 26.1185], [\"Swimming\", 1, -80.108673, 26.114732], [\"Swimming\", 1, -80.137454, 26.1185], [\"Swimming\", 2, -80.079561, 26.305865], [\"Swimming\", 2, -80.07919, 26.305768], [\"Swimming\", 2, -80.107552, 26.137973000000002], [\"Swimming\", 1, -80.139674, 26.116223], [\"Swimming\", 1, -80.09944200000001, 26.210871], [\"Swimming\", 2, -80.09298000000001, 26.235646999999997], [\"Swimming\", 3, -80.107968, 26.147861], [\"Swimming\", 2, -80.082328, 26.315579], [\"Swimming\", 1, -80.14601800000001, 26.118174], [\"Swimming\", 1, -80.108981, 26.116293], [\"Swimming\", 1, -80.161781, 26.119635], [\"Swimming\", 4, -80.07975400000001, 26.30589], [\"Swimming\", 2, -80.104293, 26.164848000000003], [\"Swimming\", 1, -80.07957900000001, 26.305590000000002], [\"Swimming\", 2, -80.079419, 26.305965999999998], [\"Swimming\", 2, -80.079373, 26.305763], [\"Swimming\", 3, -80.103188, 26.19524], [\"Swimming\", 1, -80.13959399999999, 26.164883], [\"Swimming\", 1, -80.07957900000001, 26.305590000000002], [\"Swimming\", 1, -80.13959399999999, 26.164883], [\"Swimming\", 4, -80.10332199999999, 26.195337], [\"Swimming\", 2, -80.10342800000001, 26.195213], [\"Swimming\", 2, -80.103336, 26.195204], [\"Swimming\", 3, -80.10311748, 26.19528006], [\"Swimming\", 2, -80.11704499999999, 26.016517999999998], [\"Swimming\", 2, -80.11620500000001, 26.038098], [\"Swimming\", 2, -80.11620500000001, 26.038098], [\"Swimming\", 3, -80.102358, 26.194746], [\"Swimming\", 2, -80.07916800000001, 26.305821999999996], [\"Swimming\", 1, -80.09271600000001, 26.236187], [\"Swimming\", 1, -80.11940108, 26.16258233], [\"Swimming\", 1, -80.13973299999999, 26.11709], [\"Swimming\", 1, -80.11846800000001, 26.013872], [\"Swimming\", 3, -80.102184, 26.195628], [\"Swimming\", 1, -80.147616, 26.119515], [\"Swimming\", 1, -80.08185, 26.315278000000003], [\"Swimming\", 1, -80.167023, 26.09764], [\"Swimming\", 2, -80.090395, 26.249074], [\"Swimming\", 1, -80.09067399999999, 26.247594], [\"Swimming\", 7, -80.16158011, 26.03472658], [\"Swimming\", 7, -80.16158011, 26.03472658], [\"Swimming\", 2, -80.16158011, 26.03472658], [\"Swimming\", 2, -80.16158011, 26.03472658], [\"Swimming\", 1, -80.16158011, 26.03472658], [\"Swimming\", 1, -80.108675, 26.224759999999996], [\"Swimming\", 1, -80.111695, 26.091144], [\"Swimming\", 1, -80.111695, 26.091144], [\"Swimming\", 1, -80.13685699999999, 26.117048], [\"Swimming\", 1, -80.16193505, 26.03460472], [\"Swimming\", 3, -80.117164, 26.015566], [\"Swimming\", 3, -80.117164, 26.015566], [\"Swimming\", 1, -80.111827, 26.090567], [\"Swimming\", 3, -80.117164, 26.015566], [\"Swimming\", 3, -80.117164, 26.015566], [\"Swimming\", 3, -80.117164, 26.015566], [\"Swimming\", 1, -80.11194499999999, 26.091387], [\"Swimming\", 1, -80.11194499999999, 26.091387], [\"Swimming\", 1, -80.11194499999999, 26.091387], [\"Swimming\", 1, -80.11194499999999, 26.091387], [\"Swimming\", 1, -80.11194499999999, 26.091387], [\"Swimming\", 1, -80.111767, 26.091224], [\"Swimming\", 1, -80.111767, 26.091224], [\"Swimming\", 1, -80.117306, 26.014943], [\"Swimming\", 1, -80.111767, 26.091224], [\"Swimming\", 1, -80.16158011, 26.03472658], [\"Swimming\", 1, -80.16158011, 26.03472658], [\"Swimming\", 2, -80.16193119, 26.03461317], [\"Swimming\", 2, -80.16193119, 26.03461317], [\"Swimming\", 2, -80.16193119, 26.03461317], [\"Swimming\", 2, -80.11741500000001, 26.089941], [\"Swimming\", 2, -80.11614499999999, 26.078543], [\"Swimming\", 2, -80.11614499999999, 26.078543], [\"Swimming\", 2, -80.11614499999999, 26.078543], [\"Swimming\", 2, -80.11614499999999, 26.078543], [\"Swimming\", 2, -80.11614499999999, 26.078543], [\"Swimming\", 1, -80.16158011, 26.03472658], [\"Swimming\", 2, -80.11614499999999, 26.078543], [\"Swimming\", 1, -80.18666400000001, 26.080378], [\"Swimming\", 1, -80.11576099999999, 26.038946], [\"Swimming\", 1, -80.079288, 26.305743], [\"Swimming\", 2, -80.092619, 26.236438], [\"Swimming\", 1, -80.11576099999999, 26.038946], [\"Swimming\", 1, -80.119811, 26.080571], [\"Swimming\", 1, -80.16158011, 26.03472658], [\"Swimming\", 2, -80.11614499999999, 26.078543], [\"Swimming\", 1, -80.118487, 26.013742], [\"Swimming\", 1, -80.16158011, 26.03472658], [\"Swimming\", 1, -80.18666400000001, 26.080378], [\"Swimming\", 1, -80.092674, 26.235917999999998], [\"Swimming\", 1, -80.092614, 26.236062], [\"Swimming\", 1, -80.09282900000001, 26.236648], [\"Swimming\", 2, -80.07916, 26.30583], [\"Swimming\", 2, -80.079295, 26.305769], [\"Swimming\", 2, -80.16158011, 26.03472658], [\"Swimming\", 1, -80.09255300000001, 26.235975], [\"Swimming\", 1, -80.111028, 26.221890000000002], [\"Swimming\", 2, -80.16158011, 26.03472658], [\"Swimming\", 2, -80.099793, 26.208986], [\"Swimming\", 2, -80.120172, 26.078749], [\"Swimming\", 2, -80.120172, 26.078749], [\"Swimming\", 1, -80.079215, 26.305729], [\"Swimming\", 3, -80.16158011, 26.03472658], [\"Swimming\", 3, -80.16158011, 26.03472658], [\"Swimming\", 2, -80.125865, 26.179595000000003], [\"Swimming\", 3, -80.16158011, 26.03472658], [\"Swimming\", 3, -80.079835, 26.305853999999997], [\"Swimming\", 6, -80.19236205, 26.070044199999998], [\"Swimming\", 6, -80.19236205, 26.070044199999998], [\"Swimming\", 6, -80.19236205, 26.070044199999998], [\"Swimming\", 2, -80.079399, 26.305742], [\"Swimming\", 1, -80.143772, 26.121054], [\"Swimming\", 1, -80.147274, 26.118707], [\"Swimming\", 1, -80.147438, 26.119581], [\"Swimming\", 1, -80.161563, 26.034707], [\"Swimming\", 3, -80.16158011, 26.03472658], [\"Swimming\", 2, -80.16158011, 26.03472658], [\"Swimming\", 4, -80.14038599999999, 26.1635], [\"Swimming\", 1, -80.11376, 26.084502], [\"Swimming\", 1, -80.16158011, 26.03472658], [\"Swimming\", 1, -80.185788, 26.033191], [\"Swimming\", 2, -80.080027, 26.306007], [\"Swimming\", 1, -80.079237, 26.305738], [\"Swimming\", 1, -80.09266099999999, 26.236371999999996], [\"Swimming\", 2, -80.16158011, 26.03472658], [\"Swimming\", 5, -80.079356, 26.305759000000002], [\"Swimming\", 1, -80.07556899999999, 26.313663000000002], [\"Swimming\", 1, -80.077159, 26.303622999999998], [\"Swimming\", 1, -80.16158011, 26.03472658], [\"Swimming\", 2, -80.16158011, 26.03472658], [\"Swimming\", 2, -80.193692, 26.085783], [\"Swimming\", 2, -80.193692, 26.085783], [\"Swimming\", 1, -80.180747, 26.098529], [\"Swimming\", 1, -80.117644, 26.015317], [\"Swimming\", 1, -80.169899, 26.094718], [\"Swimming\", 2, -80.161446, 26.120186], [\"Swimming\", 1, -80.161651, 26.11992], [\"Swimming\", 2, -80.193692, 26.085783], [\"Swimming\", 2, -80.122873, 26.209234], [\"Swimming\", 2, -80.18429499999999, 26.067257], [\"Swimming\", 1, -80.1041, 26.173045000000002], [\"Swimming\", 2, -80.193692, 26.085783], [\"Swimming\", 2, -80.09275699999999, 26.236056], [\"Swimming\", 2, -80.07967, 26.305746999999997], [\"Swimming\", 1, -80.079595, 26.305689], [\"Swimming\", 2, -80.081799, 26.315345], [\"Swimming\", 1, -80.10388499999999, 26.173521], [\"Swimming\", 1, -80.107863, 26.128288], [\"Swimming\", 1, -80.107863, 26.128288], [\"Swimming\", 1, -80.137445, 26.118301000000002], [\"Swimming\", 4, -80.16158011, 26.03472658], [\"Swimming\", 1, -80.107863, 26.128288], [\"Swimming\", 1, -80.079358, 26.305862], [\"Swimming\", 2, -80.079268, 26.305922999999996], [\"Swimming\", 3, -80.07938, 26.305771999999997], [\"Swimming\", 3, -80.07938, 26.305771999999997], [\"Swimming\", 1, -80.11068399999999, 26.22242], [\"Swimming\", 1, -80.161794, 26.119554], [\"Swimming\", 2, -80.150376, 26.164467000000002], [\"Swimming\", 1, -80.082223, 26.315407], [\"Swimming\", 2, -80.079562, 26.305629999999997], [\"Swimming\", 5, -80.16158011, 26.03472658], [\"Swimming\", 6, -80.16158011, 26.03472658], [\"Swimming\", 7, -80.16158011, 26.03472658], [\"Swimming\", 9, -80.16158011, 26.03472658], [\"Swimming\", 4, -80.16158011, 26.03472658], [\"Swimming\", 2, -80.08242800000001, 26.31543], [\"Swimming\", 2, -80.08242800000001, 26.31543], [\"Swimming\", 1, -80.12238, 25.981954], [\"Swimming\", 2, -80.07935400000001, 26.305497999999996], [\"Swimming\", 2, -80.079418, 26.305727], [\"Swimming\", 5, -80.16158011, 26.03472658], [\"Swimming\", 4, -80.079639, 26.305711], [\"Swimming\", 3, -80.079502, 26.305708000000003], [\"Swimming\", 6, -80.07950600000001, 26.305627], [\"Swimming\", 1, -80.122445, 25.982239], [\"Swimming\", 1, -80.180401, 26.32625], [\"Swimming\", 1, -80.13855500000001, 26.118555999999998], [\"Swimming\", 1, -80.11166899999999, 26.090532999999997], [\"Swimming\", 1, -80.11166899999999, 26.090532999999997], [\"Swimming\", 1, -80.122659, 25.982147], [\"Swimming\", 1, -80.122217, 25.981826], [\"Swimming\", 3, -80.07955799999999, 26.305840000000003], [\"Swimming\", 1, -80.12238, 25.981954], [\"Swimming\", 2, -80.079491, 26.305678000000004], [\"Swimming\", 1, -80.092665, 26.235819], [\"Swimming\", 1, -80.100577, 26.202872], [\"Swimming\", 3, -80.113744, 26.079282], [\"Swimming\", 2, -80.122609, 25.982248000000002], [\"Swimming\", 1, -80.202288, 26.06821], [\"Swimming\", 1, -80.120637, 26.21467], [\"Swimming\", 2, -80.079451, 26.305863000000002], [\"Swimming\", 2, -80.09095500000001, 26.249421999999996], [\"Swimming\", 1, -80.11604200000001, 26.035035], [\"Swimming\", 2, -80.122462, 25.982035999999997], [\"Swimming\", 1, -80.092724, 26.235985999999997], [\"Swimming\", 1, -80.161716, 26.119958], [\"Swimming\", 2, -80.07955, 26.305756], [\"Swimming\", 3, -80.079553, 26.305589], [\"Swimming\", 2, -80.163302, 26.026376000000003], [\"Swimming\", 2, -80.122413, 25.982151], [\"Swimming\", 2, -80.122483, 25.98208], [\"Swimming\", 1, -80.117813, 26.005853], [\"Swimming\", 1, -80.111549, 26.090612], [\"Swimming\", 4, -80.079308, 26.305751], [\"Swimming\", 4, -80.079308, 26.305751], [\"Swimming\", 2, -80.092734, 26.236288000000002], [\"Swimming\", 2, -80.081374, 26.315440000000002], [\"Swimming\", 4, -80.079308, 26.305751], [\"Swimming\", 1, -80.09269499999999, 26.236132], [\"Swimming\", 2, -80.16158011, 26.03472658], [\"Swimming\", 1, -80.120773, 26.095904], [\"Swimming\", 1, -80.120773, 26.095904], [\"Swimming\", 1, -80.12195, 25.981882000000002], [\"Swimming\", 1, -80.16158011, 26.03472658], [\"Swimming\", 1, -80.11162, 26.090559], [\"Swimming\", 4, -80.16158011, 26.03472658], [\"Swimming\", 1, -80.122803, 25.982248000000002], [\"Swimming\", 1, -80.123327, 25.982414000000002], [\"Swimming\", 1, -80.12257, 25.982260999999998], [\"Swimming\", 5, -80.161568, 26.034707], [\"Swimming\", 1, -80.120773, 26.095904], [\"Swimming\", 2, -80.11856800000001, 26.013898], [\"Swimming\", 1, -80.122274, 25.982383], [\"Swimming\", 2, -80.122587, 25.982325], [\"Swimming\", 1, -80.122943, 25.982311], [\"Swimming\", 1, -80.092493, 26.235715999999996], [\"Swimming\", 1, -80.079601, 26.305845], [\"Swimming\", 1, -80.117643, 26.014338000000002], [\"Swimming\", 1, -80.117643, 26.014338000000002], [\"Swimming\", 1, -80.122861, 25.98222], [\"Swimming\", 5, -80.16158011, 26.03472658], [\"Swimming\", 2, -80.16158011, 26.03472658], [\"Swimming\", 1, -80.117643, 26.014338000000002], [\"Swimming\", 2, -80.122713, 25.982179000000002], [\"Swimming\", 1, -80.182293, 26.039785000000002], [\"Swimming\", 2, -80.109004, 26.218056], [\"Swimming\", 1, -80.123064, 25.9823], [\"Swimming\", 1, -80.123196, 25.982322], [\"Swimming\", 1, -80.122968, 25.982239], [\"Swimming\", 5, -80.161568, 26.034707], [\"Swimming\", 1, -80.122619, 25.982029], [\"Swimming\", 2, -80.09146199999999, 26.24395], [\"Swimming\", 2, -80.115195, 26.044369], [\"Swimming\", 1, -80.12031, 25.942255], [\"Swimming\", 3, -80.079424, 26.305790000000002], [\"Swimming\", 2, -80.07925, 26.305740999999998], [\"Swimming\", 1, -80.11841873, 25.99469736], [\"Swimming\", 2, -80.122068, 25.98214], [\"Swimming\", 2, -80.07970300000001, 26.306008000000002], [\"Swimming\", 5, -80.16158011, 26.03472658], [\"Swimming\", 1, -80.122264, 25.984606], [\"Swimming\", 2, -80.09262199999999, 26.23619], [\"Swimming\", 2, -80.079412, 26.305656], [\"Swimming\", 1, -80.09249, 26.236177], [\"Swimming\", 2, -80.122438, 25.984579], [\"Swimming\", 2, -80.123616, 25.982495], [\"Swimming\", 1, -80.122686, 25.982305], [\"Swimming\", 3, -80.09339, 26.236539], [\"Swimming\", 1, -80.122484, 25.982193], [\"Swimming\", 3, -80.079332, 26.305845], [\"Swimming\", 2, -80.163308, 26.026294], [\"Swimming\", 1, -80.12263399999999, 25.982232], [\"Swimming\", 2, -80.082944, 26.315639], [\"Swimming\", 4, -80.16158011, 26.03472658], [\"Swimming\", 1, -80.15599399999999, 26.054883], [\"Swimming\", 2, -80.07954699999999, 26.305833000000003], [\"Swimming\", 1, -80.130866, 26.198937], [\"Swimming\", 1, -80.092711, 26.235878000000003], [\"Swimming\", 2, -80.09947700000001, 26.209804000000002], [\"Swimming\", 1, -80.11572199999999, 26.07848], [\"Swimming\", 1, -80.092711, 26.235878000000003], [\"Swimming\", 3, -80.07929399999999, 26.305733], [\"Swimming\", 2, -80.106635, 26.222953000000004], [\"Swimming\", 1, -80.093645, 26.211542], [\"Swimming\", 2, -80.079561, 26.305553000000003], [\"Swimming\", 2, -80.081439, 26.315595000000002], [\"Swimming\", 2, -80.106635, 26.222953000000004], [\"Swimming\", 2, -80.092683, 26.235816999999997], [\"Swimming\", 2, -80.081439, 26.315595000000002], [\"Swimming\", 2, -80.079561, 26.305553000000003], [\"Swimming\", 2, -80.106635, 26.222953000000004], [\"Swimming\", 1, -80.123267, 26.126752], [\"Swimming\", 1, -80.123267, 26.126752], [\"Swimming\", 1, -80.114736, 26.086002], [\"Swimming\", 1, -80.081851, 26.315424], [\"Swimming\", 2, -80.115585, 26.078529999999997], [\"Swimming\", 2, -80.115585, 26.078529999999997], [\"Swimming\", 1, -80.18239200000001, 26.088478], [\"Swimming\", 1, -80.18239200000001, 26.088478], [\"Swimming\", 1, -80.18239200000001, 26.088478], [\"Swimming\", 1, -80.18239200000001, 26.088478], [\"Swimming\", 2, -80.17785400000001, 26.090962], [\"Swimming\", 1, -80.124371, 26.086934], [\"Swimming\", 1, -80.119268, 26.078459], [\"Swimming\", 1, -80.119452, 26.162502], [\"Swimming\", 1, -80.119452, 26.162502], [\"Swimming\", 2, -80.128613, 25.98250962], [\"Swimming\", 2, -80.128613, 25.98250962], [\"Swimming\", 2, -80.128613, 25.98250962], [\"Swimming\", 2, -80.217414, 26.068776], [\"Swimming\", 1, -80.119506, 26.162472], [\"Swimming\", 1, -80.119506, 26.162472], [\"Swimming\", 1, -80.119506, 26.162472], [\"Swimming\", 1, -80.115311, 26.047738], [\"Swimming\", 1, -80.119506, 26.162472], [\"Swimming\", 1, -80.19971600000001, 26.073754], [\"Swimming\", 1, -80.19971600000001, 26.073754], [\"Swimming\", 1, -80.19971600000001, 26.073754], [\"Swimming\", 1, -80.119506, 26.162472], [\"Swimming\", 1, -80.119506, 26.162472], [\"Swimming\", 1, -80.119506, 26.162472], [\"Swimming\", 1, -80.119843, 26.079027], [\"Swimming\", 1, -80.119843, 26.079027], [\"Swimming\", 1, -80.119843, 26.079027], [\"Swimming\", 1, -80.119843, 26.079027], [\"Swimming\", 2, -80.12385833, 25.97763373], [\"Swimming\", 1, -80.16158011, 26.03472658], [\"Swimming\", 1, -80.111584, 26.091127], [\"Swimming\", 1, -80.10335400000001, 26.170897], [\"Swimming\", 1, -80.111584, 26.091127], [\"Swimming\", 1, -80.15657900000001, 26.10449], [\"Swimming\", 1, -80.111584, 26.091127], [\"Swimming\", 2, -80.11025642, 26.22209997], [\"Swimming\", 2, -80.12385833, 25.97763373], [\"Swimming\", 1, -80.16158011, 26.03472658], [\"Swimming\", 1, -80.08234499999999, 26.315478999999996], [\"Swimming\", 1, -80.08234499999999, 26.315478999999996], [\"Swimming\", 1, -80.08234499999999, 26.315478999999996], [\"Swimming\", 1, -80.114246, 26.052771], [\"Swimming\", 1, -80.114246, 26.052771], [\"Swimming\", 1, -80.114132, 26.052539000000003], [\"Swimming\", 2, -80.114073, 26.085351], [\"Swimming\", 1, -80.12347, 25.976599], [\"Swimming\", 2, -80.114073, 26.085351], [\"Swimming\", 1, -80.12355500000001, 25.976392], [\"Swimming\", 1, -80.081849, 26.315572999999997], [\"Swimming\", 1, -80.081849, 26.315572999999997], [\"Swimming\", 1, -80.081849, 26.315572999999997], [\"Swimming\", 1, -80.081849, 26.315572999999997], [\"Swimming\", 2, -80.115802, 26.073339999999998], [\"Swimming\", 2, -80.115802, 26.073339999999998], [\"Swimming\", 2, -80.115802, 26.073339999999998], [\"Swimming\", 2, -80.115802, 26.073339999999998], [\"Swimming\", 2, -80.115802, 26.073339999999998], [\"Swimming\", 1, -80.232646, 25.975071], [\"Swimming\", 1, -80.232646, 25.975071], [\"Swimming\", 2, -80.11477, 26.071996], [\"Swimming\", 2, -80.11477, 26.071996], [\"Swimming\", 1, -80.232646, 25.975071], [\"Swimming\", 1, -80.232646, 25.975071], [\"Swimming\", 1, -80.232646, 25.975071], [\"Swimming\", 1, -80.232646, 25.975071], [\"Swimming\", 2, -80.079378, 26.305894], [\"Swimming\", 2, -80.079378, 26.305894], [\"Swimming\", 2, -80.08237, 26.315416], [\"Swimming\", 2, -80.079358, 26.30586], [\"Swimming\", 3, -80.079363, 26.305859], [\"Swimming\", 2, -80.079403, 26.305836], [\"Swimming\", 1, -80.079417, 26.305865999999998], [\"Swimming\", 1, -80.079417, 26.305865999999998], [\"Swimming\", 1, -80.102216, 26.145306], [\"Swimming\", 1, -80.102216, 26.145306], [\"Swimming\", 2, -80.108707, 26.224790000000002], [\"Swimming\", 1, -80.08200699999999, 26.315451], [\"Swimming\", 1, -80.115402, 26.038941], [\"Swimming\", 2, -80.13970400000001, 26.116169], [\"Swimming\", 1, -80.119496, 26.162489], [\"Swimming\", 1, -80.119496, 26.162489], [\"Swimming\", 1, -80.104455, 26.164358], [\"Swimming\", 1, -80.119496, 26.162489], [\"Swimming\", 2, -80.07943399999999, 26.305846999999996], [\"Swimming\", 2, -80.07943399999999, 26.305846999999996], [\"Swimming\", 1, -80.119313, 26.162921], [\"Swimming\", 1, -80.119313, 26.162921], [\"Swimming\", 3, -80.079488, 26.305863000000002], [\"Swimming\", 3, -80.079412, 26.305836], [\"Swimming\", 3, -80.07937199999999, 26.305876], [\"Swimming\", 2, -80.13215600000001, 26.153729000000002], [\"Swimming\", 2, -80.094636, 26.225731], [\"Swimming\", 2, -80.079441, 26.305858], [\"Swimming\", 2, -80.07943900000001, 26.30586], [\"Swimming\", 3, -80.079346, 26.305885999999997], [\"Swimming\", 3, -80.079398, 26.305861], [\"Swimming\", 2, -80.07940500000001, 26.305862], [\"Swimming\", 9, -80.079398, 26.306009999999997], [\"Swimming\", 2, -80.079453, 26.305858], [\"Swimming\", 3, -80.079422, 26.305861], [\"Swimming\", 7, -80.079424, 26.305865]], \"hovertemplate\": \"Activity=%{customdata[0]}<br>Total Number of Manatees=%{customdata[1]}<extra></extra>\", \"lat\": [26.22129914, 26.22140944, 25.72946264, 25.72946264, 26.116310000000002, 26.116262, 26.456023, 26.118759, 26.117449, 26.117793, 26.112491000000002, 26.456037, 26.306165000000004, 26.154254, 26.224732, 26.096324, 26.456026, 26.098917, 26.305892, 26.117760999999998, 26.305882, 26.693995, 26.169995999999998, 26.170357, 26.30576, 26.116974, 26.45607, 26.060385, 26.136198, 26.094838, 26.091358, 26.094978, 26.13651, 26.136468, 26.0984, 26.136842, 26.171183, 26.095955, 26.067365, 26.067708, 26.084761999999998, 26.089702, 26.091155, 26.094267000000002, 26.093726, 26.082351, 26.305903999999998, 26.063435000000002, 26.084258, 26.067834, 26.067491, 26.068951000000002, 26.136226, 26.171065, 26.135931, 26.112804999999998, 26.136333, 26.17071, 26.079667999999998, 26.13735, 26.24565, 26.245758000000002, 26.305840999999997, 26.11917141, 26.164723000000002, 26.153894, 26.153894, 26.154039, 26.136112, 26.135362, 26.15397, 26.117044, 26.117070000000002, 26.117102, 26.117081, 26.116999999999997, 26.117379, 26.135785000000002, 26.117601999999998, 26.305944, 26.305832000000002, 26.154188, 26.118986, 26.305881, 26.161915, 26.153374, 26.16218, 26.305975, 26.305921, 26.306044, 26.152784, 26.244401, 26.244528000000003, 26.244429999999998, 26.306010999999998, 26.137437, 26.162003, 26.117097, 26.117105, 26.11719, 26.306143, 26.306001000000002, 26.306164000000003, 26.306053000000002, 26.3058, 26.305783, 26.305740000000004, 26.117145, 26.305746999999997, 26.306013, 26.221234000000003, 26.066499, 26.116933, 26.281197, 26.114416000000002, 26.078499, 26.094569, 26.105539999999998, 26.117045, 26.30575, 26.13694, 26.136972, 26.136924, 26.115533, 26.117568, 26.305752000000002, 26.305766, 26.305796, 26.10278607, 26.120754, 26.123623000000002, 26.074472, 26.059529, 26.081164, 26.079711, 26.161983, 27.336923, 26.09084151, 26.081405, 26.162562, 26.082112, 25.979861, 25.980062, 26.090411, 26.091235, 25.981313, 26.081459, 26.342240000000004, 26.34235, 26.078592999999998, 26.137279, 26.137294, 26.116382, 26.12107266, 26.005764000000003, 26.305809999999997, 26.210663, 26.005682999999998, 25.762311999999998, 26.03472658, 26.03472658, 26.03472658, 26.03472658, 26.03472658, 26.03472658, 26.305971999999997, 25.762451000000002, 26.03472658, 26.233573, 26.233648, 26.013793, 24.723581, 26.136359, 26.236310999999997, 26.236226000000002, 26.03472658, 26.211253, 26.11729, 26.189229, 25.138068, 26.03472658, 26.115896, 26.13606, 26.137367, 26.137301, 26.162304000000002, 26.272234, 26.118052, 26.03472658, 26.086273000000002, 26.098584, 26.455775, 26.136343, 26.043622, 26.03452909, 26.03472658, 26.03472658, 26.121582999999998, 26.03472658, 26.068214, 26.243655, 26.074507999999998, 26.455925, 26.137163, 26.305797, 26.305640999999998, 26.118309, 26.03472658, 26.03472658, 26.235843, 26.188542, 26.166075, 26.305766, 26.03472658, 26.03452909, 26.03472658, 26.136314000000002, 26.236152, 26.162546, 26.030754, 26.16258233, 26.16379488, 26.456083000000003, 26.030936999999998, 26.03472658, 26.03472658, 26.03452909, 26.236196999999997, 26.03472658, 26.03472658, 26.305958, 26.305888, 26.243732, 26.03472658, 26.306036, 26.03472658, 26.03472658, 26.000485, 26.455947, 26.08558, 26.305965000000004, 26.136232, 26.162285999999998, 26.117949, 26.165891000000002, 26.03472658, 26.16295086, 26.167042000000002, 26.211476, 26.305768, 26.210665, 26.305692999999998, 26.137293, 26.137394, 26.08475606, 26.111303, 26.115313, 26.121514, 26.21199818, 26.21199818, 26.236863, 26.110829000000003, 26.308759000000002, 26.112414, 26.305659999999996, 26.11722, 26.236863, 26.305836, 26.065046, 26.102528, 26.03472658, 26.21199818, 26.236863, 26.305606, 26.106985, 26.305606, 26.305790999999996, 26.124582, 26.16246, 26.305902000000003, 26.236423, 26.236288000000002, 26.03472658, 26.163947, 26.236197999999998, 26.236181, 26.236517, 26.03472658, 26.133972, 26.305938, 26.305839000000002, 26.236428999999998, 26.305851, 26.13625, 26.081892, 26.188626, 26.117639, 26.305838, 26.116973, 26.117001000000002, 26.03472658, 26.210829, 26.166361, 26.081726, 26.136173, 26.305797, 26.099072, 26.089763, 26.083585999999997, 26.071593, 26.117084, 26.127512, 26.243754, 26.243761, 26.136123, 26.095944, 26.11846, 26.162609, 26.166329, 26.117085999999997, 26.156182, 26.30582, 26.117025, 26.11711, 26.305728000000002, 26.136145000000003, 26.038829999999997, 26.151123000000002, 26.136103, 26.090010999999997, 26.165992000000003, 26.24375, 26.306029, 26.24377, 26.118792000000003, 26.243757000000002, 26.305845, 26.161967999999998, 26.125151000000002, 26.150812, 26.111214999999998, 26.236431, 26.03472658, 26.03472658, 26.14485, 26.305982, 26.30576, 26.136144, 26.10233, 26.099743, 26.117291, 26.15391, 26.305732, 26.03472658, 26.141175, 26.118319, 26.16258233, 26.305968, 26.16258233, 26.090204, 26.117407999999998, 26.117407999999998, 26.162779, 26.137058, 26.117407999999998, 26.09838, 26.121133, 26.249436, 26.038968, 26.1185, 26.114732, 26.1185, 26.305865, 26.305768, 26.137973000000002, 26.116223, 26.210871, 26.235646999999997, 26.147861, 26.315579, 26.118174, 26.116293, 26.119635, 26.30589, 26.164848000000003, 26.305590000000002, 26.305965999999998, 26.305763, 26.19524, 26.164883, 26.305590000000002, 26.164883, 26.195337, 26.195213, 26.195204, 26.19528006, 26.016517999999998, 26.038098, 26.038098, 26.194746, 26.305821999999996, 26.236187, 26.16258233, 26.11709, 26.013872, 26.195628, 26.119515, 26.315278000000003, 26.09764, 26.249074, 26.247594, 26.03472658, 26.03472658, 26.03472658, 26.03472658, 26.03472658, 26.224759999999996, 26.091144, 26.091144, 26.117048, 26.03460472, 26.015566, 26.015566, 26.090567, 26.015566, 26.015566, 26.015566, 26.091387, 26.091387, 26.091387, 26.091387, 26.091387, 26.091224, 26.091224, 26.014943, 26.091224, 26.03472658, 26.03472658, 26.03461317, 26.03461317, 26.03461317, 26.089941, 26.078543, 26.078543, 26.078543, 26.078543, 26.078543, 26.03472658, 26.078543, 26.080378, 26.038946, 26.305743, 26.236438, 26.038946, 26.080571, 26.03472658, 26.078543, 26.013742, 26.03472658, 26.080378, 26.235917999999998, 26.236062, 26.236648, 26.30583, 26.305769, 26.03472658, 26.235975, 26.221890000000002, 26.03472658, 26.208986, 26.078749, 26.078749, 26.305729, 26.03472658, 26.03472658, 26.179595000000003, 26.03472658, 26.305853999999997, 26.070044199999998, 26.070044199999998, 26.070044199999998, 26.305742, 26.121054, 26.118707, 26.119581, 26.034707, 26.03472658, 26.03472658, 26.1635, 26.084502, 26.03472658, 26.033191, 26.306007, 26.305738, 26.236371999999996, 26.03472658, 26.305759000000002, 26.313663000000002, 26.303622999999998, 26.03472658, 26.03472658, 26.085783, 26.085783, 26.098529, 26.015317, 26.094718, 26.120186, 26.11992, 26.085783, 26.209234, 26.067257, 26.173045000000002, 26.085783, 26.236056, 26.305746999999997, 26.305689, 26.315345, 26.173521, 26.128288, 26.128288, 26.118301000000002, 26.03472658, 26.128288, 26.305862, 26.305922999999996, 26.305771999999997, 26.305771999999997, 26.22242, 26.119554, 26.164467000000002, 26.315407, 26.305629999999997, 26.03472658, 26.03472658, 26.03472658, 26.03472658, 26.03472658, 26.31543, 26.31543, 25.981954, 26.305497999999996, 26.305727, 26.03472658, 26.305711, 26.305708000000003, 26.305627, 25.982239, 26.32625, 26.118555999999998, 26.090532999999997, 26.090532999999997, 25.982147, 25.981826, 26.305840000000003, 25.981954, 26.305678000000004, 26.235819, 26.202872, 26.079282, 25.982248000000002, 26.06821, 26.21467, 26.305863000000002, 26.249421999999996, 26.035035, 25.982035999999997, 26.235985999999997, 26.119958, 26.305756, 26.305589, 26.026376000000003, 25.982151, 25.98208, 26.005853, 26.090612, 26.305751, 26.305751, 26.236288000000002, 26.315440000000002, 26.305751, 26.236132, 26.03472658, 26.095904, 26.095904, 25.981882000000002, 26.03472658, 26.090559, 26.03472658, 25.982248000000002, 25.982414000000002, 25.982260999999998, 26.034707, 26.095904, 26.013898, 25.982383, 25.982325, 25.982311, 26.235715999999996, 26.305845, 26.014338000000002, 26.014338000000002, 25.98222, 26.03472658, 26.03472658, 26.014338000000002, 25.982179000000002, 26.039785000000002, 26.218056, 25.9823, 25.982322, 25.982239, 26.034707, 25.982029, 26.24395, 26.044369, 25.942255, 26.305790000000002, 26.305740999999998, 25.99469736, 25.98214, 26.306008000000002, 26.03472658, 25.984606, 26.23619, 26.305656, 26.236177, 25.984579, 25.982495, 25.982305, 26.236539, 25.982193, 26.305845, 26.026294, 25.982232, 26.315639, 26.03472658, 26.054883, 26.305833000000003, 26.198937, 26.235878000000003, 26.209804000000002, 26.07848, 26.235878000000003, 26.305733, 26.222953000000004, 26.211542, 26.305553000000003, 26.315595000000002, 26.222953000000004, 26.235816999999997, 26.315595000000002, 26.305553000000003, 26.222953000000004, 26.126752, 26.126752, 26.086002, 26.315424, 26.078529999999997, 26.078529999999997, 26.088478, 26.088478, 26.088478, 26.088478, 26.090962, 26.086934, 26.078459, 26.162502, 26.162502, 25.98250962, 25.98250962, 25.98250962, 26.068776, 26.162472, 26.162472, 26.162472, 26.047738, 26.162472, 26.073754, 26.073754, 26.073754, 26.162472, 26.162472, 26.162472, 26.079027, 26.079027, 26.079027, 26.079027, 25.97763373, 26.03472658, 26.091127, 26.170897, 26.091127, 26.10449, 26.091127, 26.22209997, 25.97763373, 26.03472658, 26.315478999999996, 26.315478999999996, 26.315478999999996, 26.052771, 26.052771, 26.052539000000003, 26.085351, 25.976599, 26.085351, 25.976392, 26.315572999999997, 26.315572999999997, 26.315572999999997, 26.315572999999997, 26.073339999999998, 26.073339999999998, 26.073339999999998, 26.073339999999998, 26.073339999999998, 25.975071, 25.975071, 26.071996, 26.071996, 25.975071, 25.975071, 25.975071, 25.975071, 26.305894, 26.305894, 26.315416, 26.30586, 26.305859, 26.305836, 26.305865999999998, 26.305865999999998, 26.145306, 26.145306, 26.224790000000002, 26.315451, 26.038941, 26.116169, 26.162489, 26.162489, 26.164358, 26.162489, 26.305846999999996, 26.305846999999996, 26.162921, 26.162921, 26.305863000000002, 26.305836, 26.305876, 26.153729000000002, 26.225731, 26.305858, 26.30586, 26.305885999999997, 26.305861, 26.305862, 26.306009999999997, 26.305858, 26.305861, 26.305865], \"legendgroup\": \"Swimming\", \"lon\": [-80.13204768, -80.11224770000001, -80.26478319, -80.26478319, -80.14036800000001, -80.140277, -80.065088, -80.147116, -80.140761, -80.142771, -80.109911, -80.064977, -80.079764, -80.114437, -80.10901, -80.169508, -80.06509399999999, -80.164975, -80.07921800000001, -80.133581, -80.079062, -81.799867, -80.103685, -80.104558, -80.07924399999999, -80.140777, -80.0653, -80.127399, -80.109875, -80.171189, -80.17092099999999, -80.170778, -80.10791, -80.109535, -80.167986, -80.10938, -80.10328100000001, -80.17025100000001, -80.177431, -80.163224, -80.184908, -80.180718, -80.178394, -80.17389, -80.174091, -80.185905, -80.079608, -80.159499, -80.185272, -80.184616, -80.17771, -80.199647, -80.109214, -80.10323100000001, -80.109369, -80.10967099999999, -80.110057, -80.10328, -80.188838, -80.108254, -80.090544, -80.090422, -80.079165, -80.14369825, -80.10364799999999, -80.114583, -80.114583, -80.11447700000001, -80.118558, -80.119268, -80.114355, -80.139881, -80.13986700000001, -80.139842, -80.139845, -80.13992900000001, -80.139688, -80.109158, -80.142515, -80.079408, -80.079561, -80.128506, -80.146909, -80.078948, -80.118993, -80.11438100000001, -80.119625, -80.07955799999999, -80.079392, -80.079808, -80.114377, -80.09058900000001, -80.090975, -80.09058900000001, -80.079516, -80.107906, -80.118794, -80.139884, -80.140452, -80.14015699999999, -80.079633, -80.07972099999999, -80.08014200000001, -80.079766, -80.07908, -80.07964799999999, -80.079722, -80.139966, -80.07901, -80.07968199999999, -80.111867, -80.114734, -80.128603, -80.079756, -80.153141, -80.11912199999999, -80.172501, -80.1146, -80.139862, -80.079164, -80.109225, -80.109196, -80.109245, -80.150415, -80.13596, -80.079751, -80.080215, -80.079245, -80.22702113, -80.143608, -80.261715, -80.116428, -80.137348, -80.186378, -80.188348, -80.119516, -82.546807, -80.10993951, -80.11358100000001, -80.119415, -80.11269, -80.122989, -80.123372, -80.111823, -80.11170200000001, -80.127585, -80.120366, -80.07758000000001, -80.07755999999999, -80.120114, -80.108437, -80.10732800000001, -80.138675, -80.14401083, -80.11773000000001, -80.07907900000001, -80.09972900000001, -80.117623, -80.189578, -80.16158011, -80.16158011, -80.16158011, -80.16158011, -80.16158011, -80.16158011, -80.07893100000001, -80.189266, -80.16158011, -80.092735, -80.092722, -80.118538, -81.01525699999999, -80.108917, -80.09302, -80.092936, -80.16158011, -80.099053, -80.140077, -80.104107, -80.406112, -80.16158011, -80.126672, -80.108529, -80.107283, -80.107386, -80.119789, -80.100674, -80.109444, -80.16158011, -80.118914, -80.166443, -80.064413, -80.108896, -80.114807, -80.16155594, -80.16158011, -80.16158011, -80.163203, -80.16158011, -80.171295, -80.091254, -80.114729, -80.06517099999999, -80.107671, -80.079777, -80.079848, -80.146289, -80.16158011, -80.16158011, -80.092735, -80.103831, -80.103741, -80.079211, -80.16158011, -80.16155594, -80.16158011, -80.109536, -80.092708, -80.11940200000001, -80.163225, -80.11940108, -80.15925119, -80.064521, -80.163423, -80.16158011, -80.16158011, -80.16155594, -80.092739, -80.16158011, -80.16158011, -80.079575, -80.079237, -80.090788, -80.16158011, -80.07953, -80.16158011, -80.16158011, -80.118411, -80.06518299999999, -80.194229, -80.079705, -80.109004, -80.119721, -80.14385, -80.127507, -80.16158011, -80.10387414, -80.121876, -80.098887, -80.079387, -80.099159, -80.079215, -80.108007, -80.108485, -80.18249239, -80.107337, -80.104623, -80.2541, -80.09888507, -80.09888507, -80.092811, -80.10674399999999, -80.077577, -80.156337, -80.079486, -80.130884, -80.092811, -80.07937700000001, -80.115061, -80.118053, -80.16158011, -80.09888507, -80.092811, -80.079575, -80.105181, -80.079575, -80.07991, -80.10403000000001, -80.119434, -80.079543, -80.09342099999999, -80.092845, -80.16158011, -80.104389, -80.092683, -80.092924, -80.093458, -80.16158011, -80.109227, -80.079451, -80.079481, -80.09331999999999, -80.07933, -80.10876, -80.12040400000001, -80.103788, -80.134058, -80.079336, -80.139938, -80.139945, -80.16158011, -80.099797, -80.103809, -80.12044, -80.109142, -80.079142, -80.16396999999999, -80.181001, -80.185168, -80.200711, -80.139964, -80.10792099999999, -80.090616, -80.090737, -80.109257, -80.12011600000001, -80.137426, -80.119458, -80.103888, -80.1409, -80.105532, -80.079588, -80.139833, -80.139937, -80.079593, -80.10948499999999, -80.119123, -80.147072, -80.107996, -80.17981999999999, -80.10370999999999, -80.09072900000001, -80.080033, -80.09073199999999, -80.146307, -80.09071999999999, -80.079521, -80.119019, -80.107754, -80.142374, -80.113241, -80.09329699999999, -80.16158011, -80.16158011, -80.102417, -80.079668, -80.079157, -80.109273, -80.119462, -80.118567, -80.131812, -80.106076, -80.079717, -80.16158011, -80.10755999999999, -80.144869, -80.11940108, -80.07963199999999, -80.11940108, -80.179811, -80.140914, -80.140914, -80.11940600000001, -80.108715, -80.140914, -80.167419, -80.163042, -80.090296, -80.12079399999999, -80.137454, -80.108673, -80.137454, -80.079561, -80.07919, -80.107552, -80.139674, -80.09944200000001, -80.09298000000001, -80.107968, -80.082328, -80.14601800000001, -80.108981, -80.161781, -80.07975400000001, -80.104293, -80.07957900000001, -80.079419, -80.079373, -80.103188, -80.13959399999999, -80.07957900000001, -80.13959399999999, -80.10332199999999, -80.10342800000001, -80.103336, -80.10311748, -80.11704499999999, -80.11620500000001, -80.11620500000001, -80.102358, -80.07916800000001, -80.09271600000001, -80.11940108, -80.13973299999999, -80.11846800000001, -80.102184, -80.147616, -80.08185, -80.167023, -80.090395, -80.09067399999999, -80.16158011, -80.16158011, -80.16158011, -80.16158011, -80.16158011, -80.108675, -80.111695, -80.111695, -80.13685699999999, -80.16193505, -80.117164, -80.117164, -80.111827, -80.117164, -80.117164, -80.117164, -80.11194499999999, -80.11194499999999, -80.11194499999999, -80.11194499999999, -80.11194499999999, -80.111767, -80.111767, -80.117306, -80.111767, -80.16158011, -80.16158011, -80.16193119, -80.16193119, -80.16193119, -80.11741500000001, -80.11614499999999, -80.11614499999999, -80.11614499999999, -80.11614499999999, -80.11614499999999, -80.16158011, -80.11614499999999, -80.18666400000001, -80.11576099999999, -80.079288, -80.092619, -80.11576099999999, -80.119811, -80.16158011, -80.11614499999999, -80.118487, -80.16158011, -80.18666400000001, -80.092674, -80.092614, -80.09282900000001, -80.07916, -80.079295, -80.16158011, -80.09255300000001, -80.111028, -80.16158011, -80.099793, -80.120172, -80.120172, -80.079215, -80.16158011, -80.16158011, -80.125865, -80.16158011, -80.079835, -80.19236205, -80.19236205, -80.19236205, -80.079399, -80.143772, -80.147274, -80.147438, -80.161563, -80.16158011, -80.16158011, -80.14038599999999, -80.11376, -80.16158011, -80.185788, -80.080027, -80.079237, -80.09266099999999, -80.16158011, -80.079356, -80.07556899999999, -80.077159, -80.16158011, -80.16158011, -80.193692, -80.193692, -80.180747, -80.117644, -80.169899, -80.161446, -80.161651, -80.193692, -80.122873, -80.18429499999999, -80.1041, -80.193692, -80.09275699999999, -80.07967, -80.079595, -80.081799, -80.10388499999999, -80.107863, -80.107863, -80.137445, -80.16158011, -80.107863, -80.079358, -80.079268, -80.07938, -80.07938, -80.11068399999999, -80.161794, -80.150376, -80.082223, -80.079562, -80.16158011, -80.16158011, -80.16158011, -80.16158011, -80.16158011, -80.08242800000001, -80.08242800000001, -80.12238, -80.07935400000001, -80.079418, -80.16158011, -80.079639, -80.079502, -80.07950600000001, -80.122445, -80.180401, -80.13855500000001, -80.11166899999999, -80.11166899999999, -80.122659, -80.122217, -80.07955799999999, -80.12238, -80.079491, -80.092665, -80.100577, -80.113744, -80.122609, -80.202288, -80.120637, -80.079451, -80.09095500000001, -80.11604200000001, -80.122462, -80.092724, -80.161716, -80.07955, -80.079553, -80.163302, -80.122413, -80.122483, -80.117813, -80.111549, -80.079308, -80.079308, -80.092734, -80.081374, -80.079308, -80.09269499999999, -80.16158011, -80.120773, -80.120773, -80.12195, -80.16158011, -80.11162, -80.16158011, -80.122803, -80.123327, -80.12257, -80.161568, -80.120773, -80.11856800000001, -80.122274, -80.122587, -80.122943, -80.092493, -80.079601, -80.117643, -80.117643, -80.122861, -80.16158011, -80.16158011, -80.117643, -80.122713, -80.182293, -80.109004, -80.123064, -80.123196, -80.122968, -80.161568, -80.122619, -80.09146199999999, -80.115195, -80.12031, -80.079424, -80.07925, -80.11841873, -80.122068, -80.07970300000001, -80.16158011, -80.122264, -80.09262199999999, -80.079412, -80.09249, -80.122438, -80.123616, -80.122686, -80.09339, -80.122484, -80.079332, -80.163308, -80.12263399999999, -80.082944, -80.16158011, -80.15599399999999, -80.07954699999999, -80.130866, -80.092711, -80.09947700000001, -80.11572199999999, -80.092711, -80.07929399999999, -80.106635, -80.093645, -80.079561, -80.081439, -80.106635, -80.092683, -80.081439, -80.079561, -80.106635, -80.123267, -80.123267, -80.114736, -80.081851, -80.115585, -80.115585, -80.18239200000001, -80.18239200000001, -80.18239200000001, -80.18239200000001, -80.17785400000001, -80.124371, -80.119268, -80.119452, -80.119452, -80.128613, -80.128613, -80.128613, -80.217414, -80.119506, -80.119506, -80.119506, -80.115311, -80.119506, -80.19971600000001, -80.19971600000001, -80.19971600000001, -80.119506, -80.119506, -80.119506, -80.119843, -80.119843, -80.119843, -80.119843, -80.12385833, -80.16158011, -80.111584, -80.10335400000001, -80.111584, -80.15657900000001, -80.111584, -80.11025642, -80.12385833, -80.16158011, -80.08234499999999, -80.08234499999999, -80.08234499999999, -80.114246, -80.114246, -80.114132, -80.114073, -80.12347, -80.114073, -80.12355500000001, -80.081849, -80.081849, -80.081849, -80.081849, -80.115802, -80.115802, -80.115802, -80.115802, -80.115802, -80.232646, -80.232646, -80.11477, -80.11477, -80.232646, -80.232646, -80.232646, -80.232646, -80.079378, -80.079378, -80.08237, -80.079358, -80.079363, -80.079403, -80.079417, -80.079417, -80.102216, -80.102216, -80.108707, -80.08200699999999, -80.115402, -80.13970400000001, -80.119496, -80.119496, -80.104455, -80.119496, -80.07943399999999, -80.07943399999999, -80.119313, -80.119313, -80.079488, -80.079412, -80.07937199999999, -80.13215600000001, -80.094636, -80.079441, -80.07943900000001, -80.079346, -80.079398, -80.07940500000001, -80.079398, -80.079453, -80.079422, -80.079424], \"marker\": {\"color\": \"#00cc96\", \"size\": [1, 1, 6, 6, 4, 4, 3, 2, 1, 1, 1, 7, 5, 1, 1, 1, 2, 4, 2, 3, 2, 1, 2, 1, 1, 1, 1, 1, 2, 1, 1, 2, 2, 2, 1, 6, 3, 2, 1, 2, 2, 6, 3, 1, 2, 2, 3, 2, 1, 2, 1, 2, 1, 1, 1, 1, 4, 3, 3, 5, 2, 1, 1, 2, 4, 1, 2, 1, 2, 3, 3, 1, 1, 3, 4, 1, 4, 1, 4, 2, 3, 1, 2, 1, 1, 1, 1, 1, 1, 5, 1, 2, 2, 9, 6, 6, 1, 1, 1, 1, 1, 1, 1, 2, 1, 3, 5, 1, 1, 4, 1, 1, 1, 1, 1, 2, 2, 2, 1, 1, 2, 2, 2, 1, 1, 1, 2, 2, 2, 2, 2, 1, 2, 1, 1, 1, 3, 1, 1, 1, 1, 1, 1, 2, 2, 3, 1, 1, 1, 2, 3, 3, 1, 3, 1, 1, 1, 2, 4, 2, 2, 1, 1, 3, 2, 2, 1, 1, 1, 2, 1, 2, 3, 1, 1, 1, 3, 2, 2, 1, 1, 1, 2, 2, 5, 1, 2, 1, 3, 2, 1, 4, 1, 1, 6, 1, 2, 1, 2, 1, 2, 2, 5, 3, 5, 1, 2, 2, 1, 1, 1, 1, 5, 2, 1, 1, 2, 1, 1, 1, 1, 1, 3, 1, 1, 1, 1, 1, 2, 1, 9, 6, 1, 1, 2, 1, 2, 1, 3, 1, 4, 1, 1, 1, 3, 6, 1, 3, 1, 1, 1, 6, 1, 4, 4, 1, 1, 2, 7, 7, 1, 1, 1, 3, 1, 1, 1, 4, 1, 2, 1, 7, 1, 3, 1, 3, 8, 1, 1, 4, 1, 2, 7, 5, 1, 2, 2, 6, 1, 4, 2, 1, 6, 4, 1, 1, 3, 4, 3, 2, 7, 1, 1, 2, 6, 2, 1, 2, 1, 1, 1, 1, 1, 2, 1, 2, 2, 1, 1, 2, 1, 2, 1, 1, 1, 1, 1, 1, 5, 1, 1, 1, 1, 1, 2, 1, 2, 1, 1, 1, 2, 1, 5, 5, 2, 2, 1, 1, 2, 1, 1, 1, 3, 3, 1, 1, 1, 1, 1, 1, 2, 2, 1, 6, 2, 3, 1, 2, 2, 1, 1, 1, 2, 2, 2, 1, 1, 2, 3, 2, 1, 1, 1, 4, 2, 1, 2, 2, 3, 1, 1, 1, 4, 2, 2, 3, 2, 2, 2, 3, 2, 1, 1, 1, 1, 3, 1, 1, 1, 2, 1, 7, 7, 2, 2, 1, 1, 1, 1, 1, 1, 3, 3, 1, 3, 3, 3, 1, 1, 1, 1, 1, 1, 1, 1, 1, 1, 1, 2, 2, 2, 2, 2, 2, 2, 2, 2, 1, 2, 1, 1, 1, 2, 1, 1, 1, 2, 1, 1, 1, 1, 1, 1, 2, 2, 2, 1, 1, 2, 2, 2, 2, 1, 3, 3, 2, 3, 3, 6, 6, 6, 2, 1, 1, 1, 1, 3, 2, 4, 1, 1, 1, 2, 1, 1, 2, 5, 1, 1, 1, 2, 2, 2, 1, 1, 1, 2, 1, 2, 2, 2, 1, 2, 2, 2, 1, 2, 1, 1, 1, 1, 4, 1, 1, 2, 3, 3, 1, 1, 2, 1, 2, 5, 6, 7, 9, 4, 2, 2, 1, 2, 2, 5, 4, 3, 6, 1, 1, 1, 1, 1, 1, 1, 3, 1, 2, 1, 1, 3, 2, 1, 1, 2, 2, 1, 2, 1, 1, 2, 3, 2, 2, 2, 1, 1, 4, 4, 2, 2, 4, 1, 2, 1, 1, 1, 1, 1, 4, 1, 1, 1, 5, 1, 2, 1, 2, 1, 1, 1, 1, 1, 1, 5, 2, 1, 2, 1, 2, 1, 1, 1, 5, 1, 2, 2, 1, 3, 2, 1, 2, 2, 5, 1, 2, 2, 1, 2, 2, 1, 3, 1, 3, 2, 1, 2, 4, 1, 2, 1, 1, 2, 1, 1, 3, 2, 1, 2, 2, 2, 2, 2, 2, 2, 1, 1, 1, 1, 2, 2, 1, 1, 1, 1, 2, 1, 1, 1, 1, 2, 2, 2, 2, 1, 1, 1, 1, 1, 1, 1, 1, 1, 1, 1, 1, 1, 1, 1, 2, 1, 1, 1, 1, 1, 1, 2, 2, 1, 1, 1, 1, 1, 1, 1, 2, 1, 2, 1, 1, 1, 1, 1, 2, 2, 2, 2, 2, 1, 1, 2, 2, 1, 1, 1, 1, 2, 2, 2, 2, 3, 2, 1, 1, 1, 1, 2, 1, 1, 2, 1, 1, 1, 1, 2, 2, 1, 1, 3, 3, 3, 2, 2, 2, 2, 3, 3, 2, 9, 2, 3, 7], \"sizemode\": \"area\", \"sizeref\": 0.0325}, \"mode\": \"markers\", \"name\": \"Swimming\", \"showlegend\": true, \"subplot\": \"mapbox\", \"type\": \"scattermapbox\"}, {\"customdata\": [[\"Feeding\", 1, -80.110825, 26.222410999999997], [\"Feeding\", 1, -80.112218, 26.221397999999997], [\"Feeding\", 5, -80.079718, 26.30609], [\"Feeding\", 1, -80.157375, 26.110564], [\"Feeding\", 1, -80.1212, 25.986645000000003], [\"Feeding\", 1, -80.16389000000001, 26.098213], [\"Feeding\", 2, -80.14783, 26.119312], [\"Feeding\", 1, -80.189614, 26.067364], [\"Feeding\", 5, -80.102976, 26.170622], [\"Feeding\", 1, -80.128848, 26.05951], [\"Feeding\", 2, -80.103245, 26.171182], [\"Feeding\", 2, -80.16081006, 26.04041537], [\"Feeding\", 3, -80.128979, 26.15371], [\"Feeding\", 1, -80.079404, 26.305765], [\"Feeding\", 1, -80.145013, 26.118091], [\"Feeding\", 1, -80.147952, 26.119888], [\"Feeding\", 1, -80.147747, 26.119242], [\"Feeding\", 1, -80.253986, 26.121268], [\"Feeding\", 1, -80.079151, 26.305815000000003], [\"Feeding\", 2, -80.189387, 26.067238], [\"Feeding\", 2, -80.189391, 26.067270999999998], [\"Feeding\", 1, -80.100055, 26.209722], [\"Feeding\", 2, -80.140078, 26.163760999999997], [\"Feeding\", 1, -80.16158011, 26.03472658], [\"Feeding\", 1, -80.170527, 26.015916], [\"Feeding\", 1, -80.16158011, 26.03472658], [\"Feeding\", 1, -80.18223848, 26.11929603], [\"Feeding\", 4, -80.195779, 26.063382], [\"Feeding\", 4, -80.196322, 26.063109], [\"Feeding\", 1, -80.16158011, 26.03472658], [\"Feeding\", 2, -80.16158011, 26.03472658], [\"Feeding\", 1, -80.16158011, 26.03472658], [\"Feeding\", 2, -81.110428, 24.708479], [\"Feeding\", 2, -81.110264, 24.708448], [\"Feeding\", 4, -80.142822, 26.15109], [\"Feeding\", 4, -80.153191, 26.165344], [\"Feeding\", 1, -80.16158011, 26.03472658], [\"Feeding\", 6, -80.170594, 26.016166000000002], [\"Feeding\", 8, -80.16158011, 26.03472658], [\"Feeding\", 2, -80.14048199999999, 26.16348], [\"Feeding\", 2, -80.09952, 26.210682000000002], [\"Feeding\", 1, -80.132063, 26.01069], [\"Feeding\", 4, -80.168909, 26.010904999999998], [\"Feeding\", 6, -80.173626, 26.011021], [\"Feeding\", 1, -80.142393, 26.150841], [\"Feeding\", 3, -80.161731, 26.119816], [\"Feeding\", 5, -80.07952900000001, 26.305956], [\"Feeding\", 3, -80.09279862, 26.23305794], [\"Feeding\", 2, -80.16158011, 26.03472658], [\"Feeding\", 5, -80.07952900000001, 26.305956], [\"Feeding\", 8, -80.088049, 26.253120000000003], [\"Feeding\", 1, -80.090747, 26.243746999999995], [\"Feeding\", 2, -80.079679, 26.306479], [\"Feeding\", 10, -80.089108, 26.254268], [\"Feeding\", 1, -80.13659399999999, 26.163552], [\"Feeding\", 1, -80.092963, 26.236126000000002], [\"Feeding\", 7, -80.079852, 26.306182], [\"Feeding\", 3, -80.139992, 26.163695999999998], [\"Feeding\", 2, -80.09191752, 26.24415808], [\"Feeding\", 1, -80.09073199999999, 26.243768], [\"Feeding\", 1, -80.11856861, 26.00189864], [\"Feeding\", 2, -80.155641, 26.051406], [\"Feeding\", 4, -80.14667800000001, 26.118442], [\"Feeding\", 2, -80.116675, 26.037788], [\"Feeding\", 3, -80.16155594, 26.03452909], [\"Feeding\", 1, -80.092613, 26.236629999999998], [\"Feeding\", 3, -80.07909599999999, 26.305797], [\"Feeding\", 3, -80.07909599999999, 26.305797], [\"Feeding\", 5, -80.079375, 26.305877000000002], [\"Feeding\", 6, -80.134045, 26.117593], [\"Feeding\", 2, -80.081689, 26.315507], [\"Feeding\", 2, -80.092601, 26.232805], [\"Feeding\", 1, -80.190366, 26.136871], [\"Feeding\", 7, -80.10720843, 26.19855774], [\"Feeding\", 2, -80.11171, 26.090670000000003], [\"Feeding\", 1, -80.082351, 26.315656], [\"Feeding\", 1, -80.16158011, 26.03472658], [\"Feeding\", 1, -80.079415, 26.305719], [\"Feeding\", 1, -80.161648, 26.119497], [\"Feeding\", 2, -80.082245, 26.315544], [\"Feeding\", 2, -80.082245, 26.315544], [\"Feeding\", 1, -80.082425, 26.315371999999996], [\"Feeding\", 2, -80.14856, 26.118945999999998], [\"Feeding\", 2, -80.082245, 26.315544], [\"Feeding\", 2, -80.082245, 26.315544], [\"Feeding\", 1, -80.079264, 26.305711], [\"Feeding\", 1, -80.08292900000001, 26.315631], [\"Feeding\", 1, -80.116815, 26.072663000000002], [\"Feeding\", 2, -80.225553, 26.095514], [\"Feeding\", 2, -80.140174, 26.163698999999998], [\"Feeding\", 1, -80.123666, 26.093551], [\"Feeding\", 1, -80.18084538, 26.09839853], [\"Feeding\", 1, -80.16158011, 26.03472658], [\"Feeding\", 1, -80.110605, 26.229011], [\"Feeding\", 2, -80.111887, 26.090375], [\"Feeding\", 1, -80.105935, 26.122471], [\"Feeding\", 1, -80.147751, 26.119654], [\"Feeding\", 1, -80.081487, 26.315501], [\"Feeding\", 1, -80.163257, 26.026393], [\"Feeding\", 3, -80.128186, 26.32794], [\"Feeding\", 2, -80.08979000000001, 26.275243], [\"Feeding\", 2, -80.08979000000001, 26.275243], [\"Feeding\", 2, -80.081546, 26.315540000000002], [\"Feeding\", 1, -80.081568, 26.315361], [\"Feeding\", 1, -80.227379, 26.095914999999998], [\"Feeding\", 2, -80.08979000000001, 26.275243], [\"Feeding\", 1, -80.093618, 26.211557], [\"Feeding\", 1, -80.118735, 26.16039], [\"Feeding\", 1, -80.082886, 26.315841], [\"Feeding\", 2, -80.118352, 26.0137], [\"Feeding\", 2, -80.118499, 26.013996], [\"Feeding\", 2, -80.118499, 26.013996], [\"Feeding\", 1, -80.143101, 26.151213000000002], [\"Feeding\", 2, -80.099414, 26.338234999999997], [\"Feeding\", 1, -80.19290500000001, 26.088722], [\"Feeding\", 1, -80.193055, 26.088707], [\"Feeding\", 1, -80.12384300000001, 26.164460000000002], [\"Feeding\", 1, -80.12384300000001, 26.164460000000002], [\"Feeding\", 1, -80.11993902, 26.1626954], [\"Feeding\", 1, -80.111448, 26.091345], [\"Feeding\", 1, -80.111448, 26.091345], [\"Feeding\", 1, -80.111448, 26.091345], [\"Feeding\", 1, -80.111448, 26.091345], [\"Feeding\", 2, -80.165642, 26.098922], [\"Feeding\", 2, -80.165642, 26.098922], [\"Feeding\", 6, -80.186364, 26.038964], [\"Feeding\", 1, -80.082014, 26.315459999999998], [\"Feeding\", 1, -80.14605999999999, 26.118409], [\"Feeding\", 1, -80.14291700000001, 26.151025], [\"Feeding\", 1, -80.14291700000001, 26.151025], [\"Feeding\", 1, -80.14205600000001, 26.032917], [\"Feeding\", 1, -80.08201, 26.315493], [\"Feeding\", 1, -80.08201, 26.315493], [\"Feeding\", 1, -80.082536, 26.315588], [\"Feeding\", 1, -80.08211800000001, 26.315364000000002], [\"Feeding\", 8, -80.079404, 26.305895], [\"Feeding\", 1, -80.08201, 26.315493], [\"Feeding\", 1, -80.079373, 26.305840999999997], [\"Feeding\", 1, -80.079373, 26.305840999999997], [\"Feeding\", 1, -80.081978, 26.315478999999996]], \"hovertemplate\": \"Activity=%{customdata[0]}<br>Total Number of Manatees=%{customdata[1]}<extra></extra>\", \"lat\": [26.222410999999997, 26.221397999999997, 26.30609, 26.110564, 25.986645000000003, 26.098213, 26.119312, 26.067364, 26.170622, 26.05951, 26.171182, 26.04041537, 26.15371, 26.305765, 26.118091, 26.119888, 26.119242, 26.121268, 26.305815000000003, 26.067238, 26.067270999999998, 26.209722, 26.163760999999997, 26.03472658, 26.015916, 26.03472658, 26.11929603, 26.063382, 26.063109, 26.03472658, 26.03472658, 26.03472658, 24.708479, 24.708448, 26.15109, 26.165344, 26.03472658, 26.016166000000002, 26.03472658, 26.16348, 26.210682000000002, 26.01069, 26.010904999999998, 26.011021, 26.150841, 26.119816, 26.305956, 26.23305794, 26.03472658, 26.305956, 26.253120000000003, 26.243746999999995, 26.306479, 26.254268, 26.163552, 26.236126000000002, 26.306182, 26.163695999999998, 26.24415808, 26.243768, 26.00189864, 26.051406, 26.118442, 26.037788, 26.03452909, 26.236629999999998, 26.305797, 26.305797, 26.305877000000002, 26.117593, 26.315507, 26.232805, 26.136871, 26.19855774, 26.090670000000003, 26.315656, 26.03472658, 26.305719, 26.119497, 26.315544, 26.315544, 26.315371999999996, 26.118945999999998, 26.315544, 26.315544, 26.305711, 26.315631, 26.072663000000002, 26.095514, 26.163698999999998, 26.093551, 26.09839853, 26.03472658, 26.229011, 26.090375, 26.122471, 26.119654, 26.315501, 26.026393, 26.32794, 26.275243, 26.275243, 26.315540000000002, 26.315361, 26.095914999999998, 26.275243, 26.211557, 26.16039, 26.315841, 26.0137, 26.013996, 26.013996, 26.151213000000002, 26.338234999999997, 26.088722, 26.088707, 26.164460000000002, 26.164460000000002, 26.1626954, 26.091345, 26.091345, 26.091345, 26.091345, 26.098922, 26.098922, 26.038964, 26.315459999999998, 26.118409, 26.151025, 26.151025, 26.032917, 26.315493, 26.315493, 26.315588, 26.315364000000002, 26.305895, 26.315493, 26.305840999999997, 26.305840999999997, 26.315478999999996], \"legendgroup\": \"Feeding\", \"lon\": [-80.110825, -80.112218, -80.079718, -80.157375, -80.1212, -80.16389000000001, -80.14783, -80.189614, -80.102976, -80.128848, -80.103245, -80.16081006, -80.128979, -80.079404, -80.145013, -80.147952, -80.147747, -80.253986, -80.079151, -80.189387, -80.189391, -80.100055, -80.140078, -80.16158011, -80.170527, -80.16158011, -80.18223848, -80.195779, -80.196322, -80.16158011, -80.16158011, -80.16158011, -81.110428, -81.110264, -80.142822, -80.153191, -80.16158011, -80.170594, -80.16158011, -80.14048199999999, -80.09952, -80.132063, -80.168909, -80.173626, -80.142393, -80.161731, -80.07952900000001, -80.09279862, -80.16158011, -80.07952900000001, -80.088049, -80.090747, -80.079679, -80.089108, -80.13659399999999, -80.092963, -80.079852, -80.139992, -80.09191752, -80.09073199999999, -80.11856861, -80.155641, -80.14667800000001, -80.116675, -80.16155594, -80.092613, -80.07909599999999, -80.07909599999999, -80.079375, -80.134045, -80.081689, -80.092601, -80.190366, -80.10720843, -80.11171, -80.082351, -80.16158011, -80.079415, -80.161648, -80.082245, -80.082245, -80.082425, -80.14856, -80.082245, -80.082245, -80.079264, -80.08292900000001, -80.116815, -80.225553, -80.140174, -80.123666, -80.18084538, -80.16158011, -80.110605, -80.111887, -80.105935, -80.147751, -80.081487, -80.163257, -80.128186, -80.08979000000001, -80.08979000000001, -80.081546, -80.081568, -80.227379, -80.08979000000001, -80.093618, -80.118735, -80.082886, -80.118352, -80.118499, -80.118499, -80.143101, -80.099414, -80.19290500000001, -80.193055, -80.12384300000001, -80.12384300000001, -80.11993902, -80.111448, -80.111448, -80.111448, -80.111448, -80.165642, -80.165642, -80.186364, -80.082014, -80.14605999999999, -80.14291700000001, -80.14291700000001, -80.14205600000001, -80.08201, -80.08201, -80.082536, -80.08211800000001, -80.079404, -80.08201, -80.079373, -80.079373, -80.081978], \"marker\": {\"color\": \"#ab63fa\", \"size\": [1, 1, 5, 1, 1, 1, 2, 1, 5, 1, 2, 2, 3, 1, 1, 1, 1, 1, 1, 2, 2, 1, 2, 1, 1, 1, 1, 4, 4, 1, 2, 1, 2, 2, 4, 4, 1, 6, 8, 2, 2, 1, 4, 6, 1, 3, 5, 3, 2, 5, 8, 1, 2, 10, 1, 1, 7, 3, 2, 1, 1, 2, 4, 2, 3, 1, 3, 3, 5, 6, 2, 2, 1, 7, 2, 1, 1, 1, 1, 2, 2, 1, 2, 2, 2, 1, 1, 1, 2, 2, 1, 1, 1, 1, 2, 1, 1, 1, 1, 3, 2, 2, 2, 1, 1, 2, 1, 1, 1, 2, 2, 2, 1, 2, 1, 1, 1, 1, 1, 1, 1, 1, 1, 2, 2, 6, 1, 1, 1, 1, 1, 1, 1, 1, 1, 8, 1, 1, 1, 1], \"sizemode\": \"area\", \"sizeref\": 0.0325}, \"mode\": \"markers\", \"name\": \"Feeding\", \"showlegend\": true, \"subplot\": \"mapbox\", \"type\": \"scattermapbox\"}, {\"customdata\": [[\"Resting\", 1, -80.147215, 26.059522], [\"Resting\", 1, -80.170694, 26.092854], [\"Resting\", 1, -80.12043299999999, 26.081597], [\"Resting\", 10, -80.26576700000001, 25.729968], [\"Resting\", 1, -80.19546899999999, 26.067149], [\"Resting\", 4, -82.189301, 26.510334999999998], [\"Resting\", 1, -80.14349, 26.121539000000002], [\"Resting\", 1, -82.536989, 27.25406], [\"Resting\", 1, -80.111653, 26.091110999999998], [\"Resting\", 2, -80.111469, 26.090954999999997], [\"Resting\", 2, -80.120638, 26.081402], [\"Resting\", 1, -80.114648, 26.138552999999998], [\"Resting\", 2, -80.120487, 26.082007], [\"Resting\", 1, -81.045693, 24.730041], [\"Resting\", 1, -80.170473, 26.016045000000002], [\"Resting\", 2, -80.16158011, 26.03472658], [\"Resting\", 1, -80.166191, 26.605499], [\"Resting\", 2, -80.195378, 26.067785], [\"Resting\", 1, -80.196238, 26.063144], [\"Resting\", 1, -80.162972, 26.12162], [\"Resting\", 1, -80.191192, 26.072217000000002], [\"Resting\", 3, -80.25410600000001, 26.121515], [\"Resting\", 1, -80.14054200000001, 26.163553], [\"Resting\", 1, -80.182156, 26.086420999999998], [\"Resting\", 7, -80.0885565, 26.25292252], [\"Resting\", 2, -80.161762, 26.119912], [\"Resting\", 2, -80.11160799999999, 26.090329999999998], [\"Resting\", 2, -80.111583, 26.090318], [\"Resting\", 3, -80.111517, 26.090958999999998], [\"Resting\", 1, -80.14074699999999, 26.115725], [\"Resting\", 1, -80.160176, 26.029024], [\"Resting\", 1, -80.160176, 26.029024], [\"Resting\", 1, -80.111517, 26.091154], [\"Resting\", 2, -80.10695683, 26.11822009], [\"Resting\", 2, -80.12368599999999, 26.09516], [\"Resting\", 2, -80.12368599999999, 26.09516], [\"Resting\", 2, -80.12368599999999, 26.09516], [\"Resting\", 1, -80.140366, 26.163522], [\"Resting\", 1, -80.140366, 26.163522], [\"Resting\", 1, -80.140366, 26.163522], [\"Resting\", 1, -80.16158011, 26.03472658], [\"Resting\", 1, -80.119886, 26.080585], [\"Resting\", 1, -80.123292, 26.062112], [\"Resting\", 1, -80.16158011, 26.03472658], [\"Resting\", 4, -80.120067, 26.078978], [\"Resting\", 1, -80.167234, 26.168837], [\"Resting\", 1, -80.162385, 26.031681], [\"Resting\", 3, -80.116399, 26.07854], [\"Resting\", 1, -80.11975799999999, 26.080674], [\"Resting\", 1, -80.16158011, 26.03472658], [\"Resting\", 3, -80.16158011, 26.03472658], [\"Resting\", 2, -80.079708, 26.308889], [\"Resting\", 2, -80.079708, 26.308889], [\"Resting\", 2, -80.182648, 26.088565], [\"Resting\", 2, -80.079708, 26.308889], [\"Resting\", 1, -80.16158011, 26.03472658], [\"Resting\", 1, -80.18289200000001, 26.087226], [\"Resting\", 3, -80.19069499999999, 26.067867], [\"Resting\", 1, -80.163289, 26.02606], [\"Resting\", 3, -80.11720799999999, 26.078544], [\"Resting\", 1, -80.173796, 26.368575], [\"Resting\", 4, -80.107222, 26.19884], [\"Resting\", 2, -80.111499, 26.091110999999998], [\"Resting\", 3, -80.123848, 26.164476999999998], [\"Resting\", 1, -80.12695, 26.202407], [\"Resting\", 1, -80.12695, 26.202407], [\"Resting\", 2, -80.11980799999999, 26.080719000000002], [\"Resting\", 2, -80.11980799999999, 26.080719000000002]], \"hovertemplate\": \"Activity=%{customdata[0]}<br>Total Number of Manatees=%{customdata[1]}<extra></extra>\", \"lat\": [26.059522, 26.092854, 26.081597, 25.729968, 26.067149, 26.510334999999998, 26.121539000000002, 27.25406, 26.091110999999998, 26.090954999999997, 26.081402, 26.138552999999998, 26.082007, 24.730041, 26.016045000000002, 26.03472658, 26.605499, 26.067785, 26.063144, 26.12162, 26.072217000000002, 26.121515, 26.163553, 26.086420999999998, 26.25292252, 26.119912, 26.090329999999998, 26.090318, 26.090958999999998, 26.115725, 26.029024, 26.029024, 26.091154, 26.11822009, 26.09516, 26.09516, 26.09516, 26.163522, 26.163522, 26.163522, 26.03472658, 26.080585, 26.062112, 26.03472658, 26.078978, 26.168837, 26.031681, 26.07854, 26.080674, 26.03472658, 26.03472658, 26.308889, 26.308889, 26.088565, 26.308889, 26.03472658, 26.087226, 26.067867, 26.02606, 26.078544, 26.368575, 26.19884, 26.091110999999998, 26.164476999999998, 26.202407, 26.202407, 26.080719000000002, 26.080719000000002], \"legendgroup\": \"Resting\", \"lon\": [-80.147215, -80.170694, -80.12043299999999, -80.26576700000001, -80.19546899999999, -82.189301, -80.14349, -82.536989, -80.111653, -80.111469, -80.120638, -80.114648, -80.120487, -81.045693, -80.170473, -80.16158011, -80.166191, -80.195378, -80.196238, -80.162972, -80.191192, -80.25410600000001, -80.14054200000001, -80.182156, -80.0885565, -80.161762, -80.11160799999999, -80.111583, -80.111517, -80.14074699999999, -80.160176, -80.160176, -80.111517, -80.10695683, -80.12368599999999, -80.12368599999999, -80.12368599999999, -80.140366, -80.140366, -80.140366, -80.16158011, -80.119886, -80.123292, -80.16158011, -80.120067, -80.167234, -80.162385, -80.116399, -80.11975799999999, -80.16158011, -80.16158011, -80.079708, -80.079708, -80.182648, -80.079708, -80.16158011, -80.18289200000001, -80.19069499999999, -80.163289, -80.11720799999999, -80.173796, -80.107222, -80.111499, -80.123848, -80.12695, -80.12695, -80.11980799999999, -80.11980799999999], \"marker\": {\"color\": \"#FFA15A\", \"size\": [1, 1, 1, 10, 1, 4, 1, 1, 1, 2, 2, 1, 2, 1, 1, 2, 1, 2, 1, 1, 1, 3, 1, 1, 7, 2, 2, 2, 3, 1, 1, 1, 1, 2, 2, 2, 2, 1, 1, 1, 1, 1, 1, 1, 4, 1, 1, 3, 1, 1, 3, 2, 2, 2, 2, 1, 1, 3, 1, 3, 1, 4, 2, 3, 1, 1, 2, 2], \"sizemode\": \"area\", \"sizeref\": 0.0325}, \"mode\": \"markers\", \"name\": \"Resting\", \"showlegend\": true, \"subplot\": \"mapbox\", \"type\": \"scattermapbox\"}, {\"customdata\": [[\"Other\", 3, -73.90881800000001, 40.710252000000004], [\"Other\", 1, -80.16158011, 26.03472658], [\"Other\", 3, -80.10531265, 26.18880985], [\"Other\", 1, -80.108122, 26.148083], [\"Other\", 4, -80.119805, 26.038525], [\"Other\", 1, -80.25423482, 26.12151817]], \"hovertemplate\": \"Activity=%{customdata[0]}<br>Total Number of Manatees=%{customdata[1]}<extra></extra>\", \"lat\": [40.710252000000004, 26.03472658, 26.18880985, 26.148083, 26.038525, 26.12151817], \"legendgroup\": \"Other\", \"lon\": [-73.90881800000001, -80.16158011, -80.10531265, -80.108122, -80.119805, -80.25423482], \"marker\": {\"color\": \"#19d3f3\", \"size\": [3, 1, 3, 1, 4, 1], \"sizemode\": \"area\", \"sizeref\": 0.0325}, \"mode\": \"markers\", \"name\": \"Other\", \"showlegend\": true, \"subplot\": \"mapbox\", \"type\": \"scattermapbox\"}, {\"customdata\": [[\"Injured/Dead\", 1, -80.108065, 26.137167], [\"Injured/Dead\", 1, -80.19117, 26.072123], [\"Injured/Dead\", 1, -80.19959300000001, 26.087339], [\"Injured/Dead\", 2, -80.18539399999999, 25.770617]], \"hovertemplate\": \"Activity=%{customdata[0]}<br>Total Number of Manatees=%{customdata[1]}<extra></extra>\", \"lat\": [26.137167, 26.072123, 26.087339, 25.770617], \"legendgroup\": \"Injured/Dead\", \"lon\": [-80.108065, -80.19117, -80.19959300000001, -80.18539399999999], \"marker\": {\"color\": \"#FF6692\", \"size\": [1, 1, 1, 2], \"sizemode\": \"area\", \"sizeref\": 0.0325}, \"mode\": \"markers\", \"name\": \"Injured/Dead\", \"showlegend\": true, \"subplot\": \"mapbox\", \"type\": \"scattermapbox\"}],                        {\"legend\": {\"itemsizing\": \"constant\", \"title\": {\"text\": \"Activity\"}, \"tracegroupgap\": 0}, \"mapbox\": {\"center\": {\"lat\": 26.17683742045549, \"lon\": -80.13538630347165}, \"domain\": {\"x\": [0.0, 1.0], \"y\": [0.0, 1.0]}, \"style\": \"open-street-map\", \"zoom\": 8}, \"margin\": {\"b\": 0, \"l\": 0, \"r\": 0, \"t\": 0}, \"paper_bgcolor\": \"#f1faee\", \"template\": {\"data\": {\"bar\": [{\"error_x\": {\"color\": \"#2a3f5f\"}, \"error_y\": {\"color\": \"#2a3f5f\"}, \"marker\": {\"line\": {\"color\": \"#E5ECF6\", \"width\": 0.5}}, \"type\": \"bar\"}], \"barpolar\": [{\"marker\": {\"line\": {\"color\": \"#E5ECF6\", \"width\": 0.5}}, \"type\": \"barpolar\"}], \"carpet\": [{\"aaxis\": {\"endlinecolor\": \"#2a3f5f\", \"gridcolor\": \"white\", \"linecolor\": \"white\", \"minorgridcolor\": \"white\", \"startlinecolor\": \"#2a3f5f\"}, \"baxis\": {\"endlinecolor\": \"#2a3f5f\", \"gridcolor\": \"white\", \"linecolor\": \"white\", \"minorgridcolor\": \"white\", \"startlinecolor\": \"#2a3f5f\"}, \"type\": \"carpet\"}], \"choropleth\": [{\"colorbar\": {\"outlinewidth\": 0, \"ticks\": \"\"}, \"type\": \"choropleth\"}], \"contour\": [{\"colorbar\": {\"outlinewidth\": 0, \"ticks\": \"\"}, \"colorscale\": [[0.0, \"#0d0887\"], [0.1111111111111111, \"#46039f\"], [0.2222222222222222, \"#7201a8\"], [0.3333333333333333, \"#9c179e\"], [0.4444444444444444, \"#bd3786\"], [0.5555555555555556, \"#d8576b\"], [0.6666666666666666, \"#ed7953\"], [0.7777777777777778, \"#fb9f3a\"], [0.8888888888888888, \"#fdca26\"], [1.0, \"#f0f921\"]], \"type\": \"contour\"}], \"contourcarpet\": [{\"colorbar\": {\"outlinewidth\": 0, \"ticks\": \"\"}, \"type\": \"contourcarpet\"}], \"heatmap\": [{\"colorbar\": {\"outlinewidth\": 0, \"ticks\": \"\"}, \"colorscale\": [[0.0, \"#0d0887\"], [0.1111111111111111, \"#46039f\"], [0.2222222222222222, \"#7201a8\"], [0.3333333333333333, \"#9c179e\"], [0.4444444444444444, \"#bd3786\"], [0.5555555555555556, \"#d8576b\"], [0.6666666666666666, \"#ed7953\"], [0.7777777777777778, \"#fb9f3a\"], [0.8888888888888888, \"#fdca26\"], [1.0, \"#f0f921\"]], \"type\": \"heatmap\"}], \"heatmapgl\": [{\"colorbar\": {\"outlinewidth\": 0, \"ticks\": \"\"}, \"colorscale\": [[0.0, \"#0d0887\"], [0.1111111111111111, \"#46039f\"], [0.2222222222222222, \"#7201a8\"], [0.3333333333333333, \"#9c179e\"], [0.4444444444444444, \"#bd3786\"], [0.5555555555555556, \"#d8576b\"], [0.6666666666666666, \"#ed7953\"], [0.7777777777777778, \"#fb9f3a\"], [0.8888888888888888, \"#fdca26\"], [1.0, \"#f0f921\"]], \"type\": \"heatmapgl\"}], \"histogram\": [{\"marker\": {\"colorbar\": {\"outlinewidth\": 0, \"ticks\": \"\"}}, \"type\": \"histogram\"}], \"histogram2d\": [{\"colorbar\": {\"outlinewidth\": 0, \"ticks\": \"\"}, \"colorscale\": [[0.0, \"#0d0887\"], [0.1111111111111111, \"#46039f\"], [0.2222222222222222, \"#7201a8\"], [0.3333333333333333, \"#9c179e\"], [0.4444444444444444, \"#bd3786\"], [0.5555555555555556, \"#d8576b\"], [0.6666666666666666, \"#ed7953\"], [0.7777777777777778, \"#fb9f3a\"], [0.8888888888888888, \"#fdca26\"], [1.0, \"#f0f921\"]], \"type\": \"histogram2d\"}], \"histogram2dcontour\": [{\"colorbar\": {\"outlinewidth\": 0, \"ticks\": \"\"}, \"colorscale\": [[0.0, \"#0d0887\"], [0.1111111111111111, \"#46039f\"], [0.2222222222222222, \"#7201a8\"], [0.3333333333333333, \"#9c179e\"], [0.4444444444444444, \"#bd3786\"], [0.5555555555555556, \"#d8576b\"], [0.6666666666666666, \"#ed7953\"], [0.7777777777777778, \"#fb9f3a\"], [0.8888888888888888, \"#fdca26\"], [1.0, \"#f0f921\"]], \"type\": \"histogram2dcontour\"}], \"mesh3d\": [{\"colorbar\": {\"outlinewidth\": 0, \"ticks\": \"\"}, \"type\": \"mesh3d\"}], \"parcoords\": [{\"line\": {\"colorbar\": {\"outlinewidth\": 0, \"ticks\": \"\"}}, \"type\": \"parcoords\"}], \"pie\": [{\"automargin\": true, \"type\": \"pie\"}], \"scatter\": [{\"marker\": {\"colorbar\": {\"outlinewidth\": 0, \"ticks\": \"\"}}, \"type\": \"scatter\"}], \"scatter3d\": [{\"line\": {\"colorbar\": {\"outlinewidth\": 0, \"ticks\": \"\"}}, \"marker\": {\"colorbar\": {\"outlinewidth\": 0, \"ticks\": \"\"}}, \"type\": \"scatter3d\"}], \"scattercarpet\": [{\"marker\": {\"colorbar\": {\"outlinewidth\": 0, \"ticks\": \"\"}}, \"type\": \"scattercarpet\"}], \"scattergeo\": [{\"marker\": {\"colorbar\": {\"outlinewidth\": 0, \"ticks\": \"\"}}, \"type\": \"scattergeo\"}], \"scattergl\": [{\"marker\": {\"colorbar\": {\"outlinewidth\": 0, \"ticks\": \"\"}}, \"type\": \"scattergl\"}], \"scattermapbox\": [{\"marker\": {\"colorbar\": {\"outlinewidth\": 0, \"ticks\": \"\"}}, \"type\": \"scattermapbox\"}], \"scatterpolar\": [{\"marker\": {\"colorbar\": {\"outlinewidth\": 0, \"ticks\": \"\"}}, \"type\": \"scatterpolar\"}], \"scatterpolargl\": [{\"marker\": {\"colorbar\": {\"outlinewidth\": 0, \"ticks\": \"\"}}, \"type\": \"scatterpolargl\"}], \"scatterternary\": [{\"marker\": {\"colorbar\": {\"outlinewidth\": 0, \"ticks\": \"\"}}, \"type\": \"scatterternary\"}], \"surface\": [{\"colorbar\": {\"outlinewidth\": 0, \"ticks\": \"\"}, \"colorscale\": [[0.0, \"#0d0887\"], [0.1111111111111111, \"#46039f\"], [0.2222222222222222, \"#7201a8\"], [0.3333333333333333, \"#9c179e\"], [0.4444444444444444, \"#bd3786\"], [0.5555555555555556, \"#d8576b\"], [0.6666666666666666, \"#ed7953\"], [0.7777777777777778, \"#fb9f3a\"], [0.8888888888888888, \"#fdca26\"], [1.0, \"#f0f921\"]], \"type\": \"surface\"}], \"table\": [{\"cells\": {\"fill\": {\"color\": \"#EBF0F8\"}, \"line\": {\"color\": \"white\"}}, \"header\": {\"fill\": {\"color\": \"#C8D4E3\"}, \"line\": {\"color\": \"white\"}}, \"type\": \"table\"}]}, \"layout\": {\"annotationdefaults\": {\"arrowcolor\": \"#2a3f5f\", \"arrowhead\": 0, \"arrowwidth\": 1}, \"autotypenumbers\": \"strict\", \"coloraxis\": {\"colorbar\": {\"outlinewidth\": 0, \"ticks\": \"\"}}, \"colorscale\": {\"diverging\": [[0, \"#8e0152\"], [0.1, \"#c51b7d\"], [0.2, \"#de77ae\"], [0.3, \"#f1b6da\"], [0.4, \"#fde0ef\"], [0.5, \"#f7f7f7\"], [0.6, \"#e6f5d0\"], [0.7, \"#b8e186\"], [0.8, \"#7fbc41\"], [0.9, \"#4d9221\"], [1, \"#276419\"]], \"sequential\": [[0.0, \"#0d0887\"], [0.1111111111111111, \"#46039f\"], [0.2222222222222222, \"#7201a8\"], [0.3333333333333333, \"#9c179e\"], [0.4444444444444444, \"#bd3786\"], [0.5555555555555556, \"#d8576b\"], [0.6666666666666666, \"#ed7953\"], [0.7777777777777778, \"#fb9f3a\"], [0.8888888888888888, \"#fdca26\"], [1.0, \"#f0f921\"]], \"sequentialminus\": [[0.0, \"#0d0887\"], [0.1111111111111111, \"#46039f\"], [0.2222222222222222, \"#7201a8\"], [0.3333333333333333, \"#9c179e\"], [0.4444444444444444, \"#bd3786\"], [0.5555555555555556, \"#d8576b\"], [0.6666666666666666, \"#ed7953\"], [0.7777777777777778, \"#fb9f3a\"], [0.8888888888888888, \"#fdca26\"], [1.0, \"#f0f921\"]]}, \"colorway\": [\"#636efa\", \"#EF553B\", \"#00cc96\", \"#ab63fa\", \"#FFA15A\", \"#19d3f3\", \"#FF6692\", \"#B6E880\", \"#FF97FF\", \"#FECB52\"], \"font\": {\"color\": \"#2a3f5f\"}, \"geo\": {\"bgcolor\": \"white\", \"lakecolor\": \"white\", \"landcolor\": \"#E5ECF6\", \"showlakes\": true, \"showland\": true, \"subunitcolor\": \"white\"}, \"hoverlabel\": {\"align\": \"left\"}, \"hovermode\": \"closest\", \"mapbox\": {\"style\": \"light\"}, \"paper_bgcolor\": \"white\", \"plot_bgcolor\": \"#E5ECF6\", \"polar\": {\"angularaxis\": {\"gridcolor\": \"white\", \"linecolor\": \"white\", \"ticks\": \"\"}, \"bgcolor\": \"#E5ECF6\", \"radialaxis\": {\"gridcolor\": \"white\", \"linecolor\": \"white\", \"ticks\": \"\"}}, \"scene\": {\"xaxis\": {\"backgroundcolor\": \"#E5ECF6\", \"gridcolor\": \"white\", \"gridwidth\": 2, \"linecolor\": \"white\", \"showbackground\": true, \"ticks\": \"\", \"zerolinecolor\": \"white\"}, \"yaxis\": {\"backgroundcolor\": \"#E5ECF6\", \"gridcolor\": \"white\", \"gridwidth\": 2, \"linecolor\": \"white\", \"showbackground\": true, \"ticks\": \"\", \"zerolinecolor\": \"white\"}, \"zaxis\": {\"backgroundcolor\": \"#E5ECF6\", \"gridcolor\": \"white\", \"gridwidth\": 2, \"linecolor\": \"white\", \"showbackground\": true, \"ticks\": \"\", \"zerolinecolor\": \"white\"}}, \"shapedefaults\": {\"line\": {\"color\": \"#2a3f5f\"}}, \"ternary\": {\"aaxis\": {\"gridcolor\": \"white\", \"linecolor\": \"white\", \"ticks\": \"\"}, \"baxis\": {\"gridcolor\": \"white\", \"linecolor\": \"white\", \"ticks\": \"\"}, \"bgcolor\": \"#E5ECF6\", \"caxis\": {\"gridcolor\": \"white\", \"linecolor\": \"white\", \"ticks\": \"\"}}, \"title\": {\"x\": 0.05}, \"xaxis\": {\"automargin\": true, \"gridcolor\": \"white\", \"linecolor\": \"white\", \"ticks\": \"\", \"title\": {\"standoff\": 15}, \"zerolinecolor\": \"white\", \"zerolinewidth\": 2}, \"yaxis\": {\"automargin\": true, \"gridcolor\": \"white\", \"linecolor\": \"white\", \"ticks\": \"\", \"title\": {\"standoff\": 15}, \"zerolinecolor\": \"white\", \"zerolinewidth\": 2}}}, \"title\": {\"text\": \"Manatee Tracker\"}},                        {\"responsive\": true}                    ).then(function(){\n",
       "                            \n",
       "var gd = document.getElementById('dd98bd4f-71c8-43a7-9ceb-264ad5ce2d89');\n",
       "var x = new MutationObserver(function (mutations, observer) {{\n",
       "        var display = window.getComputedStyle(gd).display;\n",
       "        if (!display || display === 'none') {{\n",
       "            console.log([gd, 'removed!']);\n",
       "            Plotly.purge(gd);\n",
       "            observer.disconnect();\n",
       "        }}\n",
       "}});\n",
       "\n",
       "// Listen for the removal of the full notebook cells\n",
       "var notebookContainer = gd.closest('#notebook-container');\n",
       "if (notebookContainer) {{\n",
       "    x.observe(notebookContainer, {childList: true});\n",
       "}}\n",
       "\n",
       "// Listen for the clearing of the current output cell\n",
       "var outputEl = gd.closest('.output');\n",
       "if (outputEl) {{\n",
       "    x.observe(outputEl, {childList: true});\n",
       "}}\n",
       "\n",
       "                        })                };                });            </script>        </div>"
      ]
     },
     "metadata": {},
     "output_type": "display_data"
    }
   ],
   "source": [
    "# create plot\n",
    "manateeTracker = px.scatter_mapbox(manateeTrackerdf, lon ='X', lat = 'Y', color = 'ACTIVITY', size='Total Number of Manatees',title = 'Manatee Tracker', labels = {'ACTIVITY':'Activity'}, hover_data = {'ACTIVITY': True,'Total Number of Manatees':True,'X':False, 'Y': False})\n",
    "manateeTracker.update_layout(mapbox_style=\"open-street-map\",margin={\"r\":0,\"t\":0,\"l\":0,\"b\":0},paper_bgcolor='#f1faee')"
   ]
  },
  {
   "cell_type": "code",
   "execution_count": null,
   "metadata": {
    "scrolled": true
   },
   "outputs": [],
   "source": [
    "sidebarstyle = {\n",
    "    'position': 'fixed',\n",
    "    'top': 0,\n",
    "    'left': 0,\n",
    "    'bottom': 0,\n",
    "    'width': '25%',\n",
    "    'padding': '15px 15px',\n",
    "    'background-color': '#457b9d'}\n",
    "\n",
    "mainpagestyle = {\n",
    "    'margin-left': '27%',\n",
    "    'margin-right': '3%',\n",
    "    'padding': '5px 5px',\n",
    "    'background-color': '#f1faee'}\n",
    "\n",
    "textstyle = {\n",
    "    'textAlign': 'center',\n",
    "    'color': '#1d3557'}\n",
    "\n",
    "sidebartextsytle= {\n",
    "    'textAlign': 'justified',\n",
    "    'color': '#edf6f9'}\n",
    "\n",
    "sidebar = html.Div([html.H2('About', style=sidebartextsytle),\n",
    "                    html.Hr(),\n",
    "                    html.P('This dashboard was created to bring attention to the Save the Manatee Club, a non-profit organization established by Jimmy Buffett in 1981. Save the Manatee works to protect and resuce this large marine mammal species through raising money, education, and increasing awareness. The number one cause of manatee death is due to human activities. We now need to protect this threatened species for future generations.', style=sidebartextsytle),\n",
    "                    html.H3('Live Webcam', style=sidebartextstyle),\n",
    "                    html.Iframe(src=\"https://www.youtube.com/embed/-2v0b1uJBMs\"),\n",
    "                    html.Iframe(src=\"https://www.youtube.com/embed/MlPYbPeLpLc\"),\n",
    "                    html.A(html.Button('Final Reflection!'),href='https://docs.google.com/document/d/1V68aLQz3ZGlRs48LezARQowZXLN3Jh4Elip2_Rmp7Lk/edit?usp=sharing')\n",
    "                   ],style=sidebarstyle)\n",
    "\n",
    "firstrow = dbc.Row([dbc.Col(dcc.Graph(figure= manateeTracker), md=12,)])\n",
    "\n",
    "secondrow = dbc.Row([dbc.Col(dcc.Graph(figure= coastalcountchart), md=6), \n",
    "                     dbc.Col(dcc.Graph(figure= mortalitycausechart), md=6)])\n",
    "\n",
    "mainpage = html.Div([html.H2('Save the Manatee', style=textstyle),\n",
    "                     html.H4('Can you help?', style=textstyle), \n",
    "                     html.Hr(), \n",
    "                     firstrow, \n",
    "                     html.Br(),\n",
    "                     html.P('Check out where manatees are and what they are doing!',style=textstyle),\n",
    "                     html.Hr(),\n",
    "                     secondrow,\n",
    "                     html.Br(),\n",
    "                     html.P('As shown manatee population in Florida has continued to grow over the past 20 years, but the species just recently became no longer endangered. In 2017, manatees were classified as \"vulnerable\" by the International Union for Conservation of Nature (IUCN) and as threatened by the U.S. Fish & Wildlife Service and at the state level by the Florida Fish & Wildlife Conservation Commission (FWC). This means they are not endangered but are still in danger and humans should be cautious in their prescence. The graph on the left analyzes the number one cause of manatee death which is by Watercraft.',style=textstyle)\n",
    "                    ], style=mainpagestyle)\n",
    "\n",
    "app = dash.Dash(external_stylesheets=[dbc.themes.BOOTSTRAP])\n",
    "app.layout = html.Div([sidebar, mainpage])\n",
    "\n",
    "\n",
    "if __name__ == '__main__':\n",
    "    app.run_server()"
   ]
  },
  {
   "cell_type": "code",
   "execution_count": null,
   "metadata": {},
   "outputs": [],
   "source": []
  }
 ],
 "metadata": {
  "kernelspec": {
   "display_name": "Python 3",
   "language": "python",
   "name": "python3"
  },
  "language_info": {
   "codemirror_mode": {
    "name": "ipython",
    "version": 3
   },
   "file_extension": ".py",
   "mimetype": "text/x-python",
   "name": "python",
   "nbconvert_exporter": "python",
   "pygments_lexer": "ipython3",
   "version": "3.8.5"
  }
 },
 "nbformat": 4,
 "nbformat_minor": 4
}
