{
 "cells": [
  {
   "cell_type": "code",
   "execution_count": null,
   "metadata": {
    "scrolled": false
   },
   "outputs": [],
   "source": [
    "import dash\n",
    "import dash_core_components as dcc\n",
    "import dash_bootstrap_components as dbc\n",
    "import dash_html_components as html\n",
    "import plotly.express as px\n",
    "import plotly.graph_objects as go\n",
    "import pandas as pd"
   ]
  },
  {
   "cell_type": "code",
   "execution_count": null,
   "metadata": {},
   "outputs": [],
   "source": [
    "coastalcount = pd.read_csv('Synopsis Survey.csv')\n",
    "Total_percent_change= round(((coastalcount.loc[32]['Total']/coastalcount.loc[0]['Total'])*100),2)\n",
    "Total_percent_change"
   ]
  },
  {
   "cell_type": "code",
   "execution_count": null,
   "metadata": {
    "scrolled": false
   },
   "outputs": [],
   "source": [
    "coastalcount = pd.read_csv('Synopsis Survey.csv')\n",
    "coastalcountchart = px.line(coastalcount, x = \"Year\", y = ['Total','East', 'West'],\n",
    "                            color_discrete_sequence=['#f28482','#d4d4d4','#b6c5d1'], \n",
    "                            title = \"Manatee on the Florida Coasts\",\n",
    "                            labels={\"value\": \"Number of Manatees\", \"variable\": \"Coast\", \"Year\":''})\n",
    "coastalcountchart.update_layout(margin=dict(l=2, r=2, t=32, b=30),paper_bgcolor='#f1faee', plot_bgcolor = '#FFFFFF',  legend=dict(x=0,y=1.0,bgcolor='rgba(255, 255, 255, 0)'))\n",
    "coastalcountchart.add_annotation(x=2005, y=5500,\n",
    "            text=(\"Total Population Increase of \" + str(Total_percent_change) + \"%\"),\n",
    "            showarrow=False)\n",
    "coastalcountchart"
   ]
  },
  {
   "cell_type": "code",
   "execution_count": null,
   "metadata": {
    "scrolled": false
   },
   "outputs": [],
   "source": [
    "mortalitycause = pd.read_csv('Manatee Mortality Rates.csv')\n",
    "mortalitycause\n",
    "mortalitycausesum = mortalitycause.sum(axis=0, skipna=True)\n",
    "mortalitycausesum "
   ]
  },
  {
   "cell_type": "code",
   "execution_count": null,
   "metadata": {
    "scrolled": false
   },
   "outputs": [],
   "source": [
    "colors = ['a',] * 7 \n",
    "colors[0] = 'b'\n",
    "mortalitycausechart = px.bar(x = ['Watercraft', 'Perinatal', 'Natural', 'Not Necropsied', 'Cold Stress', 'Other: Human', 'Flood/Gate Lock'], y = [654,619,585,540,270,78,32], labels={\"x\": \"Cause of Death\", \"y\": \"Number of Manatee Deaths\"}, color = colors, color_discrete_sequence = ['#f28482','#e5e5e5'], title = 'Watercrafts are the number one cause of Manatee death')\n",
    "mortalitycausechart.update_layout(margin=dict(l=2, r=2, t=32, b=30),paper_bgcolor='#f1faee', plot_bgcolor = '#FFFFFF', showlegend=False)\n",
    "mortalitycausechart"
   ]
  },
  {
   "cell_type": "code",
   "execution_count": null,
   "metadata": {},
   "outputs": [],
   "source": [
    "# load dataset already stored as dataframe\n",
    "manateeTrackerdf = pd.read_csv('Manatee_Sightings.csv')\n",
    "manateeTrackerdf['Total Number of Manatees'] = manateeTrackerdf['NUMBER_ADULT_MANATEES'] + manateeTrackerdf['NUMBER_CALF_MANATEES']\n",
    "manateeTrackerdf"
   ]
  },
  {
   "cell_type": "code",
   "execution_count": null,
   "metadata": {
    "scrolled": true
   },
   "outputs": [],
   "source": [
    "# create plot\n",
    "manateeTracker = px.scatter_mapbox(manateeTrackerdf, lon ='X', lat = 'Y', color = 'ACTIVITY', size='Total Number of Manatees',title = 'Manatee Tracker', labels = {'ACTIVITY':'Activity'}, hover_data = {'ACTIVITY': True,'Total Number of Manatees':True,'X':False, 'Y': False})\n",
    "manateeTracker.update_layout(mapbox_style=\"open-street-map\",margin={\"r\":0,\"t\":0,\"l\":0,\"b\":0},paper_bgcolor='#f1faee')"
   ]
  },
  {
   "cell_type": "code",
   "execution_count": null,
   "metadata": {
    "scrolled": true
   },
   "outputs": [],
   "source": [
    "sidebarstyle = {\n",
    "    'position': 'fixed',\n",
    "    'top': 0,\n",
    "    'left': 0,\n",
    "    'bottom': 0,\n",
    "    'width': '25%',\n",
    "    'padding': '15px 15px',\n",
    "    'background-color': '#457b9d'}\n",
    "\n",
    "mainpagestyle = {\n",
    "    'margin-left': '27%',\n",
    "    'margin-right': '3%',\n",
    "    'padding': '5px 5px',\n",
    "    'background-color': '#f1faee'}\n",
    "\n",
    "textstyle = {\n",
    "    'textAlign': 'center',\n",
    "    'color': '#1d3557'}\n",
    "\n",
    "sidebartextsytle= {\n",
    "    'textAlign': 'justified',\n",
    "    'color': '#edf6f9'}\n",
    "\n",
    "sidebar = html.Div([html.H2('About', style=sidebartextsytle),\n",
    "                    html.Hr(),\n",
    "                    html.P('This dashboard was created to bring attention to the Save the Manatee Club, a non-profit organization established by Jimmy Buffett in 1981. Save the Manatee works to protect and resuce this large marine mammal species through raising money, education, and increasing awareness. The number one cause of manatee death is due to human activities. We now need to protect this threatened species for future generations.', style=sidebartextsytle),\n",
    "                    html.H3('Live Webcam', style=sidebartextstyle),\n",
    "                    html.Iframe(src=\"https://www.youtube.com/embed/-2v0b1uJBMs\"),\n",
    "                    html.Iframe(src=\"https://www.youtube.com/embed/MlPYbPeLpLc\"),\n",
    "                    html.A(html.Button('Final Reflection!'),href='https://docs.google.com/document/d/1V68aLQz3ZGlRs48LezARQowZXLN3Jh4Elip2_Rmp7Lk/edit?usp=sharing')\n",
    "                   ],style=sidebarstyle)\n",
    "\n",
    "firstrow = dbc.Row([dbc.Col(dcc.Graph(figure= manateeTracker), md=12,)])\n",
    "\n",
    "secondrow = dbc.Row([dbc.Col(dcc.Graph(figure= coastalcountchart), md=6), \n",
    "                     dbc.Col(dcc.Graph(figure= mortalitycausechart), md=6)])\n",
    "\n",
    "mainpage = html.Div([html.H2('Save the Manatee', style=textstyle),\n",
    "                     html.H4('Can you help?', style=textstyle), \n",
    "                     html.Hr(), \n",
    "                     firstrow, \n",
    "                     html.Br(),\n",
    "                     html.P('Check out where manatees are and what they are doing!',style=textstyle),\n",
    "                     html.Hr(),\n",
    "                     secondrow,\n",
    "                     html.Br(),\n",
    "                     html.P('As shown manatee population in Florida has continued to grow over the past 20 years, but the species just recently became no longer endangered. In 2017, manatees were classified as \"vulnerable\" by the International Union for Conservation of Nature (IUCN) and as threatened by the U.S. Fish & Wildlife Service and at the state level by the Florida Fish & Wildlife Conservation Commission (FWC). This means they are not endangered but are still in danger and humans should be cautious in their prescence. The graph on the left analyzes the number one cause of manatee death which is by Watercraft.',style=textstyle)\n",
    "                    ], style=mainpagestyle)\n",
    "\n",
    "app = dash.Dash(external_stylesheets=[dbc.themes.BOOTSTRAP])\n",
    "app.layout = html.Div([sidebar, mainpage])\n",
    "\n",
    "\n",
    "if __name__ == '__main__':\n",
    "    app.run_server()"
   ]
  },
  {
   "cell_type": "code",
   "execution_count": null,
   "metadata": {},
   "outputs": [],
   "source": []
  }
 ],
 "metadata": {
  "kernelspec": {
   "display_name": "Python 3",
   "language": "python",
   "name": "python3"
  },
  "language_info": {
   "codemirror_mode": {
    "name": "ipython",
    "version": 3
   },
   "file_extension": ".py",
   "mimetype": "text/x-python",
   "name": "python",
   "nbconvert_exporter": "python",
   "pygments_lexer": "ipython3",
   "version": "3.8.5"
  }
 },
 "nbformat": 4,
 "nbformat_minor": 4
}
